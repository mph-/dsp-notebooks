{
 "cells": [
  {
   "cell_type": "markdown",
   "metadata": {},
   "source": [
    "# Signal Processing\n",
    "\n",
    "M.P. Hayes, Electrical and Computer Engineering, University of Canterbury\n",
    "\n",
    "The code for these demos is available from https://github.com/mph-/dsp-notebooks. \n",
    "\n",
    "[Click here](intro/git-update.ipynb) to update the notebook files.   To report a bug, see https://github.com/mph-/dsp-notebooks/issues/new."
   ]
  },
  {
   "cell_type": "markdown",
   "metadata": {},
   "source": [
    "## Introduction\n",
    "1. [Signal types](intro/signal_types_demo1.ipynb)\n",
    "1. [Common signals](intro/common_signals.ipynb)\n",
    "1. [Discrete-time signals](intro/discrete_time_demo1.ipynb)"
   ]
  },
  {
   "cell_type": "markdown",
   "metadata": {},
   "source": [
    "## Fourier transform\n",
    "1. [Signal synthesis](intro/synthesis_demo1.ipynb)\n",
    "1. [Square wave synthesis](intro/square_wave_synthesis_demo1.ipynb)\n",
    "1. [Triangle wave synthesis](intro/triangle_wave_synthesis_demo1.ipynb)\n",
    "1. [Fourier transforms](intro/fourier_transforms_demo1.ipynb)\n",
    "1. [Fourier transform theorems](intro/fourier_theorems_demo1.ipynb)"
   ]
  },
  {
   "cell_type": "markdown",
   "metadata": {},
   "source": [
    "## Noise\n",
    "1. [White Gaussian noise](intro/noise_demo1.ipynb)\n",
    "1. [Thermal noise](intro/thermalnoise_demo.ipynb)\n",
    "1. [Flicker noise](intro/flickernoise_demo.ipynb)\n",
    "1. [Sinewave plus additive white Gaussian noise](intro/sinewave_plus_noise_demo1.ipynb)\n",
    "1. [Filtered white Gaussian noise](intro/filtered_noise_demo1.ipynb)"
   ]
  },
  {
   "cell_type": "markdown",
   "metadata": {},
   "source": [
    "## Analogue filters\n",
    "1. [Analogue filter types](intro/filters.ipynb)\n",
    "1. [Notch filter example](intro/notch_filter.ipynb)\n",
    "1. [System responses](intro/system_responses_intro.ipynb)\n"
   ]
  },
  {
   "cell_type": "markdown",
   "metadata": {},
   "source": [
    "## Convolution\n",
    "1. [Convolution](intro/convolution_demo1.ipynb)\n",
    "1. [Impulse response](intro/impulse_response_demo1.ipynb)"
   ]
  },
  {
   "cell_type": "markdown",
   "metadata": {},
   "source": [
    "## Discrete-time signals\n",
    "1. [Sampling](intro/sampling_demo1.ipynb)\n",
    "1. [Interpolation](intro/interpolation_demo1.ipynb)"
   ]
  },
  {
   "cell_type": "markdown",
   "metadata": {},
   "source": [
    "## Simple digital filters"
   ]
  },
  {
   "cell_type": "markdown",
   "metadata": {},
   "source": [
    "1. [Moving average low-pass filter](intro/ma_lpf_demo1.ipynb)\n",
    "1. [First order recursive low-pass filter](intro/iir_lpf_demo1.ipynb)\n",
    "1. [First order recursive high-pass filter](intro/iir_hpf_demo2.ipynb)"
   ]
  },
  {
   "cell_type": "markdown",
   "metadata": {},
   "source": [
    "## Discrete-time Fourier transform\n",
    "1. [Moving average low-pass filter](intro/ma_lpf_dtft_demo1.ipynb)\n",
    "1. [First order recursive low-pass filter](intro/iir_lpf_dtft_demo1.ipynb)\n",
    "1. [First order recursive filters (audio)](intro/iir_lpf_demo2.ipynb)"
   ]
  },
  {
   "cell_type": "markdown",
   "metadata": {},
   "source": [
    "## Impulse response\n",
    "1. [Moving average low-pass filter](intro/ma_lpf_impulse_demo1.ipynb)\n",
    "1. [First order recursive low-pass filter](intro/iir_lpf_impulse_demo1.ipynb)"
   ]
  },
  {
   "cell_type": "markdown",
   "metadata": {},
   "source": [
    "## Discrete convolution\n",
    "1. [Convolution](intro/discrete_convolution_demo1.ipynb)\n",
    "1. [FIR filter: ADT (audio)](intro/adt_demo1.ipynb)\n",
    "1. [FIR filter: reverb (audio)](intro/convolution_audio_demo1.ipynb)"
   ]
  },
  {
   "cell_type": "markdown",
   "metadata": {},
   "source": [
    "## Filter design\n",
    "1. [Butterworth digital filter](intro/dt_butterworth_demo1.ipynb)\n",
    "2. [Approximating analogue filters](intro/dt_analog_filter_demo1.ipynb)"
   ]
  },
  {
   "cell_type": "markdown",
   "metadata": {},
   "source": [
    "## Sampling\n",
    "1. [Sampling](intro/sampling_demo1.ipynb)\n",
    "1. [Reconstruction](intro/reconstruction_demo1.ipynb)"
   ]
  },
  {
   "cell_type": "markdown",
   "metadata": {},
   "source": [
    "## Discrete Fourier transform\n",
    "1. [Discrete Fourier transform (DFT)](intro/dft_demo1.ipynb)\n",
    "1. [Window functions](intro/window_demo1.ipynb)"
   ]
  },
  {
   "cell_type": "markdown",
   "metadata": {},
   "source": [
    "## Sonar\n",
    "1. [Sonar time of flight](intro/sonar_tof.ipynb)\n",
    "1. [Sonar beam pattern](intro/sonar_beampattern.ipynb)\n",
    "1. [Sonar transducer arrays](intro/sonar_arrays.ipynb)"
   ]
  },
  {
   "cell_type": "markdown",
   "metadata": {},
   "source": [
    "## IR range sensor"
   ]
  },
  {
   "cell_type": "markdown",
   "metadata": {},
   "source": [
    "1. [Principle](intro/ir_range_sensor.ipynb)"
   ]
  }
 ],
 "metadata": {
  "kernelspec": {
   "display_name": "Python 3",
   "language": "python",
   "name": "python3"
  },
  "language_info": {
   "codemirror_mode": {
    "name": "ipython",
    "version": 3
   },
   "file_extension": ".py",
   "mimetype": "text/x-python",
   "name": "python",
   "nbconvert_exporter": "python",
   "pygments_lexer": "ipython3",
   "version": "3.7.7"
  }
 },
 "nbformat": 4,
 "nbformat_minor": 2
}
