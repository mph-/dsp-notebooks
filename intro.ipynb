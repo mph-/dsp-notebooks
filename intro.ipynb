{
 "cells": [
  {
   "cell_type": "markdown",
   "metadata": {},
   "source": [
    "# Signal Processing\n",
    "\n",
    "M.P. Hayes, Electrical and Computer Engineering, University of Canterbury\n",
    "\n",
    "The code for these demos is available from https://eng-git.canterbury.ac.nz/mph/dsp-notebooks. \n",
    "\n",
    "[Click here](intro/git-update.ipynb) to update the notebook files.   To report a bug, see https://eng-git.canterbury.ac.nz/mph/dsp-notebooks/issues/new."
   ]
  },
  {
   "cell_type": "markdown",
   "metadata": {},
   "source": [
    "## Introduction\n",
    "1. [Signal types](intro/signal_types_demo1.ipynb)\n",
    "1. [Common signals](intro/common_signals.ipynb)\n",
    "1. [Discrete-time signals](intro/discrete_time_demo1.ipynb)"
   ]
  },
  {
   "cell_type": "markdown",
   "metadata": {},
   "source": [
    "## Fourier transform\n",
    "1. [Signal synthesis](intro/synthesis_demo1.ipynb)\n",
    "1. [Square wave synthesis](intro/square_wave_synthesis_demo1.ipynb)\n",
    "1. [Triangle wave synthesis](intro/triangle_wave_synthesis_demo1.ipynb)\n",
    "1. [Fourier transform](intro/fourier_demo1.ipynb)"
   ]
  },
  {
   "cell_type": "markdown",
   "metadata": {},
   "source": [
    "## Convolution\n",
    "1. [Convolution](intro/convolution_demo1.ipynb)"
   ]
  },
  {
   "cell_type": "markdown",
   "metadata": {},
   "source": [
    "## Analogue filters\n",
    "1. [Analogue filter types](intro/filters.ipynb)\n",
    "1. [Notch filter example](intro/notch_filter.ipynb)\n",
    "1. [System responses](intro/system_responses.ipynb)\n"
   ]
  },
  {
   "cell_type": "markdown",
   "metadata": {},
   "source": [
    "## Discrete-time signals\n",
    "1. [Sampling](intro/sampling_demo1.ipynb)\n",
    "1. [Interpolation](intro/interpolation_demo1.ipynb)"
   ]
  },
  {
   "cell_type": "markdown",
   "metadata": {},
   "source": [
    "## Noise processes\n",
    "1. [Additive white Gaussian noise](intro/noise_demo1.ipynb)\n",
    "1. [Sinewave plus additive white Gaussian noise](intro/sinewave_plus_noise_demo1.ipynb)"
   ]
  },
  {
   "cell_type": "markdown",
   "metadata": {},
   "source": [
    "## Simple digital filters"
   ]
  },
  {
   "cell_type": "markdown",
   "metadata": {},
   "source": [
    "1. [Moving average low-pass filter](intro/ma_lpf_demo1.ipynb)\n",
    "1. [First order recursive low-pass filter](intro/iir_lpf_demo1.ipynb)"
   ]
  },
  {
   "cell_type": "markdown",
   "metadata": {},
   "source": [
    "## Discrete-time Fourier transform\n",
    "1. [Moving average low-pass filter, impulse response and DTFT](intro/ma_lpf_dtft_demo1.ipynb)\n",
    "1. [First order recursive low-pass filter, impulse response and DTFT](intro/iir_lpf_dtft_demo1.ipynb)"
   ]
  },
  {
   "cell_type": "markdown",
   "metadata": {},
   "source": [
    "## Discrete convolution"
   ]
  },
  {
   "cell_type": "markdown",
   "metadata": {},
   "source": [
    "1. [Convolution](intro/discrete_convolution_demo1.ipynb)\n",
    "1. [Convolution filter example](intro/convolution_audio_demo1.ipynb)"
   ]
  },
  {
   "cell_type": "markdown",
   "metadata": {},
   "source": [
    "## Discrete Fourier transform"
   ]
  },
  {
   "cell_type": "markdown",
   "metadata": {},
   "source": [
    "1. [Discrete Fourier transform (DFT)](intro/dft_demo1.ipynb)\n",
    "1. [Window functions](intro/window_demo1.ipynb)"
   ]
  },
  {
   "cell_type": "markdown",
   "metadata": {},
   "source": [
    "## Audio examples"
   ]
  },
  {
   "cell_type": "markdown",
   "metadata": {},
   "source": [
    "1. [IIR low-pass filter](intro/iir_lpf_demo2.ipynb)\n",
    "1. [IIR high-pass filter](intro/iir_hpf_demo2.ipynb)\n",
    "1. [FIR filter: ADT](intro/adt_demo1.ipynb)\n",
    "1. [FIR filter: convolution filter](intro/convolution_audio_demo1.ipynb)"
   ]
  },
  {
   "cell_type": "markdown",
   "metadata": {},
   "source": [
    "## [Sonar](intro/sonar.ipynb)"
   ]
  }
 ],
 "metadata": {
  "kernelspec": {
   "display_name": "Python 3",
   "language": "python",
   "name": "python3"
  },
  "language_info": {
   "codemirror_mode": {
    "name": "ipython",
    "version": 3
   },
   "file_extension": ".py",
   "mimetype": "text/x-python",
   "name": "python",
   "nbconvert_exporter": "python",
   "pygments_lexer": "ipython3",
   "version": "3.5.2"
  }
 },
 "nbformat": 4,
 "nbformat_minor": 2
}
