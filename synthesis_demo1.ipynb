{
 "cells": [
  {
   "cell_type": "markdown",
   "metadata": {},
   "source": [
    "# Signal synthesis demo 1"
   ]
  },
  {
   "cell_type": "markdown",
   "metadata": {},
   "source": [
    "Any discrete-time periodic signal can be represented by a summation of sinewaves and cosinewaves using a Fourier series.\n",
    "\n",
    "$x[n] =  \\sum_{n=0}^{\\infty} A_n \\cos(2\\pi n f_0 / f_s) + \\sum_{n=1}^{\\infty} B_n \\sin(2\\pi n f_0 / f_s)$,\n",
    "\n",
    "where $f_0$ is the fundamental frequency.  The signal has a period $T = 1 / f_0$."
   ]
  },
  {
   "cell_type": "code",
   "execution_count": 3,
   "metadata": {},
   "outputs": [
    {
     "data": {
      "application/vnd.jupyter.widget-view+json": {
       "model_id": "b496d22434834d078d518fe88da3c17c",
       "version_major": 2,
       "version_minor": 0
      },
      "text/plain": [
       "interactive(children=(IntSlider(value=2, description='f0', max=10, min=1), IntSlider(value=5, description='B1'…"
      ]
     },
     "metadata": {},
     "output_type": "display_data"
    }
   ],
   "source": [
    "from lib.synthesis_demo1 import synthesis_demo1\n",
    "synthesis_demo1();"
   ]
  },
  {
   "cell_type": "code",
   "execution_count": null,
   "metadata": {},
   "outputs": [],
   "source": []
  }
 ],
 "metadata": {
  "kernelspec": {
   "display_name": "Python 3",
   "language": "python",
   "name": "python3"
  },
  "language_info": {
   "codemirror_mode": {
    "name": "ipython",
    "version": 3
   },
   "file_extension": ".py",
   "mimetype": "text/x-python",
   "name": "python",
   "nbconvert_exporter": "python",
   "pygments_lexer": "ipython3",
   "version": "3.5.2"
  }
 },
 "nbformat": 4,
 "nbformat_minor": 2
}
