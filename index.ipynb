{
 "cells": [
  {
   "cell_type": "markdown",
   "metadata": {},
   "source": [
    "# Digital signal processing demos"
   ]
  },
  {
   "cell_type": "markdown",
   "metadata": {},
   "source": [
    "1. [Discrete-time signals](discrete_time_demo1.ipynb)\n",
    "1. [Special discrete-time signals](special_signals.ipynb)\n",
    "1. [Sinewave signal](sinewave_demo1.ipynb)\n",
    "1. [Arbitrary sinewave signal](arbitrary_sinewave_demo1.ipynb)\n",
    "1. [Additive white Gaussian noise](noise_demo1.ipynb)\n",
    "1. [Sinewave plus additive white Gaussian nose](sinewave_plus_noise_demo1.ipynb)\n",
    "1. [Moving average low-pass filter](ma_lpf_demo1.ipynb)\n",
    "1. [First order recursive low-pass filter](iir_lpf_demo1.ipynb)\n",
    "1. [Moving average low-pass filter, impulse response and DTFT](ma_lpf_dtft_demo1.ipynb)\n",
    "1. [First order recursive low-pass filter, impulse response and DTFT](iir_lpf_dtft_demo1.ipynb)\n",
    "1. [Signal synthesis](signal_synthesis.ipynb)\n",
    "1. [Square wave synthesis](square_wave_synthesis_demo1.ipynb)\n",
    "1. [Triangle wave synthesis](triangle_wave_synthesis_demo1.ipynb)",
    "1. [Window functions](window_demo1.ipynb)"    
   ]
  }
 ],
 "metadata": {
  "kernelspec": {
   "display_name": "Python 3",
   "language": "python",
   "name": "python3"
  },
  "language_info": {
   "codemirror_mode": {
    "name": "ipython",
    "version": 3
   },
   "file_extension": ".py",
   "mimetype": "text/x-python",
   "name": "python",
   "nbconvert_exporter": "python",
   "pygments_lexer": "ipython3",
   "version": "3.5.2"
  }
 },
 "nbformat": 4,
 "nbformat_minor": 2
}
