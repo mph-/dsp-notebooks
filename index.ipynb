{
 "cells": [
  {
   "cell_type": "markdown",
   "metadata": {},
   "source": [
    "# Digital signal processing demos"
   ]
  },
  {
   "cell_type": "markdown",
   "metadata": {},
   "source": [
    "1. [Discrete-time signals](discrete_time_demo1.ipynb)\n",
    "1. [Special discrete-time signals](special_signals.ipynb)\n",
    "1. [Sinewave signal](sinewave_demo1.ipynb)\n",
    "1. [Arbitrary sinewave signal](arbitrary_sinewave_demo1.ipynb)\n",
    "1. [Additive white Gaussian noise](noise_demo1.ipynb)\n",
    "1. [Sinewave plus additive white Gaussian nose](sinewave_plus_noise_demo1.ipynb)\n",
    "1. [Moving average low-pass filter](ma_lpf_demo1.ipynb)\n",
    "1. [First order recursive low-pass filter](iir_lpf_demo1.ipynb)\n",
    "1. [Moving average low-pass filter, impulse response and DTFT](ma_lpf_dtft_demo1.ipynb)\n",
    "1. [First order recursive low-pass filter, impulse response and DTFT](iir_lpf_dtft_demo1.ipynb)\n",
    "1. [Signal synthesis](synthesis_demo1.ipynb)\n",
    "1. [Square wave synthesis](square_wave_synthesis_demo1.ipynb)\n",
    "1. [Triangle wave synthesis](triangle_wave_synthesis_demo1.ipynb)\n",
    "1. [FIR filter example: ADT](adt_demo1.ipynb)\n",
    "1. [Discrete Fourier transform (DFT)](dft_demo1.ipynb)\n",    
    "1. [Window functions](window_demo1.ipynb)\n",
    "1. [Interpolation](interpolation_demo1.ipynb)\n",
    "1. [Convolution](convolution_demo1.ipynb)\n",
    "1. [Convolution filter example](convolution_audio_demo1.ipynb)\n"
   ]
  },
  {
   "cell_type": "markdown",
   "metadata": {},
   "source": [
    "## Audio examples"
   ]
  },
  {
   "cell_type": "markdown",
   "metadata": {},
   "source": [
    "1. [IIR low-pass filter](iir_lpf_demo2.ipynb)\n",
    "1. [IIR high-pass filter](iir_hpf_demo2.ipynb)\n",
    "1. [FIR filter: ADT](adt_demo1.ipynb)\n",
    "1. [FIR filter: convolution filter](convolution_audio_demo1.ipynb)"
   ]
  }
 ],
 "metadata": {
  "kernelspec": {
   "display_name": "Python 3",
   "language": "python",
   "name": "python3"
  },
  "language_info": {
   "codemirror_mode": {
    "name": "ipython",
    "version": 3
   },
   "file_extension": ".py",
   "mimetype": "text/x-python",
   "name": "python",
   "nbconvert_exporter": "python",
   "pygments_lexer": "ipython3",
   "version": "3.5.2"
  }
 },
 "nbformat": 4,
 "nbformat_minor": 2
}
