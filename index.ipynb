{
 "cells": [
  {
   "cell_type": "markdown",
   "metadata": {},
   "source": [
    "# Introductory digital signal processing demos"
   ]
  },
  {
   "cell_type": "markdown",
   "metadata": {},
   "source": [
    "## Introduction"
   ]
  },
  {
   "cell_type": "markdown",
   "metadata": {},
   "source": [
    "1. [Discrete-time signals](intro/discrete_time_demo1.ipynb)\n",
    "1. [Special discrete-time signals](intro/special_signals.ipynb)\n",
    "1. [Sinewave signal](intro/sinewave_demo1.ipynb)\n",
    "1. [Arbitrary sinewave signal](intro/arbitrary_sinewave_demo1.ipynb)\n",
    "1. [Interpolation](intro/interpolation_demo1.ipynb)\n",
    "\n"
   ]
  },
  {
   "cell_type": "markdown",
   "metadata": {},
   "source": [
    "## Noise processes"
   ]
  },
  {
   "cell_type": "markdown",
   "metadata": {},
   "source": [
    "1. [Additive white Gaussian noise](intro/noise_demo1.ipynb)\n",
    "1. [Sinewave plus additive white Gaussian nose](intro/sinewave_plus_noise_demo1.ipynb)"
   ]
  },
  {
   "cell_type": "markdown",
   "metadata": {},
   "source": [
    "## Simple filters"
   ]
  },
  {
   "cell_type": "markdown",
   "metadata": {},
   "source": [
    "1. [Moving average low-pass filter](intro/ma_lpf_demo1.ipynb)\n",
    "1. [First order recursive low-pass filter](intro/iir_lpf_demo1.ipynb)\n",
    "1. [Moving average low-pass filter, impulse response and DTFT](intro/ma_lpf_dtft_demo1.ipynb)\n",
    "1. [First order recursive low-pass filter, impulse response and DTFT](intro/iir_lpf_dtft_demo1.ipynb)"
   ]
  },
  {
   "cell_type": "markdown",
   "metadata": {},
   "source": [
    "## Signal synthesis"
   ]
  },
  {
   "cell_type": "markdown",
   "metadata": {},
   "source": [
    "1. [Signal synthesis](intro/synthesis_demo1.ipynb)\n",
    "1. [Square wave synthesis](intro/square_wave_synthesis_demo1.ipynb)\n",
    "1. [Triangle wave synthesis](intro/triangle_wave_synthesis_demo1.ipynb)"
   ]
  },
  {
   "cell_type": "markdown",
   "metadata": {},
   "source": [
    "## Convolution"
   ]
  },
  {
   "cell_type": "markdown",
   "metadata": {},
   "source": [
    "1. [Convolution](intro/convolution_demo1.ipynb)\n",
    "1. [Convolution filter example](intro/convolution_audio_demo1.ipynb)"
   ]
  },
  {
   "cell_type": "markdown",
   "metadata": {},
   "source": [
    "## Discrete Fourier transform"
   ]
  },
  {
   "cell_type": "markdown",
   "metadata": {},
   "source": [
    "1. [Discrete Fourier transform (DFT)](intro/dft_demo1.ipynb)\n",
    "1. [Window functions](intro/window_demo1.ipynb)"
   ]
  },
  {
   "cell_type": "markdown",
   "metadata": {},
   "source": [
    "## Audio examples"
   ]
  },
  {
   "cell_type": "markdown",
   "metadata": {},
   "source": [
    "1. [IIR low-pass filter](intro/iir_lpf_demo2.ipynb)\n",
    "1. [IIR high-pass filter](intro/iir_hpf_demo2.ipynb)\n",
    "1. [FIR filter: ADT](intro/adt_demo1.ipynb)\n",
    "1. [FIR filter: convolution filter](intro/convolution_audio_demo1.ipynb)"
   ]
  }
 ],
 "metadata": {
  "kernelspec": {
   "display_name": "Python 3",
   "language": "python",
   "name": "python3"
  },
  "language_info": {
   "codemirror_mode": {
    "name": "ipython",
    "version": 3
   },
   "file_extension": ".py",
   "mimetype": "text/x-python",
   "name": "python",
   "nbconvert_exporter": "python",
   "pygments_lexer": "ipython3",
   "version": "3.5.2"
  }
 },
 "nbformat": 4,
 "nbformat_minor": 2
}
