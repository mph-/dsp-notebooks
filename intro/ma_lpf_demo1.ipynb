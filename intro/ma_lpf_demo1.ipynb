{
 "cells": [
  {
   "cell_type": "markdown",
   "metadata": {},
   "source": [
    "# Moving average low-pass filter"
   ]
  },
  {
   "cell_type": "markdown",
   "metadata": {},
   "source": [
    "## Two-sample moving average low-pass filter\n",
    "\n",
    "The simplest digital filter is a two-sample moving average filter described by\n",
    "\n",
    "$$ y[n] = 0.5(x[n] + x[n-1]).$$\n",
    "\n",
    "In the following demo $x[n] = 1 + w[n]$ where $w[n]$ is additive white Gaussian noise with zero mean and standard deviation, $\\sigma$.  This filter will halve the noise variance."
   ]
  },
  {
   "cell_type": "code",
   "execution_count": 1,
   "metadata": {},
   "outputs": [
    {
     "data": {
      "application/vnd.jupyter.widget-view+json": {
       "model_id": "5882185f1cc644e78ae30d866a6e3f86",
       "version_major": 2,
       "version_minor": 0
      },
      "text/plain": [
       "interactive(children=(IntSlider(value=100, description='N', max=1000, min=100, step=100), FloatSlider(value=0.…"
      ]
     },
     "metadata": {},
     "output_type": "display_data"
    }
   ],
   "source": [
    "%matplotlib inline\n",
    "from demos import ma2_lpf_demo1\n",
    "ma2_lpf_demo1()"
   ]
  },
  {
   "cell_type": "markdown",
   "metadata": {},
   "source": [
    "## Two-sample moving average low-pass filter\n",
    "\n",
    "A four-sample moving average filter described by\n",
    "\n",
    "$$ y[n] = 0.25(x[n] + x[n-1] + x[n-2] + x[n-3]).$$\n",
    "\n",
    "This reduces the noise variance by a factor of 4."
   ]
  },
  {
   "cell_type": "code",
   "execution_count": 2,
   "metadata": {},
   "outputs": [
    {
     "data": {
      "application/vnd.jupyter.widget-view+json": {
       "model_id": "f3a269fb99a042708d2e1cdc2d834f83",
       "version_major": 2,
       "version_minor": 0
      },
      "text/plain": [
       "interactive(children=(IntSlider(value=100, description='N', max=1000, min=100, step=100), FloatSlider(value=0.…"
      ]
     },
     "metadata": {},
     "output_type": "display_data"
    }
   ],
   "source": [
    "from demos import ma4_lpf_demo1\n",
    "ma4_lpf_demo1()"
   ]
  },
  {
   "cell_type": "markdown",
   "metadata": {},
   "source": [
    "## General moving average low-pass filter\n",
    "\n",
    "A moving average filter can be applied over a number of samples.  In general, a low-pass moving average filter has the form:\n",
    "\n",
    "$y[n] = \\frac{1}{M} \\sum_{m=0}^{M-1} x[n - m]$,\n",
    "\n",
    "where $M$ is the number of samples that are averaged.  \n",
    "\n",
    "For this example $x[n] = 1 + w[n]$ where $w[n]$ is additive white Gaussian noise with zero mean and standard deviation, $\\sigma$."
   ]
  },
  {
   "cell_type": "code",
   "execution_count": 3,
   "metadata": {},
   "outputs": [
    {
     "data": {
      "application/vnd.jupyter.widget-view+json": {
       "model_id": "fe13b167ec9345d781157b9270b997aa",
       "version_major": 2,
       "version_minor": 0
      },
      "text/plain": [
       "interactive(children=(IntSlider(value=10, description='M', min=1), IntSlider(value=100, description='N', max=1…"
      ]
     },
     "metadata": {},
     "output_type": "display_data"
    }
   ],
   "source": [
    "from demos import ma_lpf_demo1\n",
    "ma_lpf_demo1()"
   ]
  },
  {
   "cell_type": "markdown",
   "metadata": {},
   "source": [
    "## Transient response of moving average low-pass filter\n",
    "\n",
    "An $M$ sample moving average filter takes $M-1$ samples to reach steady-state after a transient event.  Thus a filter with more noise reduction takes longer to respond."
   ]
  },
  {
   "cell_type": "code",
   "execution_count": 4,
   "metadata": {},
   "outputs": [
    {
     "data": {
      "application/vnd.jupyter.widget-view+json": {
       "model_id": "f7f02a863b944cb98ebf1a6d3dfe4d86",
       "version_major": 2,
       "version_minor": 0
      },
      "text/plain": [
       "interactive(children=(IntSlider(value=4, description='M', min=1), Checkbox(value=True, description='lollipop')…"
      ]
     },
     "metadata": {},
     "output_type": "display_data"
    }
   ],
   "source": [
    "from demos import ma_lpf_step_demo1\n",
    "ma_lpf_step_demo1()"
   ]
  }
 ],
 "metadata": {
  "kernelspec": {
   "display_name": "Python 3",
   "language": "python",
   "name": "python3"
  },
  "language_info": {
   "codemirror_mode": {
    "name": "ipython",
    "version": 3
   },
   "file_extension": ".py",
   "mimetype": "text/x-python",
   "name": "python",
   "nbconvert_exporter": "python",
   "pygments_lexer": "ipython3",
   "version": "3.5.2"
  }
 },
 "nbformat": 4,
 "nbformat_minor": 2
}
