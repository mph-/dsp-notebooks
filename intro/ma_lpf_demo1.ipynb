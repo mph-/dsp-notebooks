{
 "cells": [
  {
   "cell_type": "markdown",
   "metadata": {},
   "source": [
    "# Moving average low-pass filter"
   ]
  },
  {
   "cell_type": "markdown",
   "metadata": {},
   "source": [
    "## Two-sample moving average low-pass filter\n",
    "\n",
    "The simplest digital filter is a two-sample moving average filter described by\n",
    "\n",
    "$$ y[n] = 0.5(x[n] + x[n-1]).$$\n",
    "\n",
    "In the following demo $x[n] = 1 + w[n]$ where $w[n]$ is additive white Gaussian noise with zero mean and standard deviation, $\\sigma$.  This filter will halve the noise variance."
   ]
  },
  {
   "cell_type": "code",
   "execution_count": 2,
   "metadata": {},
   "outputs": [
    {
     "data": {
      "application/vnd.jupyter.widget-view+json": {
       "model_id": "e1a912b9764c41359edfd1003c160f7e",
       "version_major": 2,
       "version_minor": 0
      },
      "text/plain": [
       "interactive(children=(IntSlider(value=100, description='N', max=1000, min=100, step=100), FloatSlider(value=0.…"
      ]
     },
     "metadata": {},
     "output_type": "display_data"
    }
   ],
   "source": [
    "%matplotlib inline\n",
    "from demos import ma2_lpf_demo1\n",
    "ma2_lpf_demo1()"
   ]
  },
  {
   "cell_type": "markdown",
   "metadata": {},
   "source": [
    "## Two-sample moving average low-pass filter\n",
    "\n",
    "A four-sample moving average filter described by\n",
    "\n",
    "$$ y[n] = 0.25(x[n] + x[n-1] + x[n-2] + x[n-3]).$$\n",
    "\n",
    "This reduces the noise variance by a factor of 4."
   ]
  },
  {
   "cell_type": "code",
   "execution_count": 3,
   "metadata": {},
   "outputs": [
    {
     "data": {
      "application/vnd.jupyter.widget-view+json": {
       "model_id": "cbe38a5b4ae84addb6fcd1ae1ff8816f",
       "version_major": 2,
       "version_minor": 0
      },
      "text/plain": [
       "interactive(children=(IntSlider(value=100, description='N', max=1000, min=100, step=100), FloatSlider(value=0.…"
      ]
     },
     "metadata": {},
     "output_type": "display_data"
    }
   ],
   "source": [
    "from demos import ma4_lpf_demo1\n",
    "ma4_lpf_demo1()"
   ]
  },
  {
   "cell_type": "markdown",
   "metadata": {},
   "source": [
    "## General moving average low-pass filter\n",
    "\n",
    "A moving average filter can be applied over a number of samples.  In general, a low-pass moving average filter has the form:\n",
    "\n",
    "$y[n] = \\frac{1}{M} \\sum_{m=0}^{M-1} x[n - m]$,\n",
    "\n",
    "where $M$ is the number of samples that are averaged.  \n",
    "\n",
    "For this example $x[n] = 1 + w[n]$ where $w[n]$ is additive white Gaussian noise with zero mean and standard deviation, $\\sigma$."
   ]
  },
  {
   "cell_type": "code",
   "execution_count": null,
   "metadata": {},
   "outputs": [],
   "source": [
    "from demos import ma_lpf_demo1\n",
    "ma_lpf_demo1()"
   ]
  },
  {
   "cell_type": "markdown",
   "metadata": {},
   "source": [
    "## Transient response of moving average low-pass filter\n",
    "\n",
    "An $M$ sample moving average filter takes $M-1$ samples to reach steady-state after a transient event.  Thus a filter with more noise reduction takes longer to respond."
   ]
  },
  {
   "cell_type": "code",
   "execution_count": null,
   "metadata": {},
   "outputs": [],
   "source": [
    "from demos import ma_lpf_step_demo1\n",
    "ma_lpf_step_demo1()"
   ]
  }
 ],
 "metadata": {
  "kernelspec": {
   "display_name": "Python 3",
   "language": "python",
   "name": "python3"
  },
  "language_info": {
   "codemirror_mode": {
    "name": "ipython",
    "version": 3
   },
   "file_extension": ".py",
   "mimetype": "text/x-python",
   "name": "python",
   "nbconvert_exporter": "python",
   "pygments_lexer": "ipython3",
   "version": "3.5.2"
  }
 },
 "nbformat": 4,
 "nbformat_minor": 2
}
