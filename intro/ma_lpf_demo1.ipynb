{
 "cells": [
  {
   "cell_type": "markdown",
   "metadata": {},
   "source": [
    "# Moving average low-pass filter"
   ]
  },
  {
   "cell_type": "markdown",
   "metadata": {},
   "source": [
    "## Two-sample moving average low-pass filter\n",
    "\n",
    "The simplest digital filter is a two-sample moving average filter described by\n",
    "\n",
    "$$ y[n] = 0.5(x[n] + x[n-1]).$$\n",
    "\n",
    "In the following demo $x[n] = 1 + w[n]$ where $w[n]$ is additive white Gaussian noise with zero mean and standard deviation, $\\sigma$.  This filter will halve the noise variance."
   ]
  },
  {
   "cell_type": "code",
   "execution_count": 1,
   "metadata": {},
   "outputs": [
    {
     "data": {
      "application/vnd.jupyter.widget-view+json": {
       "model_id": "10cd2163209349c8865d38f99d6c6ba8",
       "version_major": 2,
       "version_minor": 0
      },
      "text/plain": [
       "interactive(children=(IntSlider(value=100, description='N', max=1000, min=100, step=100), FloatSlider(value=0.…"
      ]
     },
     "metadata": {},
     "output_type": "display_data"
    }
   ],
   "source": [
    "%matplotlib inline\n",
    "from demos import ma2_lpf_demo1\n",
    "ma2_lpf_demo1()"
   ]
  },
  {
   "cell_type": "markdown",
   "metadata": {},
   "source": [
    "## Four-sample moving average low-pass filter\n",
    "\n",
    "A four-sample moving average filter described by\n",
    "\n",
    "$$ y[n] = 0.25(x[n] + x[n-1] + x[n-2] + x[n-3]).$$\n",
    "\n",
    "This reduces the noise variance by a factor of 4."
   ]
  },
  {
   "cell_type": "code",
   "execution_count": 2,
   "metadata": {},
   "outputs": [
    {
     "data": {
      "application/vnd.jupyter.widget-view+json": {
       "model_id": "6339d50997744f60b348ab7094bfa15f",
       "version_major": 2,
       "version_minor": 0
      },
      "text/plain": [
       "interactive(children=(IntSlider(value=100, description='N', max=1000, min=100, step=100), FloatSlider(value=0.…"
      ]
     },
     "metadata": {},
     "output_type": "display_data"
    }
   ],
   "source": [
    "from demos import ma4_lpf_demo1\n",
    "ma4_lpf_demo1()"
   ]
  },
  {
   "cell_type": "markdown",
   "metadata": {},
   "source": [
    "## General moving average low-pass filter\n",
    "\n",
    "A moving average filter can be applied over a number of samples.  In general, a low-pass moving average filter has the form:\n",
    "\n",
    "$y[n] = \\frac{1}{M} \\sum_{m=0}^{M-1} x[n - m]$,\n",
    "\n",
    "where $M$ is the number of samples that are averaged.  \n",
    "\n",
    "For this example $x[n] = 1 + w[n]$ where $w[n]$ is additive white Gaussian noise with zero mean and standard deviation, $\\sigma$."
   ]
  },
  {
   "cell_type": "code",
   "execution_count": 3,
   "metadata": {},
   "outputs": [
    {
     "data": {
      "application/vnd.jupyter.widget-view+json": {
       "model_id": "ca76a54e59944b54b3aef7eefc86f42f",
       "version_major": 2,
       "version_minor": 0
      },
      "text/plain": [
       "interactive(children=(IntSlider(value=10, description='M', min=1), IntSlider(value=100, description='N', max=1…"
      ]
     },
     "metadata": {},
     "output_type": "display_data"
    }
   ],
   "source": [
    "from demos import ma_lpf_demo1\n",
    "ma_lpf_demo1()"
   ]
  },
  {
   "cell_type": "markdown",
   "metadata": {},
   "source": [
    "## Transient response of moving average low-pass filter\n",
    "\n",
    "An $M$ sample moving average filter takes $M-1$ samples to reach steady-state after a transient event.  Thus a filter with more noise reduction takes longer to respond."
   ]
  },
  {
   "cell_type": "code",
   "execution_count": 4,
   "metadata": {},
   "outputs": [
    {
     "data": {
      "application/vnd.jupyter.widget-view+json": {
       "model_id": "33296c9192584b628b9e5c1df6511631",
       "version_major": 2,
       "version_minor": 0
      },
      "text/plain": [
       "interactive(children=(IntSlider(value=4, description='M', min=1), Checkbox(value=True, description='lollipop')…"
      ]
     },
     "metadata": {},
     "output_type": "display_data"
    }
   ],
   "source": [
    "from demos import ma_lpf_step_demo1\n",
    "ma_lpf_step_demo1()"
   ]
  },
  {
   "cell_type": "markdown",
   "metadata": {},
   "source": [
    "## Frequency response of moving average low-pass filter\n",
    "\n"
   ]
  },
  {
   "cell_type": "code",
   "execution_count": 5,
   "metadata": {},
   "outputs": [
    {
     "data": {
      "application/vnd.jupyter.widget-view+json": {
       "model_id": "b223f7ce93634bdcabc72a259720cae3",
       "version_major": 2,
       "version_minor": 0
      },
      "text/plain": [
       "interactive(children=(FloatSlider(value=1.0, description='f', max=10.0, step=0.25), IntSlider(value=4, descrip…"
      ]
     },
     "metadata": {},
     "output_type": "display_data"
    }
   ],
   "source": [
    "from demos import ma_lpf_freq_demo1\n",
    "ma_lpf_freq_demo1()"
   ]
  },
  {
   "cell_type": "markdown",
   "metadata": {},
   "source": [
    "## Moving average filter with toneburst\n",
    "\n",
    "The following demo shows the result of passing a toneburst through a moving average low-pass digital filter.  The sampling frequency is 100 Hz and lollipops are not used for clarity.  Notice the transient response at the start and end of the toneburst.  Also notice the time delay (phase shift).  Find out what happens when $f_0=4$ and $M=25$.  Are there other combinations that gives the same result?  What is the explanation?"
   ]
  },
  {
   "cell_type": "code",
   "execution_count": 6,
   "metadata": {},
   "outputs": [
    {
     "data": {
      "application/vnd.jupyter.widget-view+json": {
       "model_id": "10c1bd18845543e39dd150786322ffac",
       "version_major": 2,
       "version_minor": 0
      },
      "text/plain": [
       "interactive(children=(FloatSlider(value=2.0, description='f0', max=8.0, min=0.5, step=0.25), IntSlider(value=1…"
      ]
     },
     "metadata": {},
     "output_type": "display_data"
    }
   ],
   "source": [
    "from demos import ma_lpf_delay_demo1\n",
    "ma_lpf_delay_demo1()"
   ]
  }
 ],
 "metadata": {
  "kernelspec": {
   "display_name": "Python 3",
   "language": "python",
   "name": "python3"
  },
  "language_info": {
   "codemirror_mode": {
    "name": "ipython",
    "version": 3
   },
   "file_extension": ".py",
   "mimetype": "text/x-python",
   "name": "python",
   "nbconvert_exporter": "python",
   "pygments_lexer": "ipython3",
   "version": "3.7.7"
  }
 },
 "nbformat": 4,
 "nbformat_minor": 2
}
