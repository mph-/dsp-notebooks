{
 "cells": [
  {
   "cell_type": "markdown",
   "metadata": {},
   "source": [
    "# Noise signals"
   ]
  },
  {
   "cell_type": "markdown",
   "metadata": {},
   "source": [
    "Noise can be continuous time or discrete time.  It is a realisation of a random process.\n",
    "\n",
    "Discrete-time random processes are easier to understand since they are just a collection of random variables; one for each time sample.  With continuous random processes, there is a random variable for each instant.\n",
    " \n",
    "With a Gaussian random process, each random variable has a Gaussian probability distribution characterised by a mean, $\\mu$, and a standard deviation, $\\sigma$. In most cases each random variable is identically distributed; in other words each random variable has the same mean and variance.\n"
   ]
  },
  {
   "cell_type": "markdown",
   "metadata": {},
   "source": [
    "## White Gaussian noise"
   ]
  },
  {
   "cell_type": "markdown",
   "metadata": {},
   "source": [
    "A white Gaussian discrete-time noise signal has samples drawn from a discrete-time Gaussian random process\n",
    "where each random variable is independent and identically distributed (IID).  White means that each sample is independent (it has a white or flat spectrum). \n",
    "\n",
    "One (loose) way of denoting a white Gaussian noise signal is\n",
    "\n",
    "$$x[n] \\sim \\mathcal{N}(\\mu, \\sigma).$$\n",
    "\n",
    "More accurately, $x[n]$ is a realisation of a random variable, $X[n]$ where\n",
    "\n",
    "$$X[n] \\sim \\mathcal{N}(\\mu, \\sigma).$$\n",
    "\n",
    "Here each random variable is independent with a mean, $\\mu$, and standard deviation, $\\sigma$.\n",
    "\n",
    "Note, if we take a sequence of $N$ samples of a Gaussian noise signal and plot a histogram, it will not look much like a Gaussian unless $N$ is very large.  In the following demo $\\Delta t = 0.1$ s.\n",
    "\n",
    "The seed parameter is used as the starting (seed) value for the random number generator.  Changing this value produces a different realisation of the noise."
   ]
  },
  {
   "cell_type": "code",
   "execution_count": 1,
   "metadata": {
    "scrolled": false
   },
   "outputs": [
    {
     "data": {
      "application/vnd.jupyter.widget-view+json": {
       "model_id": "0c33a1214b79439882cf5a2334503ccf",
       "version_major": 2,
       "version_minor": 0
      },
      "text/plain": [
       "interactive(children=(IntSlider(value=1, description='sigma', max=10, min=1), IntSlider(value=0, description='…"
      ]
     },
     "metadata": {},
     "output_type": "display_data"
    }
   ],
   "source": [
    "%matplotlib inline\n",
    "from demos import noise_demo1\n",
    "noise_demo1();"
   ]
  }
 ],
 "metadata": {
  "kernelspec": {
   "display_name": "Python 3",
   "language": "python",
   "name": "python3"
  },
  "language_info": {
   "codemirror_mode": {
    "name": "ipython",
    "version": 3
   },
   "file_extension": ".py",
   "mimetype": "text/x-python",
   "name": "python",
   "nbconvert_exporter": "python",
   "pygments_lexer": "ipython3",
   "version": "3.7.3"
  }
 },
 "nbformat": 4,
 "nbformat_minor": 2
}
