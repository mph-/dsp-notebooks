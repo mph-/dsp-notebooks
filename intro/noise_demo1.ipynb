{
 "cells": [
  {
   "cell_type": "markdown",
   "metadata": {},
   "source": [
    "# Noise signals"
   ]
  },
  {
   "cell_type": "markdown",
   "metadata": {},
   "source": [
    "A discrete-time noise signal is a realisation of a discrete random process (a sequence of random variables). \n",
    "\n",
    "With a Gaussian random process, each random variable has a Gaussian probability distribution characterised by a mean, $\\mu$, and a standard deviation, $\\sigma$. In most cases each random variable is identically distributed; in other words each random variable has the same mean and variance.\n"
   ]
  },
  {
   "cell_type": "markdown",
   "metadata": {},
   "source": [
    "## White Gaussian noise"
   ]
  },
  {
   "cell_type": "markdown",
   "metadata": {},
   "source": [
    "A white Gaussian discrete-time noise signal has samples drawn from a discrete-time Gaussian random process\n",
    "where each random variable is independent and identically distributed (IID).  White means that each sample is independent (it has a white or flat spectrum). \n",
    "\n",
    "One (loose) way of denoting a white Gaussian noise signal is\n",
    "\n",
    "$$x[n] \\sim \\mathcal{N}(\\mu, \\sigma).$$\n",
    "\n",
    "More accurately, $x[n]$ is a realisation of a random variable, $X[n]$ where\n",
    "\n",
    "$$X[n] \\sim \\mathcal{N}(\\mu, \\sigma).$$\n",
    "\n",
    "Here each random variable is independent with a mean, $\\mu$, and standard deviation, $\\sigma$.\n",
    "\n",
    "Note, if we take a sequence of $N$ samples of a Gaussian noise signal and plot a histogram, it will not look much like a Gaussian unless $N$ is very large.  In the following demo $\\Delta t = 0.1$ s.\n",
    "\n",
    "The seed parameter is used as the starting (seed) value for the random number generator.  Changing this value produces a different realisation of the noise."
   ]
  },
  {
   "cell_type": "code",
   "execution_count": 1,
   "metadata": {
    "scrolled": false
   },
   "outputs": [
    {
     "data": {
      "application/vnd.jupyter.widget-view+json": {
       "model_id": "0c33a1214b79439882cf5a2334503ccf",
       "version_major": 2,
       "version_minor": 0
      },
      "text/plain": [
       "interactive(children=(IntSlider(value=1, description='sigma', max=10, min=1), IntSlider(value=0, description='…"
      ]
     },
     "metadata": {},
     "output_type": "display_data"
    }
   ],
   "source": [
    "%matplotlib inline\n",
    "from demos import noise_demo1\n",
    "noise_demo1();"
   ]
  },
  {
   "cell_type": "markdown",
   "metadata": {},
   "source": [
    "## Flicker noise\n",
    "\n",
    "Flicker noise also has a Gaussian PDF but it does not have a white spectral density.  The most common type of flicker noise has a power spectral densisty that is proportional to $1/f$.  The corresponding amplitude spectral density thus varies as $1/\\sqrt{f}$.\n",
    "\n",
    "In this demonstration,\n",
    "$ \\mathcal{V}(f) = \\alpha \\times 3 \\times 10^{-8} \\times f^{0.5}$"
   ]
  },
  {
   "cell_type": "code",
   "execution_count": 2,
   "metadata": {
    "scrolled": true
   },
   "outputs": [
    {
     "data": {
      "application/vnd.jupyter.widget-view+json": {
       "model_id": "a827463a83464c92b856f53072684f88",
       "version_major": 2,
       "version_minor": 0
      },
      "text/plain": [
       "interactive(children=(FloatSlider(value=3.0, description='alpha', max=5.0), IntSlider(value=100, description='…"
      ]
     },
     "metadata": {},
     "output_type": "display_data"
    }
   ],
   "source": [
    "%matplotlib inline\n",
    "from demos import flickernoise_demo1\n",
    "flickernoise_demo1();"
   ]
  }
 ],
 "metadata": {
  "kernelspec": {
   "display_name": "Python 3",
   "language": "python",
   "name": "python3"
  },
  "language_info": {
   "codemirror_mode": {
    "name": "ipython",
    "version": 3
   },
   "file_extension": ".py",
   "mimetype": "text/x-python",
   "name": "python",
   "nbconvert_exporter": "python",
   "pygments_lexer": "ipython3",
   "version": "3.7.3"
  }
 },
 "nbformat": 4,
 "nbformat_minor": 2
}
