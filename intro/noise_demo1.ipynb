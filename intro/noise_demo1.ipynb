{
 "cells": [
  {
   "cell_type": "markdown",
   "metadata": {},
   "source": [
    "# Noise demo 1"
   ]
  },
  {
   "cell_type": "markdown",
   "metadata": {},
   "source": [
    "A white Gaussian random noise signal has samples drawn from a Gaussian random process.  White means that each sample is independent (it has a white or flat spectrum).  The random process is parameterised by a mean, $\\mu$, and a standard deviation, $\\sigma$.  One way of denoting the noise signal is\n",
    "\n",
    "$x[n] \\sim \\mathcal{N}(\\mu, \\sigma)$.\n",
    "\n",
    "If we take $N$ samples from a Gaussian random process and plot a histogram, it will not look much like a Gaussian unless $N$ is very large."
   ]
  },
  {
   "cell_type": "code",
   "execution_count": 2,
   "metadata": {},
   "outputs": [
    {
     "data": {
      "application/vnd.jupyter.widget-view+json": {
       "model_id": "6a23f497af734c0e8141ab0f86a2b21f",
       "version_major": 2,
       "version_minor": 0
      },
      "text/plain": [
       "interactive(children=(IntSlider(value=1, description='sigma', max=10, min=1), IntSlider(value=0, description='…"
      ]
     },
     "metadata": {},
     "output_type": "display_data"
    }
   ],
   "source": [
    "from lib import noise_demo1\n",
    "noise_demo1();"
   ]
  },
  {
   "cell_type": "code",
   "execution_count": null,
   "metadata": {},
   "outputs": [],
   "source": []
  }
 ],
 "metadata": {
  "kernelspec": {
   "display_name": "Python 3",
   "language": "python",
   "name": "python3"
  },
  "language_info": {
   "codemirror_mode": {
    "name": "ipython",
    "version": 3
   },
   "file_extension": ".py",
   "mimetype": "text/x-python",
   "name": "python",
   "nbconvert_exporter": "python",
   "pygments_lexer": "ipython3",
   "version": "3.5.2"
  }
 },
 "nbformat": 4,
 "nbformat_minor": 2
}
