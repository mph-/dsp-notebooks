{
 "cells": [
  {
   "cell_type": "markdown",
   "metadata": {},
   "source": [
    "# Analogue filters"
   ]
  },
  {
   "cell_type": "markdown",
   "metadata": {},
   "source": [
    "A filter can be described by its frequency response, $H(f)$, or equivalently by its impulse response, $h(t)$, where $H(f)$ is the Fourier transform of $h(t)$.\n",
    "\n",
    "In the Fourier domain, a filter is described by\n",
    "\n",
    "$$ Y(f) = H(f) X(f).$$\n",
    "\n",
    "The equivalent operation in the time-domain is a convolution\n",
    "\n",
    "$$ y(t) = \\int_{-\\infty}^{\\infty} h(t-\\tau) x(\\tau) \\mathrm{d} \\tau.$$\n"
   ]
  },
  {
   "cell_type": "markdown",
   "metadata": {},
   "source": [
    "## First-order low-pass filter\n",
    "\n",
    "A first-order low-pass filter has a transfer function\n",
    "\n",
    "$$ H(s) = \\frac{\\alpha}{s + \\alpha}, $$\n",
    "\n",
    "where $\\alpha = 2\\pi f_b$ and $f_b$ is the break-frequency.\n",
    "\n",
    "With $s = \\mathrm{j} 2\\pi f$, the frequency response is\n",
    "\n",
    "$$ H(\\mathrm{j} 2\\pi f) = \\frac{f_b}{\\mathrm{j}f + f_b}.$$ \n"
   ]
  },
  {
   "cell_type": "code",
   "execution_count": 1,
   "metadata": {},
   "outputs": [
    {
     "data": {
      "application/vnd.jupyter.widget-view+json": {
       "model_id": "2851e913d51944c5b04a41d08310c147",
       "version_major": 2,
       "version_minor": 0
      },
      "text/plain": [
       "interactive(children=(IntSlider(value=100, description='fb', max=400, min=10, step=10), Dropdown(description='…"
      ]
     },
     "metadata": {},
     "output_type": "display_data"
    }
   ],
   "source": [
    "%matplotlib inline\n",
    "from demos import lpf_demo1\n",
    "lpf_demo1()"
   ]
  },
  {
   "cell_type": "code",
   "execution_count": 2,
   "metadata": {},
   "outputs": [
    {
     "data": {
      "application/vnd.jupyter.widget-view+json": {
       "model_id": "364262c8c1664acc939c5c1ad965b829",
       "version_major": 2,
       "version_minor": 0
      },
      "text/plain": [
       "interactive(children=(IntSlider(value=100, description='fb', max=400, min=10, step=10), IntSlider(value=50, de…"
      ]
     },
     "metadata": {},
     "output_type": "display_data"
    }
   ],
   "source": [
    "from demos import lpf_response_demo1\n",
    "lpf_response_demo1()"
   ]
  },
  {
   "cell_type": "markdown",
   "metadata": {},
   "source": [
    "## First-order high-pass filter\n",
    "\n",
    "A first-order high-pass filter has a transfer function\n",
    "\n",
    "$$ H(s) = \\frac{s}{s + \\alpha}, $$\n",
    "\n",
    "where $\\alpha = 2\\pi f_b$ and $f_b$ is the break-frequency.\n",
    "\n",
    "With $s = \\mathrm{j} 2\\pi f$, the frequency response is\n",
    "\n",
    "$$ H(\\mathrm{j} 2\\pi f) = \\frac{\\mathrm{j}f}{\\mathrm{j}f + f_b}.$$ \n"
   ]
  },
  {
   "cell_type": "code",
   "execution_count": 3,
   "metadata": {},
   "outputs": [
    {
     "data": {
      "application/vnd.jupyter.widget-view+json": {
       "model_id": "afbdf9a2e6ae474aa27d5b4bb865d13e",
       "version_major": 2,
       "version_minor": 0
      },
      "text/plain": [
       "interactive(children=(IntSlider(value=100, description='fb', max=400, min=10, step=10), Dropdown(description='…"
      ]
     },
     "metadata": {},
     "output_type": "display_data"
    }
   ],
   "source": [
    "from demos import hpf_demo1\n",
    "hpf_demo1()"
   ]
  },
  {
   "cell_type": "code",
   "execution_count": 4,
   "metadata": {},
   "outputs": [
    {
     "data": {
      "application/vnd.jupyter.widget-view+json": {
       "model_id": "3770311e28124547b763bb57f15fc9c9",
       "version_major": 2,
       "version_minor": 0
      },
      "text/plain": [
       "interactive(children=(IntSlider(value=100, description='fb', max=400, min=10, step=10), IntSlider(value=50, de…"
      ]
     },
     "metadata": {},
     "output_type": "display_data"
    }
   ],
   "source": [
    "from demos import hpf_response_demo1\n",
    "hpf_response_demo1()"
   ]
  },
  {
   "cell_type": "markdown",
   "metadata": {},
   "source": [
    "## Second-order low-pass filter"
   ]
  },
  {
   "cell_type": "code",
   "execution_count": 5,
   "metadata": {},
   "outputs": [
    {
     "data": {
      "application/vnd.jupyter.widget-view+json": {
       "model_id": "bafe55d9866c478a9de6fe9789e12f58",
       "version_major": 2,
       "version_minor": 0
      },
      "text/plain": [
       "interactive(children=(IntSlider(value=100, description='fb', max=400, min=10, step=10), FloatSlider(value=1.0,…"
      ]
     },
     "metadata": {},
     "output_type": "display_data"
    }
   ],
   "source": [
    "from demos import lpf_demo2\n",
    "lpf_demo2()"
   ]
  },
  {
   "cell_type": "markdown",
   "metadata": {},
   "source": [
    "## Second order high-pass filter"
   ]
  },
  {
   "cell_type": "code",
   "execution_count": 6,
   "metadata": {},
   "outputs": [
    {
     "data": {
      "application/vnd.jupyter.widget-view+json": {
       "model_id": "9bb7bffe5e8b4d3c92a413f4f918eca0",
       "version_major": 2,
       "version_minor": 0
      },
      "text/plain": [
       "interactive(children=(IntSlider(value=100, description='fb', max=400, min=10, step=10), FloatSlider(value=1.0,…"
      ]
     },
     "metadata": {},
     "output_type": "display_data"
    }
   ],
   "source": [
    "from demos import hpf_demo2\n",
    "hpf_demo2()"
   ]
  },
  {
   "cell_type": "markdown",
   "metadata": {},
   "source": [
    "## Second-order band-pass filter"
   ]
  },
  {
   "cell_type": "code",
   "execution_count": 7,
   "metadata": {},
   "outputs": [
    {
     "data": {
      "application/vnd.jupyter.widget-view+json": {
       "model_id": "87a6959daf744f7089a219a9615c8535",
       "version_major": 2,
       "version_minor": 0
      },
      "text/plain": [
       "interactive(children=(IntSlider(value=100, description='f0', max=400, min=10, step=10), FloatSlider(value=1.0,…"
      ]
     },
     "metadata": {},
     "output_type": "display_data"
    }
   ],
   "source": [
    "from demos import bpf_demo1\n",
    "bpf_demo1()"
   ]
  },
  {
   "cell_type": "code",
   "execution_count": 8,
   "metadata": {},
   "outputs": [
    {
     "data": {
      "application/vnd.jupyter.widget-view+json": {
       "model_id": "357e320d273f419fbb845fa75b887984",
       "version_major": 2,
       "version_minor": 0
      },
      "text/plain": [
       "interactive(children=(IntSlider(value=100, description='f0', max=400, min=10, step=10), FloatSlider(value=1.0,…"
      ]
     },
     "metadata": {},
     "output_type": "display_data"
    }
   ],
   "source": [
    "from demos import bpf_response_demo1\n",
    "bpf_response_demo1()"
   ]
  },
  {
   "cell_type": "markdown",
   "metadata": {},
   "source": [
    "## Second order band-stop filter"
   ]
  },
  {
   "cell_type": "code",
   "execution_count": 9,
   "metadata": {},
   "outputs": [
    {
     "data": {
      "application/vnd.jupyter.widget-view+json": {
       "model_id": "7b91dd68fe7f4058935ce465fe1ee1b2",
       "version_major": 2,
       "version_minor": 0
      },
      "text/plain": [
       "interactive(children=(IntSlider(value=100, description='f0', max=400, min=10, step=10), FloatSlider(value=1.0,…"
      ]
     },
     "metadata": {},
     "output_type": "display_data"
    }
   ],
   "source": [
    "from demos import bsf_demo1\n",
    "bsf_demo1()"
   ]
  },
  {
   "cell_type": "code",
   "execution_count": 10,
   "metadata": {},
   "outputs": [
    {
     "data": {
      "application/vnd.jupyter.widget-view+json": {
       "model_id": "0ca5694cb1814fe994e392b684a83602",
       "version_major": 2,
       "version_minor": 0
      },
      "text/plain": [
       "interactive(children=(IntSlider(value=100, description='f0', max=400, min=10, step=10), FloatSlider(value=1.0,…"
      ]
     },
     "metadata": {},
     "output_type": "display_data"
    }
   ],
   "source": [
    "from demos import bsf_response_demo1\n",
    "bsf_response_demo1()"
   ]
  },
  {
   "cell_type": "markdown",
   "metadata": {},
   "source": [
    "## Butterworth low-pass filter\n",
    "\n",
    "The following demo shows a Butterworth low-pass filter where the filter order can be modified.  When order is 2, this is equivalent to a critically damped second-order low-pass filter."
   ]
  },
  {
   "cell_type": "code",
   "execution_count": 11,
   "metadata": {},
   "outputs": [
    {
     "data": {
      "application/vnd.jupyter.widget-view+json": {
       "model_id": "8e586b27139b4c8f894b0e92e4ccd472",
       "version_major": 2,
       "version_minor": 0
      },
      "text/plain": [
       "interactive(children=(IntSlider(value=100, description='fb', max=400, min=10, step=10), IntSlider(value=2, des…"
      ]
     },
     "metadata": {},
     "output_type": "display_data"
    }
   ],
   "source": [
    "from demos import butterworth_demo1\n",
    "butterworth_demo1()"
   ]
  },
  {
   "cell_type": "code",
   "execution_count": 12,
   "metadata": {},
   "outputs": [
    {
     "data": {
      "application/vnd.jupyter.widget-view+json": {
       "model_id": "d41bf8a03e744f2a920f7b456b9baa00",
       "version_major": 2,
       "version_minor": 0
      },
      "text/plain": [
       "interactive(children=(IntSlider(value=100, description='fb', max=400, min=10, step=10), IntSlider(value=2, des…"
      ]
     },
     "metadata": {},
     "output_type": "display_data"
    }
   ],
   "source": [
    "from demos import butterworth_response_demo1\n",
    "butterworth_response_demo1()"
   ]
  }
 ],
 "metadata": {
  "kernelspec": {
   "display_name": "Python 3",
   "language": "python",
   "name": "python3"
  },
  "language_info": {
   "codemirror_mode": {
    "name": "ipython",
    "version": 3
   },
   "file_extension": ".py",
   "mimetype": "text/x-python",
   "name": "python",
   "nbconvert_exporter": "python",
   "pygments_lexer": "ipython3",
   "version": "3.5.2"
  }
 },
 "nbformat": 4,
 "nbformat_minor": 2
}
