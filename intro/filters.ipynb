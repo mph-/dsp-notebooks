{
 "cells": [
  {
   "cell_type": "markdown",
   "metadata": {},
   "source": [
    "# Analogue filters"
   ]
  },
  {
   "cell_type": "markdown",
   "metadata": {},
   "source": [
    "A filter can be described by its frequency response, $H(f)$, or equivalently by its impulse response, $h(t)$, where $H(f)$ is the Fourier transform of $h(t)$.\n",
    "\n",
    "In the Fourier domain, a filter is described by\n",
    "\n",
    "$$ Y(f) = H(f) X(f).$$\n",
    "\n",
    "The equivalent operation in the time-domain is a convolution\n",
    "\n",
    "$$ y(t) = \\int_{-\\infty}^{\\infty} h(t-\\tau) x(\\tau) \\mathrm{d} \\tau.$$\n"
   ]
  }
 ],
 "metadata": {
  "kernelspec": {
   "display_name": "Python 3",
   "language": "python",
   "name": "python3"
  },
  "language_info": {
   "codemirror_mode": {
    "name": "ipython",
    "version": 3
   },
   "file_extension": ".py",
   "mimetype": "text/x-python",
   "name": "python",
   "nbconvert_exporter": "python",
   "pygments_lexer": "ipython3",
   "version": "3.5.2"
  }
 },
 "nbformat": 4,
 "nbformat_minor": 2
}
