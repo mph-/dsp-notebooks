{
 "cells": [
  {
   "cell_type": "markdown",
   "metadata": {},
   "source": [
    "# Analogue filters"
   ]
  },
  {
   "cell_type": "markdown",
   "metadata": {},
   "source": [
    "A filter can be described by its frequency response, $H(f)$, or equivalently by its impulse response, $h(t)$, where $H(f)$ is the Fourier transform of $h(t)$.\n",
    "\n",
    "In the Fourier domain, a filter is described by\n",
    "\n",
    "$$ Y(f) = H(f) X(f).$$\n",
    "\n",
    "The equivalent operation in the time-domain is a convolution\n",
    "\n",
    "$$ y(t) = \\int_{-\\infty}^{\\infty} h(t-\\tau) x(\\tau) \\mathrm{d} \\tau.$$\n"
   ]
  },
  {
   "cell_type": "markdown",
   "metadata": {},
   "source": [
    "## First-order low-pass filter\n",
    "\n",
    "A first-order low-pass filter has a transfer function\n",
    "\n",
    "$$ H(s) = \\frac{\\alpha}{s + \\alpha}, $$\n",
    "\n",
    "where $\\alpha = 2\\pi f_b$ and $f_b$ is the break-frequency.\n",
    "\n",
    "With $s = \\mathrm{j} 2\\pi f$, the frequency response is\n",
    "\n",
    "$$ H(\\mathrm{j} 2\\pi f) = \\frac{f_b}{\\mathrm{j}f + f_b}.$$ \n"
   ]
  },
  {
   "cell_type": "code",
   "execution_count": 1,
   "metadata": {},
   "outputs": [
    {
     "data": {
      "application/vnd.jupyter.widget-view+json": {
       "model_id": "5f3a990aa5db4450bdb25eeb001daf86",
       "version_major": 2,
       "version_minor": 0
      },
      "text/plain": [
       "interactive(children=(IntSlider(value=100, description='fb', max=400, min=10, step=10), Dropdown(description='…"
      ]
     },
     "metadata": {},
     "output_type": "display_data"
    }
   ],
   "source": [
    "%matplotlib inline\n",
    "from demos import lpf_demo1\n",
    "lpf_demo1()"
   ]
  },
  {
   "cell_type": "markdown",
   "metadata": {},
   "source": [
    "## First-order high-pass filter\n",
    "\n",
    "A first-order high-pass filter has a transfer function\n",
    "\n",
    "$$ H(s) = \\frac{s}{s + \\alpha}, $$\n",
    "\n",
    "where $\\alpha = 2\\pi f_b$ and $f_b$ is the break-frequency.\n",
    "\n",
    "With $s = \\mathrm{j} 2\\pi f$, the frequency response is\n",
    "\n",
    "$$ H(\\mathrm{j} 2\\pi f) = \\frac{\\mathrm{j}f}{\\mathrm{j}f + f_b}.$$ \n"
   ]
  },
  {
   "cell_type": "code",
   "execution_count": 2,
   "metadata": {},
   "outputs": [
    {
     "data": {
      "application/vnd.jupyter.widget-view+json": {
       "model_id": "45a3235952b8459aa20d272d09bb6b6e",
       "version_major": 2,
       "version_minor": 0
      },
      "text/plain": [
       "interactive(children=(IntSlider(value=100, description='fb', max=400, min=10, step=10), Dropdown(description='…"
      ]
     },
     "metadata": {},
     "output_type": "display_data"
    }
   ],
   "source": [
    "from demos import hpf_demo1\n",
    "hpf_demo1()"
   ]
  },
  {
   "cell_type": "markdown",
   "metadata": {},
   "source": [
    "## Second-order low-pass filter"
   ]
  },
  {
   "cell_type": "code",
   "execution_count": 3,
   "metadata": {},
   "outputs": [
    {
     "data": {
      "application/vnd.jupyter.widget-view+json": {
       "model_id": "5903c97d3e534908821c3172232aceea",
       "version_major": 2,
       "version_minor": 0
      },
      "text/plain": [
       "interactive(children=(IntSlider(value=100, description='fb', max=400, min=10, step=10), FloatSlider(value=1.0,…"
      ]
     },
     "metadata": {},
     "output_type": "display_data"
    }
   ],
   "source": [
    "from demos import lpf_demo2\n",
    "lpf_demo2()"
   ]
  },
  {
   "cell_type": "markdown",
   "metadata": {},
   "source": [
    "## Second order high-pass filter"
   ]
  },
  {
   "cell_type": "code",
   "execution_count": 4,
   "metadata": {},
   "outputs": [
    {
     "data": {
      "application/vnd.jupyter.widget-view+json": {
       "model_id": "bc47e66814cc471eb05c42e2ecd35727",
       "version_major": 2,
       "version_minor": 0
      },
      "text/plain": [
       "interactive(children=(IntSlider(value=100, description='fb', max=400, min=10, step=10), FloatSlider(value=1.0,…"
      ]
     },
     "metadata": {},
     "output_type": "display_data"
    }
   ],
   "source": [
    "from demos import hpf_demo2\n",
    "hpf_demo2()"
   ]
  },
  {
   "cell_type": "markdown",
   "metadata": {},
   "source": [
    "## Second-order band-pass filter"
   ]
  },
  {
   "cell_type": "code",
   "execution_count": 5,
   "metadata": {},
   "outputs": [
    {
     "data": {
      "application/vnd.jupyter.widget-view+json": {
       "model_id": "6477d17371be496e8ebb61e809c087da",
       "version_major": 2,
       "version_minor": 0
      },
      "text/plain": [
       "interactive(children=(IntSlider(value=100, description='fb', max=400, min=10, step=10), FloatSlider(value=1.0,…"
      ]
     },
     "metadata": {},
     "output_type": "display_data"
    }
   ],
   "source": [
    "from demos import bpf_demo1\n",
    "bpf_demo1()"
   ]
  },
  {
   "cell_type": "markdown",
   "metadata": {},
   "source": [
    "## Second order band-stop filter"
   ]
  },
  {
   "cell_type": "code",
   "execution_count": 6,
   "metadata": {},
   "outputs": [
    {
     "data": {
      "application/vnd.jupyter.widget-view+json": {
       "model_id": "26aae4c4b748417fb2f0cc733cb91cbf",
       "version_major": 2,
       "version_minor": 0
      },
      "text/plain": [
       "interactive(children=(IntSlider(value=100, description='fb', max=400, min=10, step=10), FloatSlider(value=1.0,…"
      ]
     },
     "metadata": {},
     "output_type": "display_data"
    }
   ],
   "source": [
    "from demos import bsf_demo1\n",
    "bsf_demo1()"
   ]
  },
  {
   "cell_type": "markdown",
   "metadata": {},
   "source": [
    "## Butterworth low-pass filter\n",
    "\n",
    "The following demo shows a Butterworth low-pass filter where the filter order can be modified.  When order is 2, this is equivalent to a critically damped second-order low-pass filter."
   ]
  },
  {
   "cell_type": "code",
   "execution_count": 2,
   "metadata": {},
   "outputs": [
    {
     "data": {
      "application/vnd.jupyter.widget-view+json": {
       "model_id": "77853edf8c134a678b99a0f44568ed5b",
       "version_major": 2,
       "version_minor": 0
      },
      "text/plain": [
       "interactive(children=(IntSlider(value=100, description='fb', max=400, min=10, step=10), IntSlider(value=2, des…"
      ]
     },
     "metadata": {},
     "output_type": "display_data"
    }
   ],
   "source": [
    "from demos import butterworth_demo1\n",
    "butterworth_demo1()"
   ]
  }
 ],
 "metadata": {
  "kernelspec": {
   "display_name": "Python 3",
   "language": "python",
   "name": "python3"
  },
  "language_info": {
   "codemirror_mode": {
    "name": "ipython",
    "version": 3
   },
   "file_extension": ".py",
   "mimetype": "text/x-python",
   "name": "python",
   "nbconvert_exporter": "python",
   "pygments_lexer": "ipython3",
   "version": "3.5.2"
  }
 },
 "nbformat": 4,
 "nbformat_minor": 2
}
