{
 "cells": [
  {
   "cell_type": "markdown",
   "metadata": {},
   "source": [
    "# Analogue filters"
   ]
  },
  {
   "cell_type": "markdown",
   "metadata": {},
   "source": [
    "A filter can be described in three ways:\n",
    "\n",
    "1. As a convolution in the time domain:\n",
    "\n",
    "$$ y(t) = \\int_{-\\infty}^{\\infty} h(t-\\tau) x(\\tau) \\mathrm{d} \\tau,$$\n",
    "\n",
    "where $h(t)$ is the filter impulse response.\n",
    "\n",
    "2. By a multiplication in the Laplace (s) domain:\n",
    "\n",
    "$$Y(s) = X(s) H(s),$$\n",
    "\n",
    "where $H(s)$ is the transfer function.\n",
    "\n",
    "3. By a multiplication in the Fourier (frequency) domain:\n",
    "\n",
    "$$Y(f) = X(f) H(f),$$\n",
    "\n",
    "where $H(f)$ is the frequency response.\n",
    "\n",
    "It is worth noting that despite the notation, $X(f)$, is completely different to $X(s)$.  The same applies for the filter output $Y(f)$.  However, $H(s)$ and $H(f)$ are similar.  To reduce confusion, let's append a subscript $f$ to denote the frequency response as $H_f(f)$.  This can be found from the transfer function, $H(s)$, using\n",
    "\n",
    "$$H_f(f) = H(\\mathrm{j} 2\\pi f).$$\n",
    "\n",
    "This relation holds since a realisable filter is causal, i.e., $h(t) = 0 $ for $t < 0$."
   ]
  },
  {
   "cell_type": "markdown",
   "metadata": {},
   "source": [
    "## First-order low-pass filter\n",
    "\n",
    "A first-order low-pass filter has a transfer function\n",
    "\n",
    "$$ H(s) = \\frac{\\alpha}{s + \\alpha}, $$\n",
    "\n",
    "where $\\alpha = 2\\pi f_b$ and $f_b$ is the break-frequency where the magnitude of the response drops by 3 dB.\n",
    "\n",
    "With $s = \\mathrm{j} 2\\pi f$, the frequency response is\n",
    "\n",
    "$$ H(\\mathrm{j} 2\\pi f) = \\frac{f_b}{\\mathrm{j}f + f_b}.$$ \n",
    "\n",
    "and the magnitude of the frequency response is\n",
    "\n",
    "$$\\left|H(\\mathrm{j} 2\\pi f)\\right| = \\frac{f_b}{\\sqrt{f^2 + f_b^2}}.$$ "
   ]
  },
  {
   "cell_type": "code",
   "execution_count": 1,
   "metadata": {},
   "outputs": [],
   "source": [
    "%matplotlib inline"
   ]
  },
  {
   "cell_type": "code",
   "execution_count": 2,
   "metadata": {},
   "outputs": [
    {
     "data": {
      "application/vnd.jupyter.widget-view+json": {
       "model_id": "34c77821b6684047956187a80bcca0fe",
       "version_major": 2,
       "version_minor": 0
      },
      "text/plain": [
       "interactive(children=(IntSlider(value=100, description='fb', max=400, min=10, step=10), Dropdown(description='…"
      ]
     },
     "metadata": {},
     "output_type": "display_data"
    }
   ],
   "source": [
    "from demos import lpf_demo1\n",
    "lpf_demo1()"
   ]
  },
  {
   "cell_type": "code",
   "execution_count": 3,
   "metadata": {},
   "outputs": [
    {
     "data": {
      "application/vnd.jupyter.widget-view+json": {
       "model_id": "9b4144f7473b4afab57a24dfe892d68f",
       "version_major": 2,
       "version_minor": 0
      },
      "text/plain": [
       "interactive(children=(IntSlider(value=100, description='fb', max=400, min=10, step=10), IntSlider(value=50, de…"
      ]
     },
     "metadata": {},
     "output_type": "display_data"
    }
   ],
   "source": [
    "from demos import lpf_response_demo1\n",
    "lpf_response_demo1()"
   ]
  },
  {
   "cell_type": "markdown",
   "metadata": {},
   "source": [
    "## First-order high-pass filter\n",
    "\n",
    "A first-order high-pass filter has a transfer function\n",
    "\n",
    "$$ H(s) = \\frac{s}{s + \\alpha}, $$\n",
    "\n",
    "where $\\alpha = 2\\pi f_b$ and $f_b$ is the break-frequency.\n",
    "\n",
    "With $s = \\mathrm{j} 2\\pi f$, the frequency response is\n",
    "\n",
    "$$ H(\\mathrm{j} 2\\pi f) = \\frac{\\mathrm{j}f}{\\mathrm{j}f + f_b}.$$ \n"
   ]
  },
  {
   "cell_type": "code",
   "execution_count": 4,
   "metadata": {},
   "outputs": [
    {
     "data": {
      "application/vnd.jupyter.widget-view+json": {
       "model_id": "ce4e96f1be914516b501f553a66e7d4e",
       "version_major": 2,
       "version_minor": 0
      },
      "text/plain": [
       "interactive(children=(IntSlider(value=100, description='fb', max=400, min=10, step=10), Dropdown(description='…"
      ]
     },
     "metadata": {},
     "output_type": "display_data"
    }
   ],
   "source": [
    "from demos import hpf_demo1\n",
    "hpf_demo1()"
   ]
  },
  {
   "cell_type": "code",
   "execution_count": 5,
   "metadata": {},
   "outputs": [
    {
     "data": {
      "application/vnd.jupyter.widget-view+json": {
       "model_id": "d792334a6bd14d94aa850e424249464d",
       "version_major": 2,
       "version_minor": 0
      },
      "text/plain": [
       "interactive(children=(IntSlider(value=100, description='fb', max=400, min=10, step=10), IntSlider(value=50, de…"
      ]
     },
     "metadata": {},
     "output_type": "display_data"
    }
   ],
   "source": [
    "from demos import hpf_response_demo1\n",
    "hpf_response_demo1()"
   ]
  },
  {
   "cell_type": "markdown",
   "metadata": {},
   "source": [
    "## Second-order low-pass filter"
   ]
  },
  {
   "cell_type": "code",
   "execution_count": 6,
   "metadata": {},
   "outputs": [
    {
     "data": {
      "application/vnd.jupyter.widget-view+json": {
       "model_id": "fc3e406da4ea43408683bc9e2bc2d70c",
       "version_major": 2,
       "version_minor": 0
      },
      "text/plain": [
       "interactive(children=(IntSlider(value=100, description='fb', max=400, min=10, step=10), FloatSlider(value=1.0,…"
      ]
     },
     "metadata": {},
     "output_type": "display_data"
    }
   ],
   "source": [
    "from demos import lpf_demo2\n",
    "lpf_demo2()"
   ]
  },
  {
   "cell_type": "markdown",
   "metadata": {},
   "source": [
    "## Second order high-pass filter"
   ]
  },
  {
   "cell_type": "code",
   "execution_count": 7,
   "metadata": {},
   "outputs": [
    {
     "data": {
      "application/vnd.jupyter.widget-view+json": {
       "model_id": "0aad05dc3f1b4b8387ff93577f61cb57",
       "version_major": 2,
       "version_minor": 0
      },
      "text/plain": [
       "interactive(children=(IntSlider(value=100, description='fb', max=400, min=10, step=10), FloatSlider(value=1.0,…"
      ]
     },
     "metadata": {},
     "output_type": "display_data"
    }
   ],
   "source": [
    "from demos import hpf_demo2\n",
    "hpf_demo2()"
   ]
  },
  {
   "cell_type": "markdown",
   "metadata": {},
   "source": [
    "## Second-order band-pass filter"
   ]
  },
  {
   "cell_type": "code",
   "execution_count": 8,
   "metadata": {},
   "outputs": [
    {
     "data": {
      "application/vnd.jupyter.widget-view+json": {
       "model_id": "0e2cfb3d1cf74919a5bf118d97815d28",
       "version_major": 2,
       "version_minor": 0
      },
      "text/plain": [
       "interactive(children=(IntSlider(value=100, description='f0', max=400, min=10, step=10), FloatSlider(value=1.0,…"
      ]
     },
     "metadata": {},
     "output_type": "display_data"
    }
   ],
   "source": [
    "from demos import bpf_demo1\n",
    "bpf_demo1()"
   ]
  },
  {
   "cell_type": "code",
   "execution_count": 9,
   "metadata": {},
   "outputs": [
    {
     "data": {
      "application/vnd.jupyter.widget-view+json": {
       "model_id": "8298462da27f4d5f90ed7afe303813d5",
       "version_major": 2,
       "version_minor": 0
      },
      "text/plain": [
       "interactive(children=(IntSlider(value=100, description='f0', max=400, min=10, step=10), FloatSlider(value=1.0,…"
      ]
     },
     "metadata": {},
     "output_type": "display_data"
    }
   ],
   "source": [
    "from demos import bpf_response_demo1\n",
    "bpf_response_demo1()"
   ]
  },
  {
   "cell_type": "markdown",
   "metadata": {},
   "source": [
    "## Second order band-stop filter"
   ]
  },
  {
   "cell_type": "code",
   "execution_count": 10,
   "metadata": {},
   "outputs": [
    {
     "data": {
      "application/vnd.jupyter.widget-view+json": {
       "model_id": "5573a8d212ff49c39ccd4211d84595a2",
       "version_major": 2,
       "version_minor": 0
      },
      "text/plain": [
       "interactive(children=(IntSlider(value=100, description='f0', max=400, min=10, step=10), FloatSlider(value=1.0,…"
      ]
     },
     "metadata": {},
     "output_type": "display_data"
    }
   ],
   "source": [
    "from demos import bsf_demo1\n",
    "bsf_demo1()"
   ]
  },
  {
   "cell_type": "code",
   "execution_count": 11,
   "metadata": {},
   "outputs": [
    {
     "data": {
      "application/vnd.jupyter.widget-view+json": {
       "model_id": "d36c3e766ab04feab8035a79e1c51523",
       "version_major": 2,
       "version_minor": 0
      },
      "text/plain": [
       "interactive(children=(IntSlider(value=100, description='f0', max=400, min=10, step=10), FloatSlider(value=1.0,…"
      ]
     },
     "metadata": {},
     "output_type": "display_data"
    }
   ],
   "source": [
    "from demos import bsf_response_demo1\n",
    "bsf_response_demo1()"
   ]
  },
  {
   "cell_type": "markdown",
   "metadata": {},
   "source": [
    "## Butterworth low-pass filter\n",
    "\n",
    "The following demo shows a Butterworth low-pass filter where the filter order can be modified.  When order is 2, this is equivalent to a critically damped second-order low-pass filter."
   ]
  },
  {
   "cell_type": "code",
   "execution_count": 12,
   "metadata": {},
   "outputs": [
    {
     "data": {
      "application/vnd.jupyter.widget-view+json": {
       "model_id": "70434729546740fb81e94c25f6473822",
       "version_major": 2,
       "version_minor": 0
      },
      "text/plain": [
       "interactive(children=(IntSlider(value=100, description='fb', max=400, min=10, step=10), IntSlider(value=2, des…"
      ]
     },
     "metadata": {},
     "output_type": "display_data"
    }
   ],
   "source": [
    "from demos import butterworth_demo1\n",
    "butterworth_demo1()"
   ]
  },
  {
   "cell_type": "code",
   "execution_count": 13,
   "metadata": {},
   "outputs": [
    {
     "data": {
      "application/vnd.jupyter.widget-view+json": {
       "model_id": "23064e7d5bcf4e94a2d3cc924936af29",
       "version_major": 2,
       "version_minor": 0
      },
      "text/plain": [
       "interactive(children=(IntSlider(value=100, description='fb', max=400, min=10, step=10), IntSlider(value=2, des…"
      ]
     },
     "metadata": {},
     "output_type": "display_data"
    }
   ],
   "source": [
    "from demos import butterworth_response_demo1\n",
    "butterworth_response_demo1()"
   ]
  }
 ],
 "metadata": {
  "kernelspec": {
   "display_name": "Python 3",
   "language": "python",
   "name": "python3"
  },
  "language_info": {
   "codemirror_mode": {
    "name": "ipython",
    "version": 3
   },
   "file_extension": ".py",
   "mimetype": "text/x-python",
   "name": "python",
   "nbconvert_exporter": "python",
   "pygments_lexer": "ipython3",
   "version": "3.7.3"
  }
 },
 "nbformat": 4,
 "nbformat_minor": 2
}
