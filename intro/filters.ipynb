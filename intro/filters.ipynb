{
 "cells": [
  {
   "cell_type": "markdown",
   "metadata": {},
   "source": [
    "# Analogue filters"
   ]
  },
  {
   "cell_type": "markdown",
   "metadata": {},
   "source": [
    "A filter can be described by its frequency response, $H(f)$, or equivalently by its impulse response, $h(t)$, where $H(f)$ is the Fourier transform of $h(t)$.\n",
    "\n",
    "In the Fourier domain, a filter is described by\n",
    "\n",
    "$$ Y(f) = H(f) X(f).$$\n",
    "\n",
    "The equivalent operation in the time-domain is a convolution\n",
    "\n",
    "$$ y(t) = \\int_{-\\infty}^{\\infty} h(t-\\tau) x(\\tau) \\mathrm{d} \\tau.$$\n"
   ]
  },
  {
   "cell_type": "markdown",
   "metadata": {},
   "source": [
    "## First-order low pass filter\n",
    "\n",
    "A first order low-pass filter has a transfer function\n",
    "\n",
    "$$ H(s) = \\frac{\\alpha}{s + \\alpha}, $$\n",
    "\n",
    "where $\\alpha = 2\\pi f_b$ and $f_b$ is the break-frequency.\n",
    "\n",
    "With $s = \\mathrm{j} 2\\pi f$, the frequency response is\n",
    "\n",
    "$$ H(\\mathrm{j} 2\\pi f) = \\frac{f_b}{\\mathrm{j}f + f_b}.$$ \n"
   ]
  },
  {
   "cell_type": "code",
   "execution_count": 1,
   "metadata": {},
   "outputs": [
    {
     "data": {
      "application/vnd.jupyter.widget-view+json": {
       "model_id": "bd90adbbfea6452fbaaa60cfa19fea45",
       "version_major": 2,
       "version_minor": 0
      },
      "text/plain": [
       "interactive(children=(IntSlider(value=100, description='fb', max=400, min=10, step=10), Dropdown(description='…"
      ]
     },
     "metadata": {},
     "output_type": "display_data"
    }
   ],
   "source": [
    "%matplotlib inline\n",
    "from demos import lpf_demo1\n",
    "lpf_demo1()"
   ]
  },
  {
   "cell_type": "markdown",
   "metadata": {},
   "source": [
    "## First-order high pass filter\n",
    "\n",
    "A first order high-pass filter has a transfer function\n",
    "\n",
    "$$ H(s) = \\frac{s}{s + \\alpha}, $$\n",
    "\n",
    "where $\\alpha = 2\\pi f_b$ and $f_b$ is the break-frequency.\n",
    "\n",
    "With $s = \\mathrm{j} 2\\pi f$, the frequency response is\n",
    "\n",
    "$$ H(\\mathrm{j} 2\\pi f) = \\frac{\\mathrm{j}f}{\\mathrm{j}f + f_b}.$$ \n"
   ]
  },
  {
   "cell_type": "code",
   "execution_count": 2,
   "metadata": {},
   "outputs": [
    {
     "data": {
      "application/vnd.jupyter.widget-view+json": {
       "model_id": "80cd05bf40284d4faafe002e8cea11dc",
       "version_major": 2,
       "version_minor": 0
      },
      "text/plain": [
       "interactive(children=(IntSlider(value=100, description='fb', max=400, min=10, step=10), Dropdown(description='…"
      ]
     },
     "metadata": {},
     "output_type": "display_data"
    }
   ],
   "source": [
    "from demos import hpf_demo1\n",
    "hpf_demo1()"
   ]
  },
  {
   "cell_type": "markdown",
   "metadata": {},
   "source": [
    "## Second order low-pass filter"
   ]
  },
  {
   "cell_type": "code",
   "execution_count": 3,
   "metadata": {},
   "outputs": [
    {
     "data": {
      "application/vnd.jupyter.widget-view+json": {
       "model_id": "82f54d0d83c94d31ab8b5aa6d14537a2",
       "version_major": 2,
       "version_minor": 0
      },
      "text/plain": [
       "interactive(children=(IntSlider(value=100, description='fb', max=400, min=10, step=10), FloatSlider(value=1.0,…"
      ]
     },
     "metadata": {},
     "output_type": "display_data"
    }
   ],
   "source": [
    "from demos import lpf_demo2\n",
    "lpf_demo2()"
   ]
  },
  {
   "cell_type": "markdown",
   "metadata": {},
   "source": [
    "## Second order high-pass filter"
   ]
  },
  {
   "cell_type": "code",
   "execution_count": 4,
   "metadata": {},
   "outputs": [
    {
     "data": {
      "application/vnd.jupyter.widget-view+json": {
       "model_id": "87d3033061e04ef28acea32bb5bdbe91",
       "version_major": 2,
       "version_minor": 0
      },
      "text/plain": [
       "interactive(children=(IntSlider(value=100, description='fb', max=400, min=10, step=10), FloatSlider(value=1.0,…"
      ]
     },
     "metadata": {},
     "output_type": "display_data"
    }
   ],
   "source": [
    "from demos import hpf_demo2\n",
    "hpf_demo2()"
   ]
  },
  {
   "cell_type": "code",
   "execution_count": 5,
   "metadata": {},
   "outputs": [
    {
     "data": {
      "application/vnd.jupyter.widget-view+json": {
       "model_id": "7ce433ebfd8e4b59abf2d20f34a904b1",
       "version_major": 2,
       "version_minor": 0
      },
      "text/plain": [
       "interactive(children=(IntSlider(value=100, description='fb', max=400, min=10, step=10), FloatSlider(value=1.0,…"
      ]
     },
     "metadata": {},
     "output_type": "display_data"
    }
   ],
   "source": [
    "from demos import bpf_demo1\n",
    "bpf_demo1()"
   ]
  },
  {
   "cell_type": "code",
   "execution_count": 6,
   "metadata": {},
   "outputs": [
    {
     "data": {
      "application/vnd.jupyter.widget-view+json": {
       "model_id": "e049fef9527443a093b1da06247d81f0",
       "version_major": 2,
       "version_minor": 0
      },
      "text/plain": [
       "interactive(children=(IntSlider(value=100, description='fb', max=400, min=10, step=10), FloatSlider(value=1.0,…"
      ]
     },
     "metadata": {},
     "output_type": "display_data"
    }
   ],
   "source": [
    "from demos import bsf_demo1\n",
    "bsf_demo1()"
   ]
  }
 ],
 "metadata": {
  "kernelspec": {
   "display_name": "Python 3",
   "language": "python",
   "name": "python3"
  },
  "language_info": {
   "codemirror_mode": {
    "name": "ipython",
    "version": 3
   },
   "file_extension": ".py",
   "mimetype": "text/x-python",
   "name": "python",
   "nbconvert_exporter": "python",
   "pygments_lexer": "ipython3",
   "version": "3.5.2"
  }
 },
 "nbformat": 4,
 "nbformat_minor": 2
}
