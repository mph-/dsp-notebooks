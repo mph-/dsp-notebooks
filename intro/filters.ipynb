{
 "cells": [
  {
   "cell_type": "markdown",
   "metadata": {},
   "source": [
    "# Analogue filters"
   ]
  },
  {
   "cell_type": "markdown",
   "metadata": {},
   "source": [
    "A filter can be described by its frequency response, $H(f)$, or equivalently by its impulse response, $h(t)$, where $H(f)$ is the Fourier transform of $h(t)$.\n",
    "\n",
    "In the Fourier domain, a filter is described by\n",
    "\n",
    "$$ Y(f) = H(f) X(f).$$\n",
    "\n",
    "The equivalent operation in the time-domain is a convolution\n",
    "\n",
    "$$ y(t) = \\int_{-\\infty}^{\\infty} h(t-\\tau) x(\\tau) \\mathrm{d} \\tau.$$\n"
   ]
  },
  {
   "cell_type": "markdown",
   "metadata": {},
   "source": [
    "## First-order low-pass filter\n",
    "\n",
    "A first-order low-pass filter has a transfer function\n",
    "\n",
    "$$ H(s) = \\frac{\\alpha}{s + \\alpha}, $$\n",
    "\n",
    "where $\\alpha = 2\\pi f_b$ and $f_b$ is the break-frequency.\n",
    "\n",
    "With $s = \\mathrm{j} 2\\pi f$, the frequency response is\n",
    "\n",
    "$$ H(\\mathrm{j} 2\\pi f) = \\frac{f_b}{\\mathrm{j}f + f_b}.$$ \n"
   ]
  },
  {
   "cell_type": "code",
   "execution_count": 1,
   "metadata": {},
   "outputs": [
    {
     "data": {
      "application/vnd.jupyter.widget-view+json": {
       "model_id": "49a5e987e2c14dcf8983a39dde6cb9a2",
       "version_major": 2,
       "version_minor": 0
      },
      "text/plain": [
       "interactive(children=(IntSlider(value=100, description='fb', max=400, min=10, step=10), Dropdown(description='…"
      ]
     },
     "metadata": {},
     "output_type": "display_data"
    }
   ],
   "source": [
    "%matplotlib inline\n",
    "from demos import lpf_demo1\n",
    "lpf_demo1()"
   ]
  },
  {
   "cell_type": "code",
   "execution_count": 2,
   "metadata": {},
   "outputs": [
    {
     "data": {
      "application/vnd.jupyter.widget-view+json": {
       "model_id": "4d43ad1ab15d45859f372d04cc14cc37",
       "version_major": 2,
       "version_minor": 0
      },
      "text/plain": [
       "interactive(children=(IntSlider(value=100, description='fb', max=400, min=10, step=10), IntSlider(value=50, de…"
      ]
     },
     "metadata": {},
     "output_type": "display_data"
    }
   ],
   "source": [
    "from demos import lpf_response_demo1\n",
    "lpf_response_demo1()"
   ]
  },
  {
   "cell_type": "markdown",
   "metadata": {},
   "source": [
    "## First-order high-pass filter\n",
    "\n",
    "A first-order high-pass filter has a transfer function\n",
    "\n",
    "$$ H(s) = \\frac{s}{s + \\alpha}, $$\n",
    "\n",
    "where $\\alpha = 2\\pi f_b$ and $f_b$ is the break-frequency.\n",
    "\n",
    "With $s = \\mathrm{j} 2\\pi f$, the frequency response is\n",
    "\n",
    "$$ H(\\mathrm{j} 2\\pi f) = \\frac{\\mathrm{j}f}{\\mathrm{j}f + f_b}.$$ \n"
   ]
  },
  {
   "cell_type": "code",
   "execution_count": 3,
   "metadata": {},
   "outputs": [
    {
     "data": {
      "application/vnd.jupyter.widget-view+json": {
       "model_id": "7451fbf20b0443a8bee8d3fb031142c8",
       "version_major": 2,
       "version_minor": 0
      },
      "text/plain": [
       "interactive(children=(IntSlider(value=100, description='fb', max=400, min=10, step=10), Dropdown(description='…"
      ]
     },
     "metadata": {},
     "output_type": "display_data"
    }
   ],
   "source": [
    "from demos import hpf_demo1\n",
    "hpf_demo1()"
   ]
  },
  {
   "cell_type": "code",
   "execution_count": 4,
   "metadata": {},
   "outputs": [
    {
     "data": {
      "application/vnd.jupyter.widget-view+json": {
       "model_id": "17c634ae57f94b969fe241d05c2f49d6",
       "version_major": 2,
       "version_minor": 0
      },
      "text/plain": [
       "interactive(children=(IntSlider(value=100, description='fb', max=400, min=10, step=10), IntSlider(value=50, de…"
      ]
     },
     "metadata": {},
     "output_type": "display_data"
    }
   ],
   "source": [
    "from demos import hpf_response_demo1\n",
    "hpf_response_demo1()"
   ]
  },
  {
   "cell_type": "markdown",
   "metadata": {},
   "source": [
    "## Second-order low-pass filter"
   ]
  },
  {
   "cell_type": "code",
   "execution_count": 5,
   "metadata": {},
   "outputs": [
    {
     "data": {
      "application/vnd.jupyter.widget-view+json": {
       "model_id": "f0565a5545e04d958e3a12d0ce35ee7c",
       "version_major": 2,
       "version_minor": 0
      },
      "text/plain": [
       "interactive(children=(IntSlider(value=100, description='fb', max=400, min=10, step=10), FloatSlider(value=1.0,…"
      ]
     },
     "metadata": {},
     "output_type": "display_data"
    }
   ],
   "source": [
    "from demos import lpf_demo2\n",
    "lpf_demo2()"
   ]
  },
  {
   "cell_type": "markdown",
   "metadata": {},
   "source": [
    "## Second order high-pass filter"
   ]
  },
  {
   "cell_type": "code",
   "execution_count": 6,
   "metadata": {},
   "outputs": [
    {
     "data": {
      "application/vnd.jupyter.widget-view+json": {
       "model_id": "c6da9138ef024e75919b020b5e53dfa3",
       "version_major": 2,
       "version_minor": 0
      },
      "text/plain": [
       "interactive(children=(IntSlider(value=100, description='fb', max=400, min=10, step=10), FloatSlider(value=1.0,…"
      ]
     },
     "metadata": {},
     "output_type": "display_data"
    }
   ],
   "source": [
    "from demos import hpf_demo2\n",
    "hpf_demo2()"
   ]
  },
  {
   "cell_type": "markdown",
   "metadata": {},
   "source": [
    "## Second-order band-pass filter"
   ]
  },
  {
   "cell_type": "code",
   "execution_count": 7,
   "metadata": {},
   "outputs": [
    {
     "data": {
      "application/vnd.jupyter.widget-view+json": {
       "model_id": "37f619fd04e7400cb4cd77dbb9894509",
       "version_major": 2,
       "version_minor": 0
      },
      "text/plain": [
       "interactive(children=(IntSlider(value=100, description='f0', max=400, min=10, step=10), FloatSlider(value=1.0,…"
      ]
     },
     "metadata": {},
     "output_type": "display_data"
    }
   ],
   "source": [
    "from demos import bpf_demo1\n",
    "bpf_demo1()"
   ]
  },
  {
   "cell_type": "code",
   "execution_count": 8,
   "metadata": {},
   "outputs": [
    {
     "data": {
      "application/vnd.jupyter.widget-view+json": {
       "model_id": "6d6e754a03cd449098c1f576834e7bc1",
       "version_major": 2,
       "version_minor": 0
      },
      "text/plain": [
       "interactive(children=(IntSlider(value=100, description='f0', max=400, min=10, step=10), FloatSlider(value=1.0,…"
      ]
     },
     "metadata": {},
     "output_type": "display_data"
    }
   ],
   "source": [
    "from demos import bpf_response_demo1\n",
    "bpf_response_demo1()"
   ]
  },
  {
   "cell_type": "markdown",
   "metadata": {},
   "source": [
    "## Second order band-stop filter"
   ]
  },
  {
   "cell_type": "code",
   "execution_count": 9,
   "metadata": {},
   "outputs": [
    {
     "data": {
      "application/vnd.jupyter.widget-view+json": {
       "model_id": "678fac9866cd479680c71dcdf1a9fdb5",
       "version_major": 2,
       "version_minor": 0
      },
      "text/plain": [
       "interactive(children=(IntSlider(value=100, description='f0', max=400, min=10, step=10), FloatSlider(value=1.0,…"
      ]
     },
     "metadata": {},
     "output_type": "display_data"
    }
   ],
   "source": [
    "from demos import bsf_demo1\n",
    "bsf_demo1()"
   ]
  },
  {
   "cell_type": "code",
   "execution_count": 10,
   "metadata": {},
   "outputs": [
    {
     "data": {
      "application/vnd.jupyter.widget-view+json": {
       "model_id": "1bb83fe0355e4b12bfbedd350f00d871",
       "version_major": 2,
       "version_minor": 0
      },
      "text/plain": [
       "interactive(children=(IntSlider(value=100, description='f0', max=400, min=10, step=10), FloatSlider(value=1.0,…"
      ]
     },
     "metadata": {},
     "output_type": "display_data"
    }
   ],
   "source": [
    "from demos import bsf_response_demo1\n",
    "bsf_response_demo1()"
   ]
  },
  {
   "cell_type": "markdown",
   "metadata": {},
   "source": [
    "## Butterworth low-pass filter\n",
    "\n",
    "The following demo shows a Butterworth low-pass filter where the filter order can be modified.  When order is 2, this is equivalent to a critically damped second-order low-pass filter."
   ]
  },
  {
   "cell_type": "code",
   "execution_count": 11,
   "metadata": {},
   "outputs": [
    {
     "data": {
      "application/vnd.jupyter.widget-view+json": {
       "model_id": "9368387765594f0e9ee8d5f0f397f650",
       "version_major": 2,
       "version_minor": 0
      },
      "text/plain": [
       "interactive(children=(IntSlider(value=100, description='fb', max=400, min=10, step=10), IntSlider(value=2, des…"
      ]
     },
     "metadata": {},
     "output_type": "display_data"
    }
   ],
   "source": [
    "from demos import butterworth_demo1\n",
    "butterworth_demo1()"
   ]
  },
  {
   "cell_type": "code",
   "execution_count": 12,
   "metadata": {},
   "outputs": [
    {
     "data": {
      "application/vnd.jupyter.widget-view+json": {
       "model_id": "6ba708954ea14a0cba4f77df5c813972",
       "version_major": 2,
       "version_minor": 0
      },
      "text/plain": [
       "interactive(children=(IntSlider(value=100, description='fb', max=400, min=10, step=10), IntSlider(value=2, des…"
      ]
     },
     "metadata": {},
     "output_type": "display_data"
    }
   ],
   "source": [
    "from demos import butterworth_response_demo1\n",
    "butterworth_response_demo1()"
   ]
  }
 ],
 "metadata": {
  "kernelspec": {
   "display_name": "Python 3",
   "language": "python",
   "name": "python3"
  },
  "language_info": {
   "codemirror_mode": {
    "name": "ipython",
    "version": 3
   },
   "file_extension": ".py",
   "mimetype": "text/x-python",
   "name": "python",
   "nbconvert_exporter": "python",
   "pygments_lexer": "ipython3",
   "version": "3.5.2"
  }
 },
 "nbformat": 4,
 "nbformat_minor": 2
}
