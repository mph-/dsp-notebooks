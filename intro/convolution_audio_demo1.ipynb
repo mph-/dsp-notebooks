{
 "cells": [
  {
   "cell_type": "markdown",
   "metadata": {},
   "source": [
    "# Convolution audio reverb demo\n",
    "\n",
    "The following demo shows the effect of convolving different sounds with different room impulse responses.\n",
    "\n",
    "The convolution is perfomed digitally using:\n",
    "\n",
    "$y[n] = \\sum_{m=0}^{M-1} h[m] x[n - m]$,\n",
    "\n",
    "where $x[m]$ is the signal and $h[m]$ is the impulse response. \n"
   ]
  },
  {
   "cell_type": "code",
   "execution_count": 1,
   "metadata": {
    "scrolled": true
   },
   "outputs": [
    {
     "data": {
      "application/vnd.jupyter.widget-view+json": {
       "model_id": "8e096a7d0349475bb2622fd6bd506678",
       "version_major": 2,
       "version_minor": 0
      },
      "text/plain": [
       "interactive(children=(Dropdown(description='signal_name', index=1, options=(None, 'dalek-exterminate', 'dalek-…"
      ]
     },
     "metadata": {},
     "output_type": "display_data"
    }
   ],
   "source": [
    "%matplotlib inline\n",
    "from demos import convolution_audio_demo1\n",
    "convolution_audio_demo1();"
   ]
  }
 ],
 "metadata": {
  "kernelspec": {
   "display_name": "Python 3 (ipykernel)",
   "language": "python",
   "name": "python3"
  },
  "language_info": {
   "codemirror_mode": {
    "name": "ipython",
    "version": 3
   },
   "file_extension": ".py",
   "mimetype": "text/x-python",
   "name": "python",
   "nbconvert_exporter": "python",
   "pygments_lexer": "ipython3",
   "version": "3.7.11"
  }
 },
 "nbformat": 4,
 "nbformat_minor": 2
}
