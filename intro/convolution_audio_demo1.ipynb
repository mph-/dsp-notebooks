{
 "cells": [
  {
   "cell_type": "markdown",
   "metadata": {},
   "source": [
    "# Convolution audio demo\n",
    "\n",
    "The following demo shows the effect of convolving different sounds with different room impulse responses.\n",
    "\n",
    "The convolution is perfomed digitally using:\n",
    "\n",
    "$y[n] = \\sum_{m=0}^{M-1} h[m] x[n - m]$,\n",
    "\n",
    "where $x[m]$ is the signal and $h[m]$ is the impulse response. \n"
   ]
  },
  {
   "cell_type": "code",
   "execution_count": 1,
   "metadata": {
    "scrolled": true
   },
   "outputs": [
    {
     "data": {
      "application/vnd.jupyter.widget-view+json": {
       "model_id": "48fd959fa5814154b18749cb7d415e8f",
       "version_major": 2,
       "version_minor": 0
      },
      "text/plain": [
       "interactive(children=(Dropdown(description='signal_name', options=('dalek-exterminate', 'dalek-gun', 'dalek-gr…"
      ]
     },
     "metadata": {},
     "output_type": "display_data"
    }
   ],
   "source": [
    "%matplotlib inline\n",
    "from demos import convolution_audio_demo1\n",
    "convolution_audio_demo1();"
   ]
  }
 ],
 "metadata": {
  "kernelspec": {
   "display_name": "Python 3",
   "language": "python",
   "name": "python3"
  },
  "language_info": {
   "codemirror_mode": {
    "name": "ipython",
    "version": 3
   },
   "file_extension": ".py",
   "mimetype": "text/x-python",
   "name": "python",
   "nbconvert_exporter": "python",
   "pygments_lexer": "ipython3",
   "version": "3.5.2"
  }
 },
 "nbformat": 4,
 "nbformat_minor": 2
}
