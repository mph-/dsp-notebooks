{
 "cells": [
  {
   "cell_type": "markdown",
   "metadata": {},
   "source": [
    "# Common signals"
   ]
  },
  {
   "cell_type": "markdown",
   "metadata": {},
   "source": [
    "### DC signal\n",
    "\n",
    "A dc signal is not physically realisable but is a useful concept.   It only requires one parameter and does not vary with time.  It is described by\n",
    "\n",
    "$$x(t) = A.$$\n"
   ]
  },
  {
   "cell_type": "code",
   "execution_count": 1,
   "metadata": {},
   "outputs": [
    {
     "data": {
      "application/vnd.jupyter.widget-view+json": {
       "model_id": "a5cf58c58a5a409aa75e42fead413fef",
       "version_major": 2,
       "version_minor": 0
      },
      "text/plain": [
       "interactive(children=(IntSlider(value=1, description='A', max=5, min=-5), Checkbox(value=False, description='d…"
      ]
     },
     "metadata": {},
     "output_type": "display_data"
    }
   ],
   "source": [
    "%matplotlib inline\n",
    "from demos import dc_demo1\n",
    "dc_demo1();"
   ]
  },
  {
   "cell_type": "markdown",
   "metadata": {},
   "source": [
    "### AC signal\n",
    "\n",
    "An AC signal is also an idealised concept.  It can be represented by\n",
    "\n",
    "$$x(t) = A \\cos(2\\pi f t + \\phi),$$\n",
    "\n",
    "where $A$ is the amplitude, $f$ is the frequency, and $\\phi$ is the phase.\n",
    "\n"
   ]
  },
  {
   "cell_type": "code",
   "execution_count": 2,
   "metadata": {},
   "outputs": [
    {
     "data": {
      "application/vnd.jupyter.widget-view+json": {
       "model_id": "119d45154bdd42d6a0b5c5bc69da7d68",
       "version_major": 2,
       "version_minor": 0
      },
      "text/plain": [
       "interactive(children=(IntSlider(value=1, description='A', max=10, min=1), IntSlider(value=2, description='f', …"
      ]
     },
     "metadata": {},
     "output_type": "display_data"
    }
   ],
   "source": [
    "%matplotlib inline\n",
    "from demos import ac_demo1\n",
    "ac_demo1();"
   ]
  },
  {
   "cell_type": "markdown",
   "metadata": {},
   "source": [
    "### Exponential signal\n",
    "\n",
    "An exponential signal can be represented by\n",
    "\n",
    "$$x(t) = A \\exp(-\\alpha t),$$\n",
    "\n",
    "where $A$ is a scale factor and $\\alpha = 1 / \\tau$ where $\\tau$ is the time-constant."
   ]
  },
  {
   "cell_type": "code",
   "execution_count": 3,
   "metadata": {},
   "outputs": [
    {
     "data": {
      "application/vnd.jupyter.widget-view+json": {
       "model_id": "4cc6ff3b4081424b8ad18892fd6901f0",
       "version_major": 2,
       "version_minor": 0
      },
      "text/plain": [
       "interactive(children=(IntSlider(value=1, description='A', max=10, min=1), IntSlider(value=2, description='alph…"
      ]
     },
     "metadata": {},
     "output_type": "display_data"
    }
   ],
   "source": [
    "%matplotlib inline\n",
    "from demos import exp_demo1\n",
    "exp_demo1();"
   ]
  },
  {
   "cell_type": "markdown",
   "metadata": {},
   "source": [
    "## Toneburst signal\n",
    "\n",
    "A toneburst signal has the form\n",
    "\n",
    "$$x(t) = A \\mathop{\\mathrm{rect}}\\left(\\frac{t}{T}\\right) \\cos(2\\pi f_0 t),$$\n",
    "\n",
    "where $A$ is the amplitude, $f_0$ is the centre frequency, and $T$ is the duration."
   ]
  },
  {
   "cell_type": "code",
   "execution_count": 4,
   "metadata": {},
   "outputs": [
    {
     "data": {
      "application/vnd.jupyter.widget-view+json": {
       "model_id": "6e5bde539c6643b887c68338b474343d",
       "version_major": 2,
       "version_minor": 0
      },
      "text/plain": [
       "interactive(children=(FloatSlider(value=1.0, description='A', max=4.0, min=0.5, step=0.5), FloatSlider(value=2…"
      ]
     },
     "metadata": {},
     "output_type": "display_data"
    }
   ],
   "source": [
    "from demos import toneburst_demo1\n",
    "toneburst_demo1();"
   ]
  }
 ],
 "metadata": {
  "kernelspec": {
   "display_name": "Python 3",
   "language": "python",
   "name": "python3"
  },
  "language_info": {
   "codemirror_mode": {
    "name": "ipython",
    "version": 3
   },
   "file_extension": ".py",
   "mimetype": "text/x-python",
   "name": "python",
   "nbconvert_exporter": "python",
   "pygments_lexer": "ipython3",
   "version": "3.7.3"
  }
 },
 "nbformat": 4,
 "nbformat_minor": 2
}
