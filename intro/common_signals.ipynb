{
 "cells": [
  {
   "cell_type": "markdown",
   "metadata": {},
   "source": [
    "# Common signals"
   ]
  },
  {
   "cell_type": "markdown",
   "metadata": {},
   "source": [
    "### DC signal\n",
    "\n",
    "A dc signal is not physically realisable but is a useful concept.   It only requires one parameter and does not vary with time.  It is described by\n",
    "\n",
    "$$x(t) = A.$$\n"
   ]
  },
  {
   "cell_type": "code",
   "execution_count": 1,
   "metadata": {},
   "outputs": [
    {
     "data": {
      "application/vnd.jupyter.widget-view+json": {
       "model_id": "7c66b439a0304779b07d4124e9d22177",
       "version_major": 2,
       "version_minor": 0
      },
      "text/plain": [
       "interactive(children=(IntSlider(value=1, description='A', max=5, min=-5), Checkbox(value=False, description='d…"
      ]
     },
     "metadata": {},
     "output_type": "display_data"
    }
   ],
   "source": [
    "%matplotlib inline\n",
    "from demos import dc_demo1\n",
    "dc_demo1();"
   ]
  },
  {
   "cell_type": "markdown",
   "metadata": {},
   "source": [
    "### AC signal\n",
    "\n",
    "An AC signal is also an idealised concept.  It can be represented by\n",
    "\n",
    "$$x(t) = A \\cos(2\\pi f t + \\phi),$$\n",
    "\n",
    "where $A$ is the amplitude, $f$ is the frequency, and $\\phi$ is the phase.\n",
    "\n"
   ]
  },
  {
   "cell_type": "code",
   "execution_count": 2,
   "metadata": {},
   "outputs": [
    {
     "data": {
      "application/vnd.jupyter.widget-view+json": {
       "model_id": "ddaec86bc7bd437cb7cea89cc5f44a1b",
       "version_major": 2,
       "version_minor": 0
      },
      "text/plain": [
       "interactive(children=(IntSlider(value=1, description='A', max=10, min=1), IntSlider(value=2, description='f', …"
      ]
     },
     "metadata": {},
     "output_type": "display_data"
    }
   ],
   "source": [
    "%matplotlib inline\n",
    "from demos import ac_demo1\n",
    "ac_demo1();"
   ]
  },
  {
   "cell_type": "markdown",
   "metadata": {},
   "source": [
    "### Exponential signal\n",
    "\n",
    "An exponential signal can be represented by\n",
    "\n",
    "$$x(t) = A \\exp(-\\alpha t),$$\n",
    "\n",
    "where $A$ is a scale factor and $\\alpha = 1 / \\tau$ where $\\tau$ is the time-constant."
   ]
  },
  {
   "cell_type": "code",
   "execution_count": 3,
   "metadata": {},
   "outputs": [
    {
     "data": {
      "application/vnd.jupyter.widget-view+json": {
       "model_id": "23f3bf78cc844d7c89af1416f86225df",
       "version_major": 2,
       "version_minor": 0
      },
      "text/plain": [
       "interactive(children=(IntSlider(value=1, description='A', max=10, min=1), IntSlider(value=2, description='alph…"
      ]
     },
     "metadata": {},
     "output_type": "display_data"
    }
   ],
   "source": [
    "%matplotlib inline\n",
    "from demos import exp_demo1\n",
    "exp_demo1();"
   ]
  },
  {
   "cell_type": "markdown",
   "metadata": {},
   "source": [
    "## Toneburst signal\n",
    "\n",
    "A toneburst signal has the form\n",
    "\n",
    "$$x(t) = A \\mathop{\\mathrm{rect}}\\left(\\frac{t}{T}\\right) \\cos(2\\pi f_0 t),$$\n",
    "\n",
    "where $A$ is the amplitude, $f_0$ is the centre frequency, and $T$ is the duration."
   ]
  },
  {
   "cell_type": "code",
   "execution_count": 4,
   "metadata": {},
   "outputs": [
    {
     "data": {
      "application/vnd.jupyter.widget-view+json": {
       "model_id": "5d43ba9d74b7472cbbf9706e468de47d",
       "version_major": 2,
       "version_minor": 0
      },
      "text/plain": [
       "interactive(children=(FloatSlider(value=1.0, description='A', max=4.0, min=0.5, step=0.5), FloatSlider(value=2…"
      ]
     },
     "metadata": {},
     "output_type": "display_data"
    }
   ],
   "source": [
    "from demos import toneburst_demo1\n",
    "toneburst_demo1();"
   ]
  }
 ],
 "metadata": {
  "kernelspec": {
   "display_name": "Python 3",
   "language": "python",
   "name": "python3"
  },
  "language_info": {
   "codemirror_mode": {
    "name": "ipython",
    "version": 3
   },
   "file_extension": ".py",
   "mimetype": "text/x-python",
   "name": "python",
   "nbconvert_exporter": "python",
   "pygments_lexer": "ipython3",
   "version": "3.7.3"
  }
 },
 "nbformat": 4,
 "nbformat_minor": 2
}
