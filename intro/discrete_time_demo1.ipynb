{
 "cells": [
  {
   "cell_type": "markdown",
   "metadata": {},
   "source": [
    "# Discrete-time signals"
   ]
  },
  {
   "cell_type": "markdown",
   "metadata": {},
   "source": [
    "A discrete-time signal, $x[n]$, is related to a continuous time signal, $x(t)$, by\n",
    "\n",
    "$x[n] = x(n \\Delta t)$\n",
    "\n",
    "where $n$ is the (integer) sample index and the time increment, $\\Delta t$, is the reciprocal of the sampling frequency, $f_s$,\n",
    "\n",
    "$\\Delta t = \\frac{1}{f_s}$.\n",
    "\n",
    "A discrete-time signal can be portrayed by a stem (a.k.a. lollipop) plot.  In practice, they are often plotted by drawing straight lines between the sample values, if the signal is well oversampled, to mimic an analogue signal."
   ]
  },
  {
   "cell_type": "code",
   "execution_count": 1,
   "metadata": {},
   "outputs": [
    {
     "data": {
      "application/vnd.jupyter.widget-view+json": {
       "model_id": "169594c11d7e4c1a9fab1bce5eb7d5ed",
       "version_major": 2,
       "version_minor": 0
      },
      "text/plain": [
       "interactive(children=(IntSlider(value=50, description='fs', min=5, step=10), Checkbox(value=True, description=…"
      ]
     },
     "metadata": {},
     "output_type": "display_data"
    }
   ],
   "source": [
    "%matplotlib inline\n",
    "from demos import discrete_time_demo1\n",
    "discrete_time_demo1()"
   ]
  },
  {
   "cell_type": "markdown",
   "metadata": {},
   "source": [
    "The next demo converts a sequence, $x[n]$, to a lollipop plot.  The underscore prefix can be used to indicate the sample where $n=0$.  It also outputs a representation made with delayed unit impulses."
   ]
  },
  {
   "cell_type": "code",
   "execution_count": 2,
   "metadata": {},
   "outputs": [
    {
     "data": {
      "application/vnd.jupyter.widget-view+json": {
       "model_id": "2bbb5198c9db46d39eac797cbeac2d6e",
       "version_major": 2,
       "version_minor": 0
      },
      "text/plain": [
       "interactive(children=(Text(value='{1, _2, 3, 4, 5}', description='sequence'), Output()), _dom_classes=('widget…"
      ]
     },
     "metadata": {},
     "output_type": "display_data"
    }
   ],
   "source": [
    "from demos import plotseq_demo1\n",
    "plotseq_demo1()\n"
   ]
  }
 ],
 "metadata": {
  "kernelspec": {
   "display_name": "Python 3",
   "language": "python",
   "name": "python3"
  },
  "language_info": {
   "codemirror_mode": {
    "name": "ipython",
    "version": 3
   },
   "file_extension": ".py",
   "mimetype": "text/x-python",
   "name": "python",
   "nbconvert_exporter": "python",
   "pygments_lexer": "ipython3",
   "version": "3.7.3"
  }
 },
 "nbformat": 4,
 "nbformat_minor": 2
}
