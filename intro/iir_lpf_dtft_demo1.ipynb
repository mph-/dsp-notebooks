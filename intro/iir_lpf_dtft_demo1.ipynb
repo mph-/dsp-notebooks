{
 "cells": [
  {
   "cell_type": "markdown",
   "metadata": {},
   "source": [
    "# Frequency response of first-order recursive low-pass filter"
   ]
  },
  {
   "cell_type": "markdown",
   "metadata": {},
   "source": [
    "A first-order recursive low-pass filter has a difference equation:\n",
    "\n",
    "$y[n] = \\alpha y[n - 1]  + (1 - \\alpha) x[n]$\n",
    "\n",
    "where $\\alpha$ is a parameter that controls the break frequency.  When $\\alpha = 0$ there is no filtering.  The closer $\\alpha$ gets to 1, the greater the filtering.\n",
    "\n",
    "The discrete-time frequency response of the filter can be found from the discrete-time Fourier transform (DTFT).  Since the filter is causal, it be found from the discrete-time transfer function $H(z)$ by substituting $\\exp\\left(\\mathrm{j} 2\\pi f \\Delta t\\right)$ for $z$:\n",
    "\n",
    "$$H_{\\frac{1}{\\Delta t}}(f) = H\\left(\\exp\\left(\\mathrm{j} 2\\pi f \\Delta t\\right)\\right),$$\n",
    "\n",
    "The following demo shows the filter discrete-time frequency response, $H_{\\frac{1}{\\Delta t}}(f)$, as a function of $\\alpha$."
   ]
  },
  {
   "cell_type": "code",
   "execution_count": 2,
   "metadata": {},
   "outputs": [
    {
     "data": {
      "application/vnd.jupyter.widget-view+json": {
       "model_id": "fb0faa9d087c46eaaab05c15b4ee37b0",
       "version_major": 2,
       "version_minor": 0
      },
      "text/plain": [
       "interactive(children=(FloatSlider(value=0.5, description='alpha', max=0.999, step=0.01), IntSlider(value=100, …"
      ]
     },
     "metadata": {},
     "output_type": "display_data"
    }
   ],
   "source": [
    "%matplotlib inline\n",
    "from demos import iir_lpf_dtft_demo1\n",
    "iir_lpf_dtft_demo1();"
   ]
  },
  {
   "cell_type": "code",
   "execution_count": 3,
   "metadata": {},
   "outputs": [
    {
     "data": {
      "application/vnd.jupyter.widget-view+json": {
       "model_id": "f36ad4f572054050a6b76b137e11c806",
       "version_major": 2,
       "version_minor": 0
      },
      "text/plain": [
       "interactive(children=(FloatSlider(value=0.5, description='alpha', max=0.999, step=0.01), Dropdown(description=…"
      ]
     },
     "metadata": {},
     "output_type": "display_data"
    }
   ],
   "source": [
    "%matplotlib inline\n",
    "from demos import iir_lpf_demo2\n",
    "iir_lpf_demo2();"
   ]
  }
 ],
 "metadata": {
  "kernelspec": {
   "display_name": "Python 3",
   "language": "python",
   "name": "python3"
  },
  "language_info": {
   "codemirror_mode": {
    "name": "ipython",
    "version": 3
   },
   "file_extension": ".py",
   "mimetype": "text/x-python",
   "name": "python",
   "nbconvert_exporter": "python",
   "pygments_lexer": "ipython3",
   "version": "3.7.7"
  }
 },
 "nbformat": 4,
 "nbformat_minor": 2
}
