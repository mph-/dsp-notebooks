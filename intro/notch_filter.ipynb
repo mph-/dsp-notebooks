{
 "cells": [
  {
   "cell_type": "markdown",
   "metadata": {},
   "source": [
    "# Notch filter example\n",
    "\n",
    "This demo shows a toneburst signal corrupted by 50 Hz mains hum.  The signal with hum is described by\n",
    "\n",
    "$$x(t) = \\cos(2\\pi f_0 (t - \\tau)) \\mathop{\\mathrm{rect}}\\left(\\frac{t-\\tau}{T}\\right) + 5 \\cos(100\\pi t).$$\n",
    "\n",
    "The purpose of the notch filter is to remove the 50 Hz hum with litle effect on the desired signal.   The centre frequency of the notch filter is controlled by fn; the bandwidth is controlled by $\\alpha$.  With the filter disabled it is difficult to visualise the Note, the notch filter produces a transient response, clearly visible at the start."
   ]
  },
  {
   "cell_type": "code",
   "execution_count": 1,
   "metadata": {
    "scrolled": false
   },
   "outputs": [
    {
     "data": {
      "application/vnd.jupyter.widget-view+json": {
       "model_id": "a89e8339c78c485e8ccd64d75760cdeb",
       "version_major": 2,
       "version_minor": 0
      },
      "text/plain": [
       "interactive(children=(IntSlider(value=200, description='f0', max=500, min=50, step=10), IntSlider(value=50, de…"
      ]
     },
     "metadata": {},
     "output_type": "display_data"
    }
   ],
   "source": [
    "%matplotlib inline\n",
    "from demos import notch_filter_demo1\n",
    "notch_filter_demo1();"
   ]
  }
 ],
 "metadata": {
  "kernelspec": {
   "display_name": "Python 3",
   "language": "python",
   "name": "python3"
  },
  "language_info": {
   "codemirror_mode": {
    "name": "ipython",
    "version": 3
   },
   "file_extension": ".py",
   "mimetype": "text/x-python",
   "name": "python",
   "nbconvert_exporter": "python",
   "pygments_lexer": "ipython3",
   "version": "3.7.3"
  }
 },
 "nbformat": 4,
 "nbformat_minor": 2
}
