{
 "cells": [
  {
   "cell_type": "markdown",
   "metadata": {},
   "source": [
    "# Signal synthesis demo 1"
   ]
  },
  {
   "cell_type": "markdown",
   "metadata": {},
   "source": [
    "Any discrete-time periodic signal can be represented by a summation of sinewaves and cosinewaves using a Fourier series.\n",
    "\n",
    "$x[n] =  \\sum_{n=0}^{\\infty} A_n \\cos(2\\pi n f_0 \\Delta t) + \\sum_{n=1}^{\\infty} B_n \\sin(2\\pi n f_0 \\Delta t)$,\n",
    "\n",
    "where $f_0$ is the fundamental frequency, $\\Delta t = 1 / f_s$ is the sampling period, and $f_s$ is the sampling frequency.  The signal has a period $T = 1 / f_0$."
   ]
  },
  {
   "cell_type": "code",
   "execution_count": 2,
   "metadata": {},
   "outputs": [
    {
     "data": {
      "application/vnd.jupyter.widget-view+json": {
       "model_id": "309a414a89ed4d1080eefefb1922e25c",
       "version_major": 2,
       "version_minor": 0
      },
      "text/plain": [
       "interactive(children=(IntSlider(value=2, description='f0', max=10, min=1), IntSlider(value=5, description='B1'…"
      ]
     },
     "metadata": {},
     "output_type": "display_data"
    }
   ],
   "source": [
    "%matplotlib inline\n",
    "from demos import synthesis_demo1\n",
    "synthesis_demo1();"
   ]
  }
 ],
 "metadata": {
  "kernelspec": {
   "display_name": "Python 3",
   "language": "python",
   "name": "python3"
  },
  "language_info": {
   "codemirror_mode": {
    "name": "ipython",
    "version": 3
   },
   "file_extension": ".py",
   "mimetype": "text/x-python",
   "name": "python",
   "nbconvert_exporter": "python",
   "pygments_lexer": "ipython3",
   "version": "3.5.2"
  }
 },
 "nbformat": 4,
 "nbformat_minor": 2
}
