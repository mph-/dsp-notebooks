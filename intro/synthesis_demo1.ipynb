{
 "cells": [
  {
   "cell_type": "markdown",
   "metadata": {},
   "source": [
    "# Signal synthesis"
   ]
  },
  {
   "cell_type": "markdown",
   "metadata": {},
   "source": [
    "Any periodic signal can be represented by a summation of sinewaves and cosinewaves using a Fourier series.\n",
    "\n",
    "$x(t) =  \\sum_{k=0}^{\\infty} A_k \\cos(2\\pi k f_0 t) + \\sum_{k=1}^{\\infty} B_k \\sin(2\\pi k f_0 t)$,\n",
    "\n",
    "where $f_0$ is the fundamental frequency.  The signal is periodic with period $T = 1 /f_0$.  The two sets of coefficients are usually represented by one set of complex coefficients, where\n",
    "\n",
    "$$X_k = A_k + \\mathrm{j} B_k.$$\n",
    "\n",
    "In the simulation, $\\Delta t = 1 / f_s$ is the sampling period and $f_s$ is the sampling frequency. "
   ]
  },
  {
   "cell_type": "code",
   "execution_count": 1,
   "metadata": {},
   "outputs": [
    {
     "data": {
      "application/vnd.jupyter.widget-view+json": {
       "model_id": "da09540464e44b618b730004bd2076f5",
       "version_major": 2,
       "version_minor": 0
      },
      "text/plain": [
       "interactive(children=(IntSlider(value=2, description='f0', max=10, min=1), IntSlider(value=5, description='B1'…"
      ]
     },
     "metadata": {},
     "output_type": "display_data"
    }
   ],
   "source": [
    "%matplotlib inline\n",
    "from demos import synthesis_demo1\n",
    "synthesis_demo1();"
   ]
  }
 ],
 "metadata": {
  "kernelspec": {
   "display_name": "Python 3",
   "language": "python",
   "name": "python3"
  },
  "language_info": {
   "codemirror_mode": {
    "name": "ipython",
    "version": 3
   },
   "file_extension": ".py",
   "mimetype": "text/x-python",
   "name": "python",
   "nbconvert_exporter": "python",
   "pygments_lexer": "ipython3",
   "version": "3.5.2"
  }
 },
 "nbformat": 4,
 "nbformat_minor": 2
}
