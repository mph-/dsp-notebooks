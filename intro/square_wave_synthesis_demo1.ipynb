{
 "cells": [
  {
   "cell_type": "markdown",
   "metadata": {},
   "source": [
    "# Signal square wave synthesis demo 1"
   ]
  },
  {
   "cell_type": "markdown",
   "metadata": {},
   "source": [
    "Any discrete-time square wave signal can be synthesised using a number of sinewaves using a Fourier series.\n",
    "\n",
    "$x[n] =  \\sum_{m=0}^{M} \\frac{1}{2m + 1}\\sin(2\\pi (2 m + 1) f_0 n \\Delta t)$,\n",
    "\n",
    "where $f_0$ is the fundamental frequency, $\\Delta t = 1 / f_s$.  The signal has a period $T = 1 / f_0$.  The larger the value of $M$ the closer the approximation to square wave."
   ]
  },
  {
   "cell_type": "code",
   "execution_count": 1,
   "metadata": {},
   "outputs": [
    {
     "data": {
      "application/vnd.jupyter.widget-view+json": {
       "model_id": "d948c9c06a8d4d32b44306cfb097d8ac",
       "version_major": 2,
       "version_minor": 0
      },
      "text/plain": [
       "interactive(children=(IntSlider(value=10, description='M', min=1), IntSlider(value=2, description='f0', max=10…"
      ]
     },
     "metadata": {},
     "output_type": "display_data"
    }
   ],
   "source": [
    "%matplotlib inline\n",
    "from demos import square_wave_synthesis_demo1\n",
    "square_wave_synthesis_demo1();"
   ]
  },
  {
   "cell_type": "code",
   "execution_count": null,
   "metadata": {},
   "outputs": [],
   "source": []
  },
  {
   "cell_type": "markdown",
   "metadata": {},
   "source": [
    "Note, sometimes the waveform is not symmetrical due to aliasing of the screen."
   ]
  }
 ],
 "metadata": {
  "kernelspec": {
   "display_name": "Python 3",
   "language": "python",
   "name": "python3"
  },
  "language_info": {
   "codemirror_mode": {
    "name": "ipython",
    "version": 3
   },
   "file_extension": ".py",
   "mimetype": "text/x-python",
   "name": "python",
   "nbconvert_exporter": "python",
   "pygments_lexer": "ipython3",
   "version": "3.5.2"
  }
 },
 "nbformat": 4,
 "nbformat_minor": 2
}
