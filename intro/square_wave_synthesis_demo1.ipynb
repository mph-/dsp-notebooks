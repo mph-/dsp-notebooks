{
 "cells": [
  {
   "cell_type": "markdown",
   "metadata": {},
   "source": [
    "# Square wave synthesis"
   ]
  },
  {
   "cell_type": "markdown",
   "metadata": {},
   "source": [
    "A square wave signal can be synthesised from a superposition of sinewaves using a Fourier series.\n",
    "\n",
    "$$x(t) =  \\sum_{k=0}^{K} A_k \\sin(2\\pi k f_0 n t),$$\n",
    "\n",
    "where $f_0$ is the fundamental frequency and\n",
    "\n",
    "$$A_k = \\left\\{ \\begin{array}{lll} 0 & k & \\mbox{even} \\\\ \\frac{1}{k} & k & \\mbox{odd} \\end{array}\\right.$$\n",
    "\n",
    "The signal has a period $T = 1 / f_0$.  The larger the value of $K$ the closer the approximation to square wave.\n",
    "\n",
    "In the simulation $t = n\\Delta t$, where $\\Delta t = 1 / f_s$ is the sampling period, and $f_s$ is the sampling frequency."
   ]
  },
  {
   "cell_type": "code",
   "execution_count": 1,
   "metadata": {},
   "outputs": [
    {
     "data": {
      "application/vnd.jupyter.widget-view+json": {
       "model_id": "105fa288ad8540fda187cd46f60b56ec",
       "version_major": 2,
       "version_minor": 0
      },
      "text/plain": [
       "interactive(children=(IntSlider(value=10, description='K', min=1), IntSlider(value=2, description='f0', max=10…"
      ]
     },
     "metadata": {},
     "output_type": "display_data"
    }
   ],
   "source": [
    "%matplotlib inline\n",
    "from demos import square_wave_synthesis_demo1\n",
    "square_wave_synthesis_demo1();"
   ]
  },
  {
   "cell_type": "markdown",
   "metadata": {},
   "source": [
    "Note, sometimes the waveform is not symmetrical due to aliasing (the screen resolution is not high enough to show the fine detail)."
   ]
  }
 ],
 "metadata": {
  "kernelspec": {
   "display_name": "Python 3 (ipykernel)",
   "language": "python",
   "name": "python3"
  },
  "language_info": {
   "codemirror_mode": {
    "name": "ipython",
    "version": 3
   },
   "file_extension": ".py",
   "mimetype": "text/x-python",
   "name": "python",
   "nbconvert_exporter": "python",
   "pygments_lexer": "ipython3",
   "version": "3.7.11"
  }
 },
 "nbformat": 4,
 "nbformat_minor": 2
}
