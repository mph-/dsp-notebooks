{
 "cells": [
  {
   "cell_type": "markdown",
   "metadata": {},
   "source": [
    "# Reconstruction"
   ]
  },
  {
   "cell_type": "markdown",
   "metadata": {},
   "source": [
    "The following demo shows what happens when an analogue signal is reconstructed from a discrete time signal.\n",
    "\n",
    "Joining the dots with straight lines (interpolation) produces a poor approximation unless the signal is well over-sampled.\n",
    "\n",
    "Provided the signal is adequately sampled, the original signal can be reconstructed with sinc interpolation.  If the signal is undersampled, an aliased signal of the wrong frequency is reconstructed.\n",
    "  \n",
    "The green plot is the original signal (likely to be obscured), the blue plot shows the discrete-time signal, and the orange plot shows the reconstructed signal.\n",
    " "
   ]
  },
  {
   "cell_type": "code",
   "execution_count": 1,
   "metadata": {},
   "outputs": [
    {
     "data": {
      "application/vnd.jupyter.widget-view+json": {
       "model_id": "0bd101b67d6d4e9dae9eec5577fb5f94",
       "version_major": 2,
       "version_minor": 0
      },
      "text/plain": [
       "interactive(children=(FloatSlider(value=5.0, description='fs', max=10.0, min=0.2, step=0.2), Dropdown(descript…"
      ]
     },
     "metadata": {},
     "output_type": "display_data"
    }
   ],
   "source": [
    "%matplotlib inline\n",
    "from demos import reconstruction_demo1\n",
    "reconstruction_demo1()"
   ]
  }
 ],
 "metadata": {
  "kernelspec": {
   "display_name": "Python 3",
   "language": "python",
   "name": "python3"
  },
  "language_info": {
   "codemirror_mode": {
    "name": "ipython",
    "version": 3
   },
   "file_extension": ".py",
   "mimetype": "text/x-python",
   "name": "python",
   "nbconvert_exporter": "python",
   "pygments_lexer": "ipython3",
   "version": "3.7.7"
  }
 },
 "nbformat": 4,
 "nbformat_minor": 4
}
