{
 "cells": [
  {
   "cell_type": "markdown",
   "metadata": {},
   "source": [
    "# Sampling"
   ]
  },
  {
   "cell_type": "markdown",
   "metadata": {},
   "source": [
    "The sampling theorem says that a band-limited signal with maximum frequency $f_{\\mathrm{max}}$ can be reconstructed to arbitrary accuracy provided it is sampled with a frequency, $f_s \\ge 2 f_{\\mathrm{max}}$.  The missing information can be recovered using sinc-interpolation.   In practice, no signal is perfectly bandlimited and it is desirable to oversample, especially for control systems to reduce latency.\n",
    "\n"
   ]
  },
  {
   "cell_type": "markdown",
   "metadata": {},
   "source": [
    "In this demo the signal is a 1 Hz sinewave:\n",
    "\n",
    "$$x(t) = \\sin(2\\pi t).$$\n",
    "\n",
    "This is sampled with $t = n \\Delta t$ where $\\Delta t = 1 /f_s$ to give a discrete-time signal\n",
    "\n",
    "$$x[n] = \\sin(2\\pi n \\Delta t).$$\n",
    "\n",
    "The blue plot shows the discrete-time signal and the orange plot shows the continuous time signal.  Since the maximum frequency is $f_{\\mathrm{max}} = 1$ Hz, when $f_s < 2$, the signal is undersampled and an aliased signal of the wrong frequency is reconstructed.\n",
    " "
   ]
  },
  {
   "cell_type": "code",
   "execution_count": 1,
   "metadata": {},
   "outputs": [
    {
     "data": {
      "application/vnd.jupyter.widget-view+json": {
       "model_id": "3109289b0d9d4905b9005c559e9bba24",
       "version_major": 2,
       "version_minor": 0
      },
      "text/plain": [
       "interactive(children=(FloatSlider(value=5.0, description='fs', max=10.0, min=0.2, step=0.2), Checkbox(value=Tr…"
      ]
     },
     "metadata": {},
     "output_type": "display_data"
    }
   ],
   "source": [
    "%matplotlib inline\n",
    "from demos import sampling_demo1\n",
    "sampling_demo1();"
   ]
  },
  {
   "cell_type": "markdown",
   "metadata": {},
   "source": [
    "The following demo shows what happens when a sampled signal is reconstructed using sinc-interpolation.  When $f_s\\le2$, the signal is undersampled and an aliased signal of the wrong frequency is reconstructed.\n",
    "  \n",
    "The blue plot shows the discrete-time signal and the orange plot shows the signal reconstructed with sinc-interpolation.\n",
    " \n",
    " "
   ]
  },
  {
   "cell_type": "code",
   "execution_count": 2,
   "metadata": {},
   "outputs": [
    {
     "data": {
      "application/vnd.jupyter.widget-view+json": {
       "model_id": "c5406b0d969740febd4bd684b1a34696",
       "version_major": 2,
       "version_minor": 0
      },
      "text/plain": [
       "interactive(children=(FloatSlider(value=5.0, description='fs', max=10.0, min=0.2, step=0.2), Checkbox(value=Tr…"
      ]
     },
     "metadata": {},
     "output_type": "display_data"
    }
   ],
   "source": [
    "from demos import reconstruction_demo1\n",
    "reconstruction_demo1()"
   ]
  },
  {
   "cell_type": "markdown",
   "metadata": {},
   "source": [
    "The next demo shows a signal with two sinusoidal components, 1 Hz and 3 Hz:\n",
    "\n",
    "$$x(t) = \\sin(2\\pi t) + \\sin(6\\pi t).$$\n",
    "\n",
    "The maximum frequency is now 3 Hz and so the sampling rate, $f_s$, must be at least 6 Hz to avoid undersampling."
   ]
  },
  {
   "cell_type": "code",
   "execution_count": 3,
   "metadata": {},
   "outputs": [
    {
     "data": {
      "application/vnd.jupyter.widget-view+json": {
       "model_id": "57de81b092c4457aa36e9e1f34be29f7",
       "version_major": 2,
       "version_minor": 0
      },
      "text/plain": [
       "interactive(children=(IntSlider(value=5, description='fs', max=15, min=-5), Checkbox(value=True, description='…"
      ]
     },
     "metadata": {},
     "output_type": "display_data"
    }
   ],
   "source": [
    "from demos import reconstruction_demo2\n",
    "reconstruction_demo2()"
   ]
  },
  {
   "cell_type": "markdown",
   "metadata": {},
   "source": [
    "The following demo shows the effect of sampling with a Butterworth low-pass frequency response.  The dashed plots are the spectral images.  Where these overlap with the solid curve, aliasing occurs.  The overlap is much more noticeable when using a Bode plot."
   ]
  },
  {
   "cell_type": "code",
   "execution_count": 4,
   "metadata": {},
   "outputs": [
    {
     "data": {
      "application/vnd.jupyter.widget-view+json": {
       "model_id": "7bc9628ee6f241a7889aaffdea81f111",
       "version_major": 2,
       "version_minor": 0
      },
      "text/plain": [
       "interactive(children=(FloatSlider(value=2.0, description='fb', max=5.0, min=1.0, step=0.5), FloatSlider(value=…"
      ]
     },
     "metadata": {},
     "output_type": "display_data"
    }
   ],
   "source": [
    "from demos import sampling_freq_demo1\n",
    "sampling_freq_demo1();"
   ]
  }
 ],
 "metadata": {
  "kernelspec": {
   "display_name": "Python 3",
   "language": "python",
   "name": "python3"
  },
  "language_info": {
   "codemirror_mode": {
    "name": "ipython",
    "version": 3
   },
   "file_extension": ".py",
   "mimetype": "text/x-python",
   "name": "python",
   "nbconvert_exporter": "python",
   "pygments_lexer": "ipython3",
   "version": "3.5.2"
  }
 },
 "nbformat": 4,
 "nbformat_minor": 2
}
