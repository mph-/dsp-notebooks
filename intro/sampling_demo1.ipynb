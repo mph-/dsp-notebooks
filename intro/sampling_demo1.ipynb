{
 "cells": [
  {
   "cell_type": "markdown",
   "metadata": {},
   "source": [
    "# Sampling demo 1"
   ]
  },
  {
   "cell_type": "markdown",
   "metadata": {},
   "source": [
    "The sampling theorem says that a band-limited signal with maximum frequency $f_{\\mathrm{max}}$ can be reconstructed to arbitrary accuracy provided it is sampled with a frequency, $f_s \\ge 2 f_{\\mathrm{max}}$.  The missing information can be recovered using sinc-interpolation.   In practice, no signal is perfectly bandlimited and it is desirable to oversample, especially for control systems to reduce latency.\n",
    "\n"
   ]
  },
  {
   "cell_type": "markdown",
   "metadata": {},
   "source": [
    "In this demo the signal is\n",
    "\n",
    "$$x(t) = sin(2\\pi f_0 t).$$\n",
    "\n",
    "This is sampled with $t = n \\Delta t$ where $\\Delta t = 1 /f_s$ to give a discrete-time signal\n",
    "\n",
    "$$x[n] = sin(2\\pi f_0 n \\Delta t).$$\n",
    "\n",
    "The blue plot shows the discrete-time signal and the orange plot shows the continuous time signal.  The sampling rate, $f_s$, is set by\n",
    " \n",
    " $$ f_s = M f_0,$$\n",
    " \n",
    " where $f_0$ is the frequency of the sinewave.  When $M < 2$, the signal is undersampled and an aliased signal of the wrong frequency is reconstructed.\n",
    " "
   ]
  },
  {
   "cell_type": "code",
   "execution_count": 3,
   "metadata": {},
   "outputs": [
    {
     "data": {
      "application/vnd.jupyter.widget-view+json": {
       "model_id": "eaed8a28c8bc481084f95c9588803a8d",
       "version_major": 2,
       "version_minor": 0
      },
      "text/plain": [
       "interactive(children=(FloatSlider(value=10.0, description='M', max=10.0, min=0.2, step=0.2), Checkbox(value=Tr…"
      ]
     },
     "metadata": {},
     "output_type": "display_data"
    }
   ],
   "source": [
    "from lib import sampling_demo1\n",
    "sampling_demo1()"
   ]
  },
  {
   "cell_type": "markdown",
   "metadata": {},
   "source": [
    "The following demo shows what happens when a sampled signal is reconstructed using sinc-interpolation.  When $M\\le2$, the signal is undersampled and an aliased signal of the wrong frequency is reconstructed.\n",
    "  \n",
    "The blue plot shows the discrete-time signal and the orange plot shows the signal reconstructed with sinc-interpolation.\n",
    " \n",
    " "
   ]
  },
  {
   "cell_type": "code",
   "execution_count": 2,
   "metadata": {},
   "outputs": [
    {
     "data": {
      "application/vnd.jupyter.widget-view+json": {
       "model_id": "b2c1a5aaa4c049ef8bef1ceb688c65ae",
       "version_major": 2,
       "version_minor": 0
      },
      "text/plain": [
       "interactive(children=(FloatSlider(value=10.0, description='M', max=10.0, min=0.2, step=0.2), Checkbox(value=Tr…"
      ]
     },
     "metadata": {},
     "output_type": "display_data"
    }
   ],
   "source": [
    "from lib import reconstruction_demo1\n",
    "reconstruction_demo1()"
   ]
  }
 ],
 "metadata": {
  "kernelspec": {
   "display_name": "Python 3",
   "language": "python",
   "name": "python3"
  },
  "language_info": {
   "codemirror_mode": {
    "name": "ipython",
    "version": 3
   },
   "file_extension": ".py",
   "mimetype": "text/x-python",
   "name": "python",
   "nbconvert_exporter": "python",
   "pygments_lexer": "ipython3",
   "version": "3.5.2"
  }
 },
 "nbformat": 4,
 "nbformat_minor": 2
}
