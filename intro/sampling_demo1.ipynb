{
 "cells": [
  {
   "cell_type": "markdown",
   "metadata": {},
   "source": [
    "# Sampling demo 1"
   ]
  },
  {
   "cell_type": "markdown",
   "metadata": {},
   "source": [
    "The sampling theorem says that a band-limited signal with maximum frequency $f_{\\mathrm{max}}$ can be reconstructed to arbitrary accuracy provided it is sampled with a frequency, $f_s \\ge 2 f_{\\mathrm{max}}$.  The missing information can be recovered using sinc-interpolation.   In practice, no signal is perfectly bandlimited and it is desirable to oversample, especially for control systems to reduce latency.\n",
    "\n"
   ]
  },
  {
   "cell_type": "markdown",
   "metadata": {},
   "source": [
    "In this demo the signal is a 1 Hz sinewave:\n",
    "\n",
    "$$x(t) = \\sin(2\\pi t).$$\n",
    "\n",
    "This is sampled with $t = n \\Delta t$ where $\\Delta t = 1 /f_s$ to give a discrete-time signal\n",
    "\n",
    "$$x[n] = \\sin(2\\pi n \\Delta t).$$\n",
    "\n",
    "The blue plot shows the discrete-time signal and the orange plot shows the continuous time signal.  Since the maximum frequency is $f_{\\mathrm{max}} = 1$ Hz, when $f_s < 2$, the signal is undersampled and an aliased signal of the wrong frequency is reconstructed.\n",
    " "
   ]
  },
  {
   "cell_type": "code",
   "execution_count": 5,
   "metadata": {},
   "outputs": [
    {
     "data": {
      "application/vnd.jupyter.widget-view+json": {
       "model_id": "6b168aa80b554fd2b9b16457d584452e",
       "version_major": 2,
       "version_minor": 0
      },
      "text/plain": [
       "interactive(children=(FloatSlider(value=5.0, description='fs', max=10.0, min=0.2, step=0.2), Checkbox(value=Tr…"
      ]
     },
     "metadata": {},
     "output_type": "display_data"
    }
   ],
   "source": [
    "from lib import sampling_demo1\n",
    "sampling_demo1()"
   ]
  },
  {
   "cell_type": "markdown",
   "metadata": {},
   "source": [
    "The following demo shows what happens when a sampled signal is reconstructed using sinc-interpolation.  When $f_s\\le2$, the signal is undersampled and an aliased signal of the wrong frequency is reconstructed.\n",
    "  \n",
    "The blue plot shows the discrete-time signal and the orange plot shows the signal reconstructed with sinc-interpolation.\n",
    " \n",
    " "
   ]
  },
  {
   "cell_type": "code",
   "execution_count": 2,
   "metadata": {},
   "outputs": [
    {
     "data": {
      "application/vnd.jupyter.widget-view+json": {
       "model_id": "e91137d690d54763978992da763ace4f",
       "version_major": 2,
       "version_minor": 0
      },
      "text/plain": [
       "interactive(children=(FloatSlider(value=5.0, description='fs', max=10.0, min=0.2, step=0.2), Checkbox(value=Tr…"
      ]
     },
     "metadata": {},
     "output_type": "display_data"
    }
   ],
   "source": [
    "from lib import reconstruction_demo1\n",
    "reconstruction_demo1()"
   ]
  },
  {
   "cell_type": "markdown",
   "metadata": {},
   "source": [
    "The next demo shows a signal with two sinusoidal components, 1 Hz and 3 Hz:\n",
    "\n",
    "$$x(t) = \\sin(2\\pi t) + \\sin(6\\pi t).$$\n",
    "\n",
    "The maximum frequency is now 3 Hz and so the sampling rate, $f_s$, must be at least 6 Hz to avoid undersampling."
   ]
  },
  {
   "cell_type": "code",
   "execution_count": 3,
   "metadata": {},
   "outputs": [
    {
     "data": {
      "application/vnd.jupyter.widget-view+json": {
       "model_id": "d5458b1e83ca45358a943cd1969bfb8b",
       "version_major": 2,
       "version_minor": 0
      },
      "text/plain": [
       "interactive(children=(IntSlider(value=5, description='fs', max=15, min=-5), Checkbox(value=True, description='…"
      ]
     },
     "metadata": {},
     "output_type": "display_data"
    }
   ],
   "source": [
    "from lib import reconstruction_demo2\n",
    "reconstruction_demo2()"
   ]
  }
 ],
 "metadata": {
  "kernelspec": {
   "display_name": "Python 3",
   "language": "python",
   "name": "python3"
  },
  "language_info": {
   "codemirror_mode": {
    "name": "ipython",
    "version": 3
   },
   "file_extension": ".py",
   "mimetype": "text/x-python",
   "name": "python",
   "nbconvert_exporter": "python",
   "pygments_lexer": "ipython3",
   "version": "3.5.2"
  }
 },
 "nbformat": 4,
 "nbformat_minor": 2
}
