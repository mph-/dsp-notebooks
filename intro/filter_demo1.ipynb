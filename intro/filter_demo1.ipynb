{
 "cells": [
  {
   "cell_type": "markdown",
   "id": "47d88fae",
   "metadata": {},
   "source": [
    "# A common problem\n",
    "\n",
    "\n",
    "Signals from sensors are often contaminated with interference and noise.  Filters can help remove this contamination."
   ]
  },
  {
   "cell_type": "code",
   "execution_count": 1,
   "id": "b9dc5733",
   "metadata": {},
   "outputs": [
    {
     "data": {
      "application/vnd.jupyter.widget-view+json": {
       "model_id": "577b95eec18c4ed8b96b1bbd7ac902df",
       "version_major": 2,
       "version_minor": 0
      },
      "text/plain": [
       "interactive(children=(Checkbox(value=True, description='interference'), Checkbox(value=False, description='noi…"
      ]
     },
     "metadata": {},
     "output_type": "display_data"
    }
   ],
   "source": [
    "%matplotlib inline\n",
    "from demos import filter_demo1\n",
    "filter_demo1();"
   ]
  },
  {
   "cell_type": "markdown",
   "id": "444fff4f",
   "metadata": {},
   "source": [
    "# Fun with signal processing"
   ]
  },
  {
   "cell_type": "code",
   "execution_count": 2,
   "id": "e9a8c7c8",
   "metadata": {},
   "outputs": [
    {
     "data": {
      "application/vnd.jupyter.widget-view+json": {
       "model_id": "e90c5520464a420a95674ba53f0f2592",
       "version_major": 2,
       "version_minor": 0
      },
      "text/plain": [
       "interactive(children=(Dropdown(description='signal_name', index=1, options=(None, 'dalek-exterminate', 'dalek-…"
      ]
     },
     "metadata": {},
     "output_type": "display_data"
    }
   ],
   "source": [
    "%matplotlib inline\n",
    "from demos import convolution_audio_demo1\n",
    "convolution_audio_demo1();"
   ]
  }
 ],
 "metadata": {
  "kernelspec": {
   "display_name": "Python 3 (ipykernel)",
   "language": "python",
   "name": "python3"
  },
  "language_info": {
   "codemirror_mode": {
    "name": "ipython",
    "version": 3
   },
   "file_extension": ".py",
   "mimetype": "text/x-python",
   "name": "python",
   "nbconvert_exporter": "python",
   "pygments_lexer": "ipython3",
   "version": "3.7.11"
  }
 },
 "nbformat": 4,
 "nbformat_minor": 5
}
