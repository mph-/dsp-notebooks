{
 "cells": [
  {
   "cell_type": "markdown",
   "metadata": {},
   "source": [
    "# Impulse response of moving average low-pass filter"
   ]
  },
  {
   "cell_type": "markdown",
   "metadata": {},
   "source": [
    "A moving average low-pass averaging filter has the form:\n",
    "\n",
    "$$y[n] = \\frac{1}{M} \\sum_{m=0}^{M-1} x[n - m],$$\n",
    "\n",
    "where $M$ is the number of averaged samples.  \n",
    "\n",
    "The impulse response, $h[n]$, can be found from the inverse z-transform of the discrete-time transfer function $H(z)$.  It can also be found by expressing the filter as a convolution:\n",
    "\n",
    "$$y[n] = \\sum_{m=0}^{M-1} h[m] x[n - m].$$\n",
    "\n",
    "The following demo shows the filter impulse response, $h[n]$, which is simply the sequence $\\{1, 1, ..., 1\\} / M$."
   ]
  },
  {
   "cell_type": "code",
   "execution_count": 1,
   "metadata": {},
   "outputs": [
    {
     "data": {
      "application/vnd.jupyter.widget-view+json": {
       "model_id": "e54e309d7fec4c8692000e3e2d43c93a",
       "version_major": 2,
       "version_minor": 0
      },
      "text/plain": [
       "interactive(children=(IntSlider(value=10, description='M', min=10), IntSlider(value=100, description='fs', max…"
      ]
     },
     "metadata": {},
     "output_type": "display_data"
    }
   ],
   "source": [
    "%matplotlib inline\n",
    "from demos import ma_lpf_impulse_demo1\n",
    "ma_lpf_impulse_demo1();"
   ]
  }
 ],
 "metadata": {
  "kernelspec": {
   "display_name": "Python 3",
   "language": "python",
   "name": "python3"
  },
  "language_info": {
   "codemirror_mode": {
    "name": "ipython",
    "version": 3
   },
   "file_extension": ".py",
   "mimetype": "text/x-python",
   "name": "python",
   "nbconvert_exporter": "python",
   "pygments_lexer": "ipython3",
   "version": "3.5.2"
  }
 },
 "nbformat": 4,
 "nbformat_minor": 2
}
