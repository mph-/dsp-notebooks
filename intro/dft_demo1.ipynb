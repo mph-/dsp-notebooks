{
 "cells": [
  {
   "cell_type": "markdown",
   "metadata": {},
   "source": [
    "# Discrete Fourier transform demo 1"
   ]
  },
  {
   "cell_type": "markdown",
   "metadata": {},
   "source": [
    "The discrete Fourier transform is commonly defined as\n",
    "\n",
    "$$X[k] = \\frac{1}{N} \\sum_{n=0}^{N-1} x[n] \\exp\\left(-\\mathrm{j}2\\pi \\frac{n k}{N}\\right).$$\n",
    "\n",
    "In practice, it is computed using the fast Fourier transform (FFT).  Unlike the DTFT it produces a discrete spectrum where the frequencies are spaced by\n",
    "\n",
    "$$\\Delta f = \\frac{f_s}{N} = \\frac{1}{N \\Delta t}.$$\n",
    "\n",
    "A real signal has a spectrum with Hermitian symmetry so in the following, only the positive part of the spectrum is shown.  Also note that since the DFT produces a periodic spectrum, the frequencies above $f_s/2$ are not shown."
   ]
  },
  {
   "cell_type": "code",
   "execution_count": 6,
   "metadata": {},
   "outputs": [
    {
     "data": {
      "application/vnd.jupyter.widget-view+json": {
       "model_id": "2be6286c14e841b59cc5f2e90e483d67",
       "version_major": 2,
       "version_minor": 0
      },
      "text/plain": [
       "interactive(children=(IntSlider(value=100, description='N', max=512, min=64), IntSlider(value=2, description='…"
      ]
     },
     "metadata": {},
     "output_type": "display_data"
    }
   ],
   "source": [
    "from demos import dft_demo1\n",
    "dft_demo1();"
   ]
  },
  {
   "cell_type": "markdown",
   "metadata": {},
   "source": [
    "## Phase"
   ]
  },
  {
   "cell_type": "markdown",
   "metadata": {},
   "source": [
    "The DFT produces a complex-valued result.  This allows the phase of the input signal to be determined."
   ]
  },
  {
   "cell_type": "code",
   "execution_count": 1,
   "metadata": {},
   "outputs": [
    {
     "data": {
      "application/vnd.jupyter.widget-view+json": {
       "model_id": "2647ecf168e743fd83211ca785a5c507",
       "version_major": 2,
       "version_minor": 0
      },
      "text/plain": [
       "interactive(children=(IntSlider(value=100, description='N', max=512, min=64), IntSlider(value=2, description='…"
      ]
     },
     "metadata": {},
     "output_type": "display_data"
    }
   ],
   "source": [
    "from demos import dft_phase_demo1\n",
    "dft_phase_demo1();"
   ]
  },
  {
   "cell_type": "markdown",
   "metadata": {},
   "source": [
    "## Spectral leakage"
   ]
  },
  {
   "cell_type": "markdown",
   "metadata": {},
   "source": [
    "When the signal does not an integer number of cycles over the duration of the DFT, unexpected frequency components appear.  This is called spectral leakage."
   ]
  },
  {
   "cell_type": "code",
   "execution_count": 2,
   "metadata": {},
   "outputs": [
    {
     "data": {
      "application/vnd.jupyter.widget-view+json": {
       "model_id": "4422579ef8b249c3ba7fda716e801747",
       "version_major": 2,
       "version_minor": 0
      },
      "text/plain": [
       "interactive(children=(IntSlider(value=100, description='N', max=512, min=64), FloatSlider(value=2.5, descripti…"
      ]
     },
     "metadata": {},
     "output_type": "display_data"
    }
   ],
   "source": [
    "from demos import dft_leakage_demo1\n",
    "dft_leakage_demo1();"
   ]
  },
  {
   "cell_type": "markdown",
   "metadata": {},
   "source": [
    "# Zero padding"
   ]
  },
  {
   "cell_type": "markdown",
   "metadata": {},
   "source": [
    "Zeropadding in the time-domain interpolates in the frequency domain.  This is useful to get a smoother looking spectrum but the lurking spectral leakage appears.  In the following $P$ controls the zeropadding factor.  So for a signal of length $N$, $(P - 1) \\times N$ zero samples are appended to increase the DFT length from $N$ samples to $N P$ samples.  The spacing between the spectral samples becomes:\n",
    "\n",
    "$$\\Delta f = \\frac{f_s}{NP}.$$\n",
    "\n",
    "Note, the resolution is not improved; the spectrum is just better interpolated."
   ]
  },
  {
   "cell_type": "code",
   "execution_count": 3,
   "metadata": {},
   "outputs": [
    {
     "data": {
      "application/vnd.jupyter.widget-view+json": {
       "model_id": "6f0994b0316f49c2ba0e43d782a16864",
       "version_major": 2,
       "version_minor": 0
      },
      "text/plain": [
       "interactive(children=(IntSlider(value=100, description='N', max=512, min=64), IntSlider(value=2, description='…"
      ]
     },
     "metadata": {},
     "output_type": "display_data"
    }
   ],
   "source": [
    "from demos import dft_zeropad_demo1\n",
    "dft_zeropad_demo1();"
   ]
  },
  {
   "cell_type": "markdown",
   "metadata": {},
   "source": [
    "## Windowing"
   ]
  },
  {
   "cell_type": "markdown",
   "metadata": {},
   "source": [
    "The effect of spectral leakage can be reduced by applying a window function.  This reduces the sidelobe level but makes the mainlobe wider.  This is best viewed with the magnitude displayed in dB."
   ]
  },
  {
   "cell_type": "code",
   "execution_count": 4,
   "metadata": {},
   "outputs": [
    {
     "data": {
      "application/vnd.jupyter.widget-view+json": {
       "model_id": "73c80c28489e43d3a48c9299e51a9318",
       "version_major": 2,
       "version_minor": 0
      },
      "text/plain": [
       "interactive(children=(IntSlider(value=100, description='N', max=512, min=64), IntSlider(value=2, description='…"
      ]
     },
     "metadata": {},
     "output_type": "display_data"
    }
   ],
   "source": [
    "from demos import dft_window_demo1\n",
    "dft_window_demo1();"
   ]
  }
 ],
 "metadata": {
  "kernelspec": {
   "display_name": "Python 3",
   "language": "python",
   "name": "python3"
  },
  "language_info": {
   "codemirror_mode": {
    "name": "ipython",
    "version": 3
   },
   "file_extension": ".py",
   "mimetype": "text/x-python",
   "name": "python",
   "nbconvert_exporter": "python",
   "pygments_lexer": "ipython3",
   "version": "3.5.2"
  }
 },
 "nbformat": 4,
 "nbformat_minor": 2
}
