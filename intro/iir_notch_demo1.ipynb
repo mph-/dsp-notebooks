{
 "cells": [
  {
   "cell_type": "markdown",
   "metadata": {},
   "source": [
    "# IIR notch filter demo 1"
   ]
  },
  {
   "cell_type": "markdown",
   "metadata": {},
   "source": [
    "A second-order recursive notch filter has a difference equation:\n",
    "\n",
    "$y[n] = 2 K \\beta y[n - 1] - \\alpha y[n-2] + K x[n] - 2 K \\beta x[n-1] + K x[n-2]$,\n",
    "\n",
    "where $\\alpha$ is a parameter that controls the depth of the notch,\n",
    "\n",
    "$ \\beta = \\cos(2\\pi f_{n} \\Delta t)$,\n",
    "\n",
    "where $f_{n}$ is the notch frequency, and\n",
    "\n",
    "$ K = 0.5 (1 + \\alpha)$."
   ]
  },
  {
   "cell_type": "code",
   "execution_count": 4,
   "metadata": {},
   "outputs": [
    {
     "data": {
      "application/vnd.jupyter.widget-view+json": {
       "model_id": "ded42f6153774a0c87babaeba1b95ed1",
       "version_major": 2,
       "version_minor": 0
      },
      "text/plain": [
       "interactive(children=(IntSlider(value=50, description='fnotch', max=70, min=30), FloatSlider(value=0.5, descri…"
      ]
     },
     "metadata": {},
     "output_type": "display_data"
    }
   ],
   "source": [
    "from demos import iir_notch_demo1\n",
    "iir_notch_demo1();"
   ]
  },
  {
   "cell_type": "code",
   "execution_count": null,
   "metadata": {},
   "outputs": [],
   "source": []
  }
 ],
 "metadata": {
  "kernelspec": {
   "display_name": "Python 3",
   "language": "python",
   "name": "python3"
  },
  "language_info": {
   "codemirror_mode": {
    "name": "ipython",
    "version": 3
   },
   "file_extension": ".py",
   "mimetype": "text/x-python",
   "name": "python",
   "nbconvert_exporter": "python",
   "pygments_lexer": "ipython3",
   "version": "3.5.2"
  }
 },
 "nbformat": 4,
 "nbformat_minor": 2
}
