{
 "cells": [
  {
   "cell_type": "markdown",
   "metadata": {},
   "source": [
    "# Signal types\n",
    "\n",
    "Signals can be classified as discrete or continuous time and discrete or continuous value.\n",
    "\n",
    "\n",
    "A discrete-time signal, $x[n]$, is related to a continuous time signal, $x(t)$, by\n",
    "\n",
    "$x[n] = x(n \\Delta t)$\n",
    "\n",
    "where $n$ is the (integer) sample index and the time increment, $\\Delta t$, is the reciprocal of the sampling frequency, $f_s$,\n",
    "\n",
    "$\\Delta t = \\frac{1}{f_s}$.\n",
    "\n",
    "A discrete-time signal can be portrayed by a stem (a.k.a. lollipop) plot.  In practice, they are often plotted by drawing straight lines between the sample values if the signal is well oversampled.  This makes them look like an analogue signal."
   ]
  },
  {
   "cell_type": "code",
   "execution_count": 1,
   "metadata": {},
   "outputs": [
    {
     "data": {
      "application/vnd.jupyter.widget-view+json": {
       "model_id": "bd3f1dbe8679457c83781ab47fd154ab",
       "version_major": 2,
       "version_minor": 0
      },
      "text/plain": [
       "interactive(children=(Checkbox(value=False, description='discrete_time'), Checkbox(value=False, description='d…"
      ]
     },
     "metadata": {},
     "output_type": "display_data"
    }
   ],
   "source": [
    "%matplotlib inline\n",
    "from demos import signal_types_demo1\n",
    "signal_types_demo1()"
   ]
  }
 ],
 "metadata": {
  "kernelspec": {
   "display_name": "Python 3 (ipykernel)",
   "language": "python",
   "name": "python3"
  },
  "language_info": {
   "codemirror_mode": {
    "name": "ipython",
    "version": 3
   },
   "file_extension": ".py",
   "mimetype": "text/x-python",
   "name": "python",
   "nbconvert_exporter": "python",
   "pygments_lexer": "ipython3",
   "version": "3.7.11"
  }
 },
 "nbformat": 4,
 "nbformat_minor": 2
}
