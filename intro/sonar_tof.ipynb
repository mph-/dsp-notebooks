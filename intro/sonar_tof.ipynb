{
 "cells": [
  {
   "cell_type": "markdown",
   "metadata": {},
   "source": [
    "# Sonar time of flight\n",
    "\n",
    "Sonar echo signals are a superposition of delayed replicas of the transmitted signal.\n",
    "\n",
    "This demo shows the echo from a single target at a specified range r.  The transmit signal is an 8 cycle 40 kHz tone burst.  In practice, this is filtered by the transmitting transducer.  The key things to note is that the delay is proportional to range, r, and that the amplitude of the echo rapidly decreases with range since spreading losses causes the amplitude to be inversely proportional to the square of range."
   ]
  },
  {
   "cell_type": "code",
   "execution_count": 1,
   "metadata": {
    "scrolled": false
   },
   "outputs": [
    {
     "data": {
      "application/vnd.jupyter.widget-view+json": {
       "model_id": "97a7aa9635e149f688e5af6329800f2c",
       "version_major": 2,
       "version_minor": 0
      },
      "text/plain": [
       "interactive(children=(FloatSlider(value=0.1, description='r', max=0.5, min=0.05, step=0.025), Checkbox(value=F…"
      ]
     },
     "metadata": {},
     "output_type": "display_data"
    }
   ],
   "source": [
    "%matplotlib inline\n",
    "from demos import sonar_tof_demo1\n",
    "sonar_tof_demo1();"
   ]
  },
  {
   "cell_type": "markdown",
   "metadata": {},
   "source": [
    "The echo response is more complicated since the transmit and receive transducers are band-pass filters.  These introduce an additional delay that needs to be calibrated.\n",
    "\n",
    "A simple model for each transducer is a second order system.  The following demo uses a 40 kHz gated square wave signal with each transducer having a 40 kHz centre frequency and 4 kHz bandwidth."
   ]
  },
  {
   "cell_type": "code",
   "execution_count": 2,
   "metadata": {},
   "outputs": [
    {
     "data": {
      "application/vnd.jupyter.widget-view+json": {
       "model_id": "7c2becb2410d4fff942f643b9327f84f",
       "version_major": 2,
       "version_minor": 0
      },
      "text/plain": [
       "interactive(children=(Checkbox(value=False, description='tx_filter'), Checkbox(value=False, description='rx_fi…"
      ]
     },
     "metadata": {},
     "output_type": "display_data"
    }
   ],
   "source": [
    "from demos import sonar_tof_demo2\n",
    "sonar_tof_demo2();"
   ]
  },
  {
   "cell_type": "markdown",
   "metadata": {},
   "source": [
    "The following demo is a cartoon of a pulse-echo sonar (or radar) showing the main lobe of the transmit transducer beam-pattern.  The actual waves are more complicated."
   ]
  },
  {
   "cell_type": "code",
   "execution_count": 3,
   "metadata": {},
   "outputs": [
    {
     "data": {
      "application/vnd.jupyter.widget-view+json": {
       "model_id": "f414ae51624146a48b7e182a5454ef2e",
       "version_major": 2,
       "version_minor": 0
      },
      "text/plain": [
       "interactive(children=(IntSlider(value=16, description='X', max=20, min=4, step=2), IntSlider(value=20, descrip…"
      ]
     },
     "metadata": {},
     "output_type": "display_data"
    }
   ],
   "source": [
    "from demos import sonar_demo1\n",
    "sonar_demo1();"
   ]
  },
  {
   "cell_type": "markdown",
   "metadata": {},
   "source": [
    "Here's a cartoon of a multiple transducer array.  If $M$ transducers are synchronised so that their signals are in phase, the angular width of the mainlobe is reduced by $M$ (in the far-field of the array."
   ]
  },
  {
   "cell_type": "code",
   "execution_count": 4,
   "metadata": {},
   "outputs": [
    {
     "data": {
      "application/vnd.jupyter.widget-view+json": {
       "model_id": "daf506a2005d44aeb9747a1ffeae882d",
       "version_major": 2,
       "version_minor": 0
      },
      "text/plain": [
       "interactive(children=(IntSlider(value=20, description='X', max=30, min=4, step=2), IntSlider(value=3, descript…"
      ]
     },
     "metadata": {},
     "output_type": "display_data"
    }
   ],
   "source": [
    "from demos import sonararray_demo2\n",
    "sonar_demo2();"
   ]
  }
 ],
 "metadata": {
  "kernelspec": {
   "display_name": "Python 3",
   "language": "python",
   "name": "python3"
  },
  "language_info": {
   "codemirror_mode": {
    "name": "ipython",
    "version": 3
   },
   "file_extension": ".py",
   "mimetype": "text/x-python",
   "name": "python",
   "nbconvert_exporter": "python",
   "pygments_lexer": "ipython3",
   "version": "3.7.7"
  }
 },
 "nbformat": 4,
 "nbformat_minor": 2
}
