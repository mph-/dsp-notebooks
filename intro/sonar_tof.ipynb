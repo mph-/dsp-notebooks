{
 "cells": [
  {
   "cell_type": "markdown",
   "metadata": {},
   "source": [
    "# Sonar time of flight\n",
    "\n",
    "Sonar echo signals are a superposition of delayed replicas of the transmitted signal.\n",
    "\n",
    "This demo shows the echo from a single target at a specified range r.  The transmit signal is an 8 cycle 40 kHz tone burst.  In practice, this is filtered by the transmitting transducer.  The key things to note is that the delay is proportional to range, r, and that the amplitude of the echo rapidly decreases with range since spreading losses causes the amplitude to be inversely proportional to the square of range."
   ]
  },
  {
   "cell_type": "code",
   "execution_count": 1,
   "metadata": {
    "scrolled": false
   },
   "outputs": [
    {
     "data": {
      "application/vnd.jupyter.widget-view+json": {
       "model_id": "9ca5c774c9d44d35a0bc07ae5efec224",
       "version_major": 2,
       "version_minor": 0
      },
      "text/plain": [
       "interactive(children=(FloatSlider(value=0.1, description='r', max=0.5, min=0.05, step=0.025), Checkbox(value=F…"
      ]
     },
     "metadata": {},
     "output_type": "display_data"
    }
   ],
   "source": [
    "%matplotlib inline\n",
    "from demos import sonar_tof_demo1\n",
    "sonar_tof_demo1();"
   ]
  }
 ],
 "metadata": {
  "kernelspec": {
   "display_name": "Python 3",
   "language": "python",
   "name": "python3"
  },
  "language_info": {
   "codemirror_mode": {
    "name": "ipython",
    "version": 3
   },
   "file_extension": ".py",
   "mimetype": "text/x-python",
   "name": "python",
   "nbconvert_exporter": "python",
   "pygments_lexer": "ipython3",
   "version": "3.7.7"
  }
 },
 "nbformat": 4,
 "nbformat_minor": 2
}
