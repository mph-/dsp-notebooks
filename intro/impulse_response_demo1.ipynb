{
 "cells": [
  {
   "cell_type": "markdown",
   "metadata": {},
   "source": [
    "# Impulse response\n",
    "\n",
    "The response, $y(t)$ of a LTI system due to a stimulus, $x(t)$, is given by the convolution integral\n",
    "\n",
    "$$y(t) = \\int_{-\\infty}^{\\infty} x(t - \\tau) h(\\tau) \\mathrm{d}\\tau,$$\n",
    "\n",
    "where $h(t)$ is the impulse response of the system.\n",
    "\n",
    "If the stimulus is a Dirac delta, $x(t) = \\delta(t)$, the output response, $y(t)$, is the impulse response, $h(t)$ of the system.\n",
    "\n",
    "To a good approximation, the impulse response can be found if the input signal is at least ten-times shorter than the impulse response.  An intuitive way to understand this is to consider the system response in the frequency domain,\n",
    "\n",
    "$$Y(f) = X(f) H(f)$$.\n",
    "\n",
    "If the bandwidth of $X(f)$ is much broader than the bandwidth of $H(f)$, then $Y(f) \\approx H(f)$. \n",
    "\n",
    "In the following demo you can choose an impulse response, $h(t)$, and the width of the input excitation, $x(t)$.  The top plots show $x(t)$ and its spectrum $|X(f)|$. \n",
    "The bottom plots show $y(t)$ and its spectrum $|Y(f)|$ in blue with $h(t)$ and $|H(f)|$ in orange."
   ]
  },
  {
   "cell_type": "code",
   "execution_count": 1,
   "metadata": {
    "scrolled": false
   },
   "outputs": [
    {
     "data": {
      "application/vnd.jupyter.widget-view+json": {
       "model_id": "65933f70aa694791b5a4305685fca340",
       "version_major": 2,
       "version_minor": 0
      },
      "text/plain": [
       "interactive(children=(Dropdown(description='h', index=9, options=('rect(t)', 'rect(t/2)', 'fang(t)', 'tri(t)',…"
      ]
     },
     "metadata": {},
     "output_type": "display_data"
    }
   ],
   "source": [
    "import matplotlib\n",
    "from demos import impulse_response_demo1\n",
    "impulse_response_demo1();"
   ]
  },
  {
   "cell_type": "markdown",
   "metadata": {},
   "source": [
    "## Convolution as a superposition of impulse responses\n",
    "\n",
    "In this demo, the signals on the left are convolved with the impulse resonse, $h(t)$, to give the signals on the right.  It shows how a step function can be synthesised using a superposition of shifted rectangle functions.  If the rectangle function is narrow enough, it can be considered an impulse and thus it will generate a scaled version of the impulse response.  However, unlike the Dirac delta, these impulses have a finite amplitude and thus the scale factor is small."
   ]
  },
  {
   "cell_type": "code",
   "execution_count": 2,
   "metadata": {
    "scrolled": false
   },
   "outputs": [
    {
     "data": {
      "application/vnd.jupyter.widget-view+json": {
       "model_id": "6d25d67442824cad833c58f645ecf887",
       "version_major": 2,
       "version_minor": 0
      },
      "text/plain": [
       "interactive(children=(Dropdown(description='h', index=9, options=('rect(t)', 'rect(t/2)', 'fang(t)', 'tri(t)',…"
      ]
     },
     "metadata": {},
     "output_type": "display_data"
    }
   ],
   "source": [
    "from demos import convolution_demo3\n",
    "convolution_demo3();"
   ]
  }
 ],
 "metadata": {
  "kernelspec": {
   "display_name": "Python 3",
   "language": "python",
   "name": "python3"
  },
  "language_info": {
   "codemirror_mode": {
    "name": "ipython",
    "version": 3
   },
   "file_extension": ".py",
   "mimetype": "text/x-python",
   "name": "python",
   "nbconvert_exporter": "python",
   "pygments_lexer": "ipython3",
   "version": "3.7.7"
  }
 },
 "nbformat": 4,
 "nbformat_minor": 2
}
