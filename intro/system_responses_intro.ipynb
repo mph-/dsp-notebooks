{
 "cells": [
  {
   "cell_type": "markdown",
   "metadata": {},
   "source": [
    "# Introduction to system responses"
   ]
  },
  {
   "cell_type": "code",
   "execution_count": 1,
   "metadata": {},
   "outputs": [],
   "source": [
    "%matplotlib inline"
   ]
  },
  {
   "cell_type": "code",
   "execution_count": 2,
   "metadata": {
    "scrolled": false
   },
   "outputs": [],
   "source": [
    "from demos import polezero_gen1_demo1, polezero_gen2_demo1\n",
    "from demos import polezero_p1z1_demo1, polezero_p3z1_demo1"
   ]
  },
  {
   "cell_type": "markdown",
   "metadata": {},
   "source": [
    "## First-order low-pass and high-pass systems\n",
    "\n",
    "The transfer function (with unity DC gain) of a low-pass system is\n",
    "$$ H(s) = \\frac{\\alpha}{s + \\alpha},$$\n",
    "with a single pole at\n",
    "$$s = -\\alpha.$$\n",
    "\n",
    "The high-pass system is similar,\n",
    "$$H(s) = \\frac{s}{s + \\alpha};$$\n",
    "this also has a single zero at \n",
    "$$s = 0.$$\n",
    "\n",
    "A first order system has two knobs; the gain at DC and the pole position.  The pole position "
   ]
  },
  {
   "cell_type": "code",
   "execution_count": 3,
   "metadata": {
    "scrolled": false
   },
   "outputs": [
    {
     "data": {
      "application/vnd.jupyter.widget-view+json": {
       "model_id": "fe522d56e5fe4a77b88e1c67f4c99ac1",
       "version_major": 2,
       "version_minor": 0
      },
      "text/plain": [
       "interactive(children=(IntSlider(value=5, description='alpha', max=30), Dropdown(description='kind', options=('…"
      ]
     },
     "metadata": {},
     "output_type": "display_data"
    }
   ],
   "source": [
    "polezero_gen1_demo1()"
   ]
  },
  {
   "cell_type": "markdown",
   "metadata": {},
   "source": [
    "## First-order lead and lag compensators\n",
    "\n",
    "First-order lead and lag compensators have a single pole and a single zero.   They have a transfer function,\n",
    "$$H(s) = \\frac{s - z}{s - p},$$\n",
    "with a pole at\n",
    "$$s = p,$$\n",
    "and a zero at\n",
    "$$s = z.$$\n",
    "When $|p| < |z|$, the system acts as a lag-compensator.\n"
   ]
  },
  {
   "cell_type": "code",
   "execution_count": 4,
   "metadata": {
    "scrolled": false
   },
   "outputs": [
    {
     "data": {
      "application/vnd.jupyter.widget-view+json": {
       "model_id": "4750930212bb4b42b7c6756ff086f09b",
       "version_major": 2,
       "version_minor": 0
      },
      "text/plain": [
       "interactive(children=(IntSlider(value=-10, description='p', max=0, min=-30), IntSlider(value=-5, description='…"
      ]
     },
     "metadata": {},
     "output_type": "display_data"
    }
   ],
   "source": [
    "polezero_p1z1_demo1()"
   ]
  },
  {
   "cell_type": "markdown",
   "metadata": {},
   "source": [
    "## Second-order  systems\n",
    "\n",
    "The transfer function (with unity DC gain) of a low-pass system is\n",
    "$$ H(s) = \\frac{\\omega_0^2}{s^2 + 2 \\zeta \\omega_0 s + \\omega_0^2}.$$\n",
    "\n",
    "When $\\zeta < 1$ (under damped) there are complex conjugate poles at\n",
    "$$s = -\\omega_0 \\zeta \\pm \\mathrm{j} \\omega_0 \\sqrt{1 - \\zeta^2}.$$\n",
    "\n",
    "When $\\zeta = 1$ (critically damped) there are repeated poles at\n",
    "$$s = -\\omega_0, -\\omega_0.$$\n",
    "\n",
    "When $\\zeta > 1$ (over damped) there are two real poles at\n",
    "$$s = -\\omega_0 \\zeta \\pm \\omega_0 \\sqrt{\\zeta^2 - 1}.$$\n",
    "\n",
    "The second-order band-pass system is similar to a low-pass system, but with a pole at $s=0$.\n",
    "$$ H(s) = \\frac{2 \\zeta \\omega_0 s}{s^2 + 2 \\zeta \\omega_0 s + \\omega_0^2}.$$\n",
    "\n",
    "The second-order high-pass system has two poles at $s=0$.\n",
    "$$ H(s) = \\frac{s^2}{s^2 + 2 \\zeta \\omega_0 s + \\omega_0^2}.$$\n",
    "\n"
   ]
  },
  {
   "cell_type": "code",
   "execution_count": 5,
   "metadata": {
    "scrolled": false
   },
   "outputs": [
    {
     "data": {
      "application/vnd.jupyter.widget-view+json": {
       "model_id": "9f15abbfd9144336a2b1f761e5aefddf",
       "version_major": 2,
       "version_minor": 0
      },
      "text/plain": [
       "interactive(children=(FloatSlider(value=0.5, description='zeta', max=10.0, min=0.1), IntSlider(value=10, descr…"
      ]
     },
     "metadata": {},
     "output_type": "display_data"
    }
   ],
   "source": [
    "polezero_gen2_demo1()"
   ]
  },
  {
   "cell_type": "markdown",
   "metadata": {},
   "source": [
    "## Higher order systems\n",
    "\n",
    "The behaviour of third-order and higher order systems becomes complicated.   However, in many cases a pole can dominate the behaviour and the response approximates first or second order.\n",
    "\n",
    "For example, consider the transfer function for a third-order system with two complex conjugate poles, a real pole, and a real zero:\n",
    "$$ H(s) = \\frac{\\alpha_2\\left(\\alpha_1^2 + \\omega_1^2\\right)(s + \\beta_1)}{\\beta_1 (s + \\alpha_1 - \\mathrm{j} \\omega_1) (s + \\alpha_1 + \\mathrm{j}\\omega_1)(s + \\alpha_2)}.$$\n",
    "\n",
    "The poles are at\n",
    "$$s = - \\alpha_1 \\pm \\mathrm{j} \\omega_1, -\\alpha_2$$\n",
    "and the zero is at\n",
    "$$s = -\\beta_1.$$\n",
    "\n",
    "When $\\alpha_2 >\\!> \\alpha_1$ then the pole at $s=-\\alpha_2$ has little effect and the response is largely second-order.  Similarly, when $\\alpha_1 >\\!> \\alpha_2$ then the pole at $s=-\\alpha_1$ has little effect and the response is largely first-order."
   ]
  },
  {
   "cell_type": "code",
   "execution_count": 6,
   "metadata": {
    "scrolled": false
   },
   "outputs": [
    {
     "data": {
      "application/vnd.jupyter.widget-view+json": {
       "model_id": "72e882027db74ed18d8855f4f5579003",
       "version_major": 2,
       "version_minor": 0
      },
      "text/plain": [
       "interactive(children=(IntSlider(value=5, description='alpha1', max=20, min=-2), IntSlider(value=10, descriptio…"
      ]
     },
     "metadata": {},
     "output_type": "display_data"
    }
   ],
   "source": [
    "polezero_p3z1_demo1()"
   ]
  }
 ],
 "metadata": {
  "kernelspec": {
   "display_name": "Python 3",
   "language": "python",
   "name": "python3"
  },
  "language_info": {
   "codemirror_mode": {
    "name": "ipython",
    "version": 3
   },
   "file_extension": ".py",
   "mimetype": "text/x-python",
   "name": "python",
   "nbconvert_exporter": "python",
   "pygments_lexer": "ipython3",
   "version": "3.7.7"
  }
 },
 "nbformat": 4,
 "nbformat_minor": 2
}
