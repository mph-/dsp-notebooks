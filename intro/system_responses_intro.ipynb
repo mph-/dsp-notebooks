{
 "cells": [
  {
   "cell_type": "markdown",
   "metadata": {},
   "source": [
    "# System responses"
   ]
  },
  {
   "cell_type": "code",
   "execution_count": 1,
   "metadata": {
    "scrolled": false
   },
   "outputs": [],
   "source": [
    "%matplotlib inline\n",
    "from demos import polezero_gen1_demo1, polezero_gen2_demo1, polezero_p1z1_demo1, polezero_demo4"
   ]
  },
  {
   "cell_type": "markdown",
   "metadata": {},
   "source": [
    "## First-order low-pass and high-pass systems\n",
    "\n",
    "The transfer function (with unity DC gain) of a low-pass system is\n",
    "$$ H(s) = \\frac{\\alpha}{s + \\alpha},$$\n",
    "with a single pole at\n",
    "$$s = -\\alpha.$$\n",
    "\n",
    "The high-pass system is similar,\n",
    "$$H(s) = \\frac{s}{s + \\alpha};$$\n",
    "this also has a single zero at \n",
    "$$s = 0.$$"
   ]
  },
  {
   "cell_type": "code",
   "execution_count": 2,
   "metadata": {
    "scrolled": false
   },
   "outputs": [
    {
     "data": {
      "application/vnd.jupyter.widget-view+json": {
       "model_id": "13d9bb3d83f8434ba822f2295c53fe37",
       "version_major": 2,
       "version_minor": 0
      },
      "text/plain": [
       "interactive(children=(IntSlider(value=1, description='alpha', max=30), Dropdown(description='kind', options=('…"
      ]
     },
     "metadata": {},
     "output_type": "display_data"
    }
   ],
   "source": [
    "polezero_gen1_demo1()"
   ]
  },
  {
   "cell_type": "markdown",
   "metadata": {},
   "source": [
    "## First-order lead and lag compensators\n",
    "\n",
    "First-order lead and lag compensators have a single pole and a single zero.   They have a transfer function,\n",
    "$$H(s) = \\frac{s - z}{s - p},$$\n",
    "with a pole at\n",
    "$$s = p,$$\n",
    "and a zero at\n",
    "$$s = z.$$\n",
    "When $|p| < |z|$, the system acts as a lag-compensator.\n"
   ]
  },
  {
   "cell_type": "code",
   "execution_count": 3,
   "metadata": {
    "scrolled": false
   },
   "outputs": [
    {
     "data": {
      "application/vnd.jupyter.widget-view+json": {
       "model_id": "3ac0b0ffaf8742c9b97c935ccdcd501c",
       "version_major": 2,
       "version_minor": 0
      },
      "text/plain": [
       "interactive(children=(IntSlider(value=-10, description='p', max=0, min=-30), IntSlider(value=-5, description='…"
      ]
     },
     "metadata": {},
     "output_type": "display_data"
    }
   ],
   "source": [
    "polezero_p1z1_demo1()"
   ]
  },
  {
   "cell_type": "markdown",
   "metadata": {},
   "source": [
    "## Second-order  systems\n",
    "\n",
    "The transfer function (with unity DC gain) of a low-pass system is\n",
    "$$ H(s) = \\frac{\\omega_0^2}{s^2 + 2 \\zeta \\omega_0 s + \\omega_0^2}.$$\n",
    "\n",
    "When $\\zeta < 1$ (under damped) there are complex conjugate poles at\n",
    "$$s = -\\omega_0 \\zeta \\pm \\mathrm{j} \\omega_0 \\sqrt{1 - \\zeta^2}.$$\n",
    "\n",
    "When $\\zeta = 1$ (critically damped) there are repeated poles at\n",
    "$$s = -\\omega_0, -\\omega_0.$$\n",
    "\n",
    "When $\\zeta > 1$ (over damped) there are two real poles at\n",
    "$$s = -\\omega_0 \\zeta \\pm \\omega_0 \\sqrt{\\zeta^2 - 1}.$$\n",
    "\n",
    "The second-order band-pass system is similar to a low-pass system, but with a pole at $s=0$.\n",
    "$$ H(s) = \\frac{2 \\zeta \\omega_0 s}{s^2 + 2 \\zeta \\omega_0 s + \\omega_0^2}.$$\n",
    "\n",
    "The second-order high-pass system has two poles at $s=0$.\n",
    "$$ H(s) = \\frac{s^2}{s^2 + 2 \\zeta \\omega_0 s + \\omega_0^2}.$$\n",
    "\n"
   ]
  },
  {
   "cell_type": "code",
   "execution_count": 4,
   "metadata": {
    "scrolled": false
   },
   "outputs": [
    {
     "data": {
      "application/vnd.jupyter.widget-view+json": {
       "model_id": "332c9b725de74f42bbf3c08fb3f6a8bd",
       "version_major": 2,
       "version_minor": 0
      },
      "text/plain": [
       "interactive(children=(FloatSlider(value=0.5, description='zeta', max=10.0, min=0.1), IntSlider(value=10, descr…"
      ]
     },
     "metadata": {},
     "output_type": "display_data"
    }
   ],
   "source": [
    "polezero_gen2_demo1()"
   ]
  },
  {
   "cell_type": "markdown",
   "metadata": {},
   "source": [
    "## Higher order systems\n",
    "\n",
    "The behaviour of third-order and higher order systems becomes complicated.   However, in many cases a pole can dominate the behaviour and the response approximates first or second order.\n",
    "\n",
    "For example, consider the transfer function for a third-order system with two complex conjugate poles, a real pole, and a real zero:\n",
    "$$ H(s) = \\frac{\\alpha_2\\left(\\alpha_1^2 + \\omega_1^2\\right)(s + \\beta_1)}{\\beta_1 (s + \\alpha_1 - \\mathrm{j} \\omega_1) (s + \\alpha_1 + \\mathrm{j}\\omega_1)(s + \\alpha_2)}.$$\n",
    "\n",
    "The poles are at\n",
    "$$s = - \\alpha_1 \\pm \\mathrm{j} \\omega_1, -\\alpha_2$$\n",
    "and the zero is at\n",
    "$$s = -\\beta_1.$$\n",
    "\n",
    "When $\\alpha_2 >> \\alpha_1$ then the pole at $s=-\\alpha_2$ has little effect and the response is largely second-order.  Similarly, when $\\alpha_1 >> \\alpha_2$ then the pole at $s=-\\alpha_1$ has little effect and the response is largely first-order."
   ]
  },
  {
   "cell_type": "code",
   "execution_count": 5,
   "metadata": {
    "scrolled": false
   },
   "outputs": [
    {
     "data": {
      "application/vnd.jupyter.widget-view+json": {
       "model_id": "da90e9ee6aaa4e5891eaa9bcc2d5e6d7",
       "version_major": 2,
       "version_minor": 0
      },
      "text/plain": [
       "interactive(children=(IntSlider(value=5, description='alpha1', max=20, min=-2), IntSlider(value=10, descriptio…"
      ]
     },
     "metadata": {},
     "output_type": "display_data"
    }
   ],
   "source": [
    "polezero_demo4()"
   ]
  }
 ],
 "metadata": {
  "kernelspec": {
   "display_name": "Python 3",
   "language": "python",
   "name": "python3"
  },
  "language_info": {
   "codemirror_mode": {
    "name": "ipython",
    "version": 3
   },
   "file_extension": ".py",
   "mimetype": "text/x-python",
   "name": "python",
   "nbconvert_exporter": "python",
   "pygments_lexer": "ipython3",
   "version": "3.5.2"
  }
 },
 "nbformat": 4,
 "nbformat_minor": 2
}
