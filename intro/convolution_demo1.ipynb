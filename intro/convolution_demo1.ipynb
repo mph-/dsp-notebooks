{
 "cells": [
  {
   "cell_type": "markdown",
   "metadata": {},
   "source": [
    "# Convolution\n",
    "\n",
    "The convolution of two functions $x(t)$ and $h(t)$ is denoted\n",
    "\n",
    "$$y(t) = x(t) * h(t).$$\n",
    "\n",
    "This is equivalent to\n",
    "\n",
    "$$y(t) = \\int_{-\\infty}^{\\infty} x(t - \\tau) h(\\tau) \\mathrm{d}\\tau.$$"
   ]
  },
  {
   "cell_type": "markdown",
   "metadata": {},
   "source": [
    "## Convolution examples\n",
    "\n",
    "Note in the following that:\n",
    "1. The output signal has a longer extent than $x(t)$ and $h(t)$.\n",
    "2. A signal of short duration can be considered equivalent to an impulse since it has little effect on $y(t)$."
   ]
  },
  {
   "cell_type": "code",
   "execution_count": 1,
   "metadata": {
    "scrolled": false
   },
   "outputs": [
    {
     "data": {
      "application/vnd.jupyter.widget-view+json": {
       "model_id": "1e94f3488d0e4f49b8588aeec6f99183",
       "version_major": 2,
       "version_minor": 0
      },
      "text/plain": [
       "interactive(children=(Dropdown(description='x', index=7, options=('rect(t)', 'rect(t/2)', 'fang(t)', 'tri(t)',…"
      ]
     },
     "metadata": {},
     "output_type": "display_data"
    }
   ],
   "source": [
    "import matplotlib\n",
    "%matplotlib inline\n",
    "from demos import convolution_demo2\n",
    "convolution_demo2();"
   ]
  },
  {
   "cell_type": "markdown",
   "metadata": {},
   "source": [
    "## Graphical demonstration of convolution\n",
    "\n",
    "The convolution integral is\n",
    "\n",
    "$$y(t) = \\int_{-\\infty}^{\\infty} x(t - \\tau) h(\\tau) \\mathrm{d}\\tau.$$\n",
    "\n",
    "A good way to interpret this is to consider the output response for a fixed value for $t$.  This is given by the area under the product of the functions $x(t - \\tau)$ and $h(\\tau)$.  These functions are shown in the firt plot blow.  The first function is flipped (time-reversed) and shifted by $t$.  This is drawn as the blue curve.  The second function is not flipped and is shown by the orange curve.\n",
    "\n",
    "The second plot shows the product $x(t-\\tau) h(\\tau)$.  The area of this function is denoted as the red point in the third plot."
   ]
  },
  {
   "cell_type": "code",
   "execution_count": 2,
   "metadata": {},
   "outputs": [
    {
     "data": {
      "application/vnd.jupyter.widget-view+json": {
       "model_id": "be27dfcc5ed74d0193aaad58264deca0",
       "version_major": 2,
       "version_minor": 0
      },
      "text/plain": [
       "interactive(children=(Dropdown(description='x', index=2, options=('rect(t)', 'rect(t/2)', 'fang(t)', 'tri(t)',…"
      ]
     },
     "metadata": {},
     "output_type": "display_data"
    }
   ],
   "source": [
    "from demos import convolution_demo1\n",
    "convolution_demo1();"
   ]
  }
 ],
 "metadata": {
  "kernelspec": {
   "display_name": "Python 3 (ipykernel)",
   "language": "python",
   "name": "python3"
  },
  "language_info": {
   "codemirror_mode": {
    "name": "ipython",
    "version": 3
   },
   "file_extension": ".py",
   "mimetype": "text/x-python",
   "name": "python",
   "nbconvert_exporter": "python",
   "pygments_lexer": "ipython3",
   "version": "3.7.11"
  }
 },
 "nbformat": 4,
 "nbformat_minor": 2
}
