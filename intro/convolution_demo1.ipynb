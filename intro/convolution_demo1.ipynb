{
 "cells": [
  {
   "cell_type": "markdown",
   "metadata": {},
   "source": [
    "# Convolution\n",
    "\n",
    "The convolution of two functions $x(t)$ and $h(t)$ is denoted\n",
    "\n",
    "$$y(t) = x(t) * h(t).$$\n",
    "\n",
    "This is equivalent to\n",
    "\n",
    "$$y(t) = \\int_{-\\infty}^{\\infty} x(t - \\tau) h(\\tau) \\mathrm{d}\\tau.$$"
   ]
  },
  {
   "cell_type": "markdown",
   "metadata": {},
   "source": [
    "## Convolution examples\n",
    "\n",
    "Note in the following that:\n",
    "1. The output signal has a longer extent than $x(t)$ and $h(t)$.\n",
    "2. A signal of short duration can be considered equivalent to an impulse since it has little effect on $y(t)$."
   ]
  },
  {
   "cell_type": "code",
   "execution_count": 1,
   "metadata": {
    "scrolled": false
   },
   "outputs": [
    {
     "data": {
      "application/vnd.jupyter.widget-view+json": {
       "model_id": "10b5e9cbe0a94414841755c16b4dae3e",
       "version_major": 2,
       "version_minor": 0
      },
      "text/plain": [
       "interactive(children=(Dropdown(description='x', index=7, options=('rect(t)', 'rect(t/2)', 'fang(t)', 'tri(t)',…"
      ]
     },
     "metadata": {},
     "output_type": "display_data"
    }
   ],
   "source": [
    "import matplotlib\n",
    "%matplotlib inline\n",
    "from demos import convolution_demo2\n",
    "convolution_demo2();"
   ]
  },
  {
   "cell_type": "markdown",
   "metadata": {},
   "source": [
    "## Convolution as a superposition of impulse responses\n",
    "\n",
    "In this demo, the signals on the left are convolved with the impulse resonse, $h(t)$, to give the signals on the right.  It shows how a step function can be synthesised using a superposition of shifted rectangle functions.  If the rectangle function is narrow enough, it can be considered an impulse and thus it will generate a scaled version of the impulse response.  However, unlike the Dirac delta, these impulses have a finite amplitude and thus the scale factor is small."
   ]
  },
  {
   "cell_type": "code",
   "execution_count": 2,
   "metadata": {
    "scrolled": true
   },
   "outputs": [
    {
     "data": {
      "application/vnd.jupyter.widget-view+json": {
       "model_id": "af493a343d2f4f58aadf3fbce9f0edb3",
       "version_major": 2,
       "version_minor": 0
      },
      "text/plain": [
       "interactive(children=(Dropdown(description='h', index=9, options=('rect(t)', 'rect(t/2)', 'fang(t)', 'tri(t)',…"
      ]
     },
     "metadata": {},
     "output_type": "display_data"
    }
   ],
   "source": [
    "from demos import convolution_demo3\n",
    "convolution_demo3();"
   ]
  },
  {
   "cell_type": "markdown",
   "metadata": {},
   "source": [
    "## Graphical demonstration of convolution\n",
    "\n",
    "The convolution integral is\n",
    "\n",
    "$$y(t) = \\int_{-\\infty}^{\\infty} x(t - \\tau) h(\\tau) \\mathrm{d}\\tau.$$\n",
    "\n",
    "A good way to interpret this is to consider the output response for a fixed value for $t$.  This is given by the area under the product of the functions $x(t - \\tau)$ and $h(\\tau)$.  These functions are shown in the firt plot blow.  The first function is flipped (time-reversed) and shifted by $t$.  This is drawn as the blue curve.  The second function is not flipped and is shown by the orange curve.\n",
    "\n",
    "The second plot shows the product $x(t-\\tau) h(\\tau)$.  The area of this function is denoted as the red point in the third plot."
   ]
  },
  {
   "cell_type": "code",
   "execution_count": 3,
   "metadata": {},
   "outputs": [
    {
     "data": {
      "application/vnd.jupyter.widget-view+json": {
       "model_id": "9687b18559844eeab29c415efe97d236",
       "version_major": 2,
       "version_minor": 0
      },
      "text/plain": [
       "interactive(children=(Dropdown(description='x', index=2, options=('rect(t)', 'rect(t/2)', 'fang(t)', 'tri(t)',…"
      ]
     },
     "metadata": {},
     "output_type": "display_data"
    }
   ],
   "source": [
    "from demos import convolution_demo1\n",
    "convolution_demo1();"
   ]
  }
 ],
 "metadata": {
  "kernelspec": {
   "display_name": "Python 3",
   "language": "python",
   "name": "python3"
  },
  "language_info": {
   "codemirror_mode": {
    "name": "ipython",
    "version": 3
   },
   "file_extension": ".py",
   "mimetype": "text/x-python",
   "name": "python",
   "nbconvert_exporter": "python",
   "pygments_lexer": "ipython3",
   "version": "3.5.2"
  }
 },
 "nbformat": 4,
 "nbformat_minor": 2
}
