{
 "cells": [
  {
   "cell_type": "markdown",
   "metadata": {},
   "source": [
    "# Convolution\n",
    "\n",
    "The convolution of two functions $x(t)$ and $h(t)$ is denoted\n",
    "\n",
    "$$y(t) = x(t) * h(t).$$\n",
    "\n",
    "This is equivalent to\n",
    "\n",
    "$$y(t) = \\int_{-\\infty}^{\\infty} x(t - \\tau) h(\\tau) \\mathrm{d}\\tau.$$\n",
    "\n",
    "In the first plot of the following demo, the blue curve denotes $x(t-\\tau)$ and the orange curve denotes $h(\\tau)$.  Note, the blue curve is flipped horizontally.  The second plot shows the product $x(t-\\tau) h(\\tau)$.  The area of this function is denoted as the red line in the third plot.\n"
   ]
  },
  {
   "cell_type": "code",
   "execution_count": 1,
   "metadata": {
    "scrolled": true
   },
   "outputs": [
    {
     "data": {
      "application/vnd.jupyter.widget-view+json": {
       "model_id": "a6fd5425cf5342bfa1c7f76a0a5c0566",
       "version_major": 2,
       "version_minor": 0
      },
      "text/plain": [
       "interactive(children=(Dropdown(description='x', index=5, options=('rect(t)', 'rect(t/2)', 'fang(t)', 'tri(t)',…"
      ]
     },
     "metadata": {},
     "output_type": "display_data"
    }
   ],
   "source": [
    "import matplotlib\n",
    "%matplotlib inline\n",
    "from demos import convolution_demo1\n",
    "convolution_demo1();"
   ]
  },
  {
   "cell_type": "code",
   "execution_count": 2,
   "metadata": {},
   "outputs": [
    {
     "data": {
      "application/vnd.jupyter.widget-view+json": {
       "model_id": "c84a4163923049a9a89ea49309a828c7",
       "version_major": 2,
       "version_minor": 0
      },
      "text/plain": [
       "interactive(children=(Dropdown(description='x', index=7, options=('rect(t)', 'rect(t/2)', 'fang(t)', 'tri(t)',…"
      ]
     },
     "metadata": {},
     "output_type": "display_data"
    }
   ],
   "source": [
    "from demos import convolution_demo2\n",
    "convolution_demo2();"
   ]
  }
 ],
 "metadata": {
  "kernelspec": {
   "display_name": "Python 3",
   "language": "python",
   "name": "python3"
  },
  "language_info": {
   "codemirror_mode": {
    "name": "ipython",
    "version": 3
   },
   "file_extension": ".py",
   "mimetype": "text/x-python",
   "name": "python",
   "nbconvert_exporter": "python",
   "pygments_lexer": "ipython3",
   "version": "3.5.2"
  }
 },
 "nbformat": 4,
 "nbformat_minor": 2
}
