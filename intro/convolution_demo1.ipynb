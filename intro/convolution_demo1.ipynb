{
 "cells": [
  {
   "cell_type": "markdown",
   "metadata": {},
   "source": [
    "# Convolution\n",
    "\n",
    "The convolution of two functions $x(t)$ and $h(t)$ is denoted\n",
    "\n",
    "$$y(t) = x(t) * h(t).$$\n",
    "\n",
    "This is equivalent to\n",
    "\n",
    "$$y(t) = \\int_{-\\infty}^{\\infty} x(t - \\tau) h(\\tau) \\mathrm{d}\\tau.$$"
   ]
  },
  {
   "cell_type": "markdown",
   "metadata": {},
   "source": [
    "## Graphical demonstration of convolution\n",
    "\n",
    "In the first plot of the following demo, the blue curve denotes $x(t-\\tau)$ and the orange curve denotes $h(\\tau)$.  Note, the blue curve is flipped horizontally.  The second plot shows the product $x(t-\\tau) h(\\tau)$.  The area of this function is denoted as the red line in the third plot."
   ]
  },
  {
   "cell_type": "code",
   "execution_count": 1,
   "metadata": {
    "scrolled": true
   },
   "outputs": [
    {
     "data": {
      "application/vnd.jupyter.widget-view+json": {
       "model_id": "529f969279f045df8f47996c9148a3a6",
       "version_major": 2,
       "version_minor": 0
      },
      "text/plain": [
       "interactive(children=(Dropdown(description='x', index=2, options=('rect(t)', 'rect(t/2)', 'fang(t)', 'tri(t)',…"
      ]
     },
     "metadata": {},
     "output_type": "display_data"
    }
   ],
   "source": [
    "import matplotlib\n",
    "%matplotlib inline\n",
    "from demos import convolution_demo1\n",
    "convolution_demo1();"
   ]
  },
  {
   "cell_type": "markdown",
   "metadata": {},
   "source": [
    "## Convolution examples\n",
    "\n",
    "Note in the following that:\n",
    "1. The output signal has a longer extent than $x(t)$ and $h(t)$.\n",
    "2. A signal of short duration can be considered equivalent to an impulse since it has little effect on $y(t)$."
   ]
  },
  {
   "cell_type": "code",
   "execution_count": 2,
   "metadata": {
    "scrolled": false
   },
   "outputs": [
    {
     "data": {
      "application/vnd.jupyter.widget-view+json": {
       "model_id": "aa0e1dd237ce49698d2ca7d6bf80be7e",
       "version_major": 2,
       "version_minor": 0
      },
      "text/plain": [
       "interactive(children=(Dropdown(description='x', index=7, options=('rect(t)', 'rect(t/2)', 'fang(t)', 'tri(t)',…"
      ]
     },
     "metadata": {},
     "output_type": "display_data"
    }
   ],
   "source": [
    "from demos import convolution_demo2\n",
    "convolution_demo2();"
   ]
  },
  {
   "cell_type": "markdown",
   "metadata": {},
   "source": [
    "## Convolution as a superposition of impulse responses\n",
    "\n",
    "In this demo, the signals on the left are convolved with the impulse resonse, $h(t)$, to give the signals on the right.  It shows how a step function can be synthesised using a superposition of shifted rectangle functions.  If the rectangle function is narrow enough, it can be considered an impulse and thus it will generate a scaled version of the impulse response.  Unlike the Dirac delta, these impulses have a finite amplitude and thus the scale factor is small.\n",
    "\n"
   ]
  },
  {
   "cell_type": "code",
   "execution_count": 3,
   "metadata": {},
   "outputs": [
    {
     "data": {
      "application/vnd.jupyter.widget-view+json": {
       "model_id": "c0e784ddc5b149b0b1624534cb2476b6",
       "version_major": 2,
       "version_minor": 0
      },
      "text/plain": [
       "interactive(children=(Dropdown(description='h', index=9, options=('rect(t)', 'rect(t/2)', 'fang(t)', 'tri(t)',…"
      ]
     },
     "metadata": {},
     "output_type": "display_data"
    }
   ],
   "source": [
    "from demos import convolution_demo3\n",
    "convolution_demo3();"
   ]
  }
 ],
 "metadata": {
  "kernelspec": {
   "display_name": "Python 3",
   "language": "python",
   "name": "python3"
  },
  "language_info": {
   "codemirror_mode": {
    "name": "ipython",
    "version": 3
   },
   "file_extension": ".py",
   "mimetype": "text/x-python",
   "name": "python",
   "nbconvert_exporter": "python",
   "pygments_lexer": "ipython3",
   "version": "3.5.2"
  }
 },
 "nbformat": 4,
 "nbformat_minor": 2
}
