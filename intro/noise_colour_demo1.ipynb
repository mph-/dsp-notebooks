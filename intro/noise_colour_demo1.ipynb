{
 "cells": [
  {
   "cell_type": "markdown",
   "id": "cf579840",
   "metadata": {},
   "source": [
    "## Noise colours\n",
    "\n",
    "Red noise $S_v(f) \\propto f^{-2}$\n",
    "\n",
    "Pink noise $S_v(f) \\propto f^{-1}$\n",
    "\n",
    "White noise $S_v(f) \\propto 1$\n",
    "\n",
    "Blue noise $S_v(f) \\propto f$"
   ]
  },
  {
   "cell_type": "code",
   "execution_count": 1,
   "id": "33695a64",
   "metadata": {},
   "outputs": [
    {
     "data": {
      "application/vnd.jupyter.widget-view+json": {
       "model_id": "f614b2d072834f858cd5e446aa944756",
       "version_major": 2,
       "version_minor": 0
      },
      "text/plain": [
       "interactive(children=(Dropdown(description='colour', index=2, options=('red', 'pink', 'white', 'blue'), value=…"
      ]
     },
     "metadata": {},
     "output_type": "display_data"
    }
   ],
   "source": [
    "%matplotlib inline\n",
    "from demos import noise_colour_audio_demo1\n",
    "noise_colour_audio_demo1();"
   ]
  }
 ],
 "metadata": {
  "kernelspec": {
   "display_name": "Python 3 (ipykernel)",
   "language": "python",
   "name": "python3"
  },
  "language_info": {
   "codemirror_mode": {
    "name": "ipython",
    "version": 3
   },
   "file_extension": ".py",
   "mimetype": "text/x-python",
   "name": "python",
   "nbconvert_exporter": "python",
   "pygments_lexer": "ipython3",
   "version": "3.7.11"
  }
 },
 "nbformat": 4,
 "nbformat_minor": 5
}
