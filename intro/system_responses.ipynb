{
 "cells": [
  {
   "cell_type": "markdown",
   "metadata": {},
   "source": [
    "# System responses"
   ]
  },
  {
   "cell_type": "code",
   "execution_count": 1,
   "metadata": {
    "scrolled": false
   },
   "outputs": [],
   "source": [
    "%matplotlib inline\n",
    "from demos import polezero_lp1_demo1, polezero_ll1_demo1, polezero_demo2, polezero_demo3, polezero_demo4\n",
    "from demos import polezero_lp2_demo1, polezero_bp2_demo1, polezero_demo2b, polezero_demo2c"
   ]
  },
  {
   "cell_type": "markdown",
   "metadata": {},
   "source": [
    "## First-order low-pass system\n",
    "\n",
    "The transfer function (with unity DC gain) is\n",
    "$$ H(s) = \\frac{\\alpha}{s + \\alpha},$$\n",
    "with a single pole at\n",
    "$$s = -\\alpha.$$\n",
    "\n",
    "The corresponding impulse response is\n",
    "$$ h(t) = \\alpha e^{-\\alpha t} u(t),$$\n",
    "and the step response is\n",
    "$$ g(t) = \\left(1 - e^{-\\alpha t}\\right) u(t).$$"
   ]
  },
  {
   "cell_type": "code",
   "execution_count": 2,
   "metadata": {
    "scrolled": false
   },
   "outputs": [
    {
     "data": {
      "application/vnd.jupyter.widget-view+json": {
       "model_id": "030e99f0f3a340daae268cf6b5b823c7",
       "version_major": 2,
       "version_minor": 0
      },
      "text/plain": [
       "interactive(children=(IntSlider(value=5, description='alpha', max=20, min=-2), Dropdown(description='mode', op…"
      ]
     },
     "metadata": {},
     "output_type": "display_data"
    }
   ],
   "source": [
    "polezero_lp1_demo1()"
   ]
  },
  {
   "cell_type": "markdown",
   "metadata": {},
   "source": [
    "## First-order system with one pole and one zero\n",
    "\n",
    "The transfer function (with unity DC gain) is\n",
    "$$ H(s) = \\frac{s + \\beta}{s + \\alpha},$$\n",
    "with a single pole at\n",
    "$$s = -\\alpha,$$\n",
    "and a single zero at\n",
    "$$s = -\\beta.$$\n",
    "\n",
    "The corresponding step response is\n",
    "$$g(t) = \\left(\\frac{\\beta}{\\alpha} + \\frac{\\alpha - \\beta}{\\alpha} e^{-\\alpha t}\\right) u(t),$$\n",
    "and the impulse response is\n",
    "$$h(t) = \\delta\\left(t\\right) + (\\beta - \\alpha) e^{- \\alpha t} u\\left(t\\right).$$"
   ]
  },
  {
   "cell_type": "code",
   "execution_count": 14,
   "metadata": {},
   "outputs": [
    {
     "data": {
      "application/vnd.jupyter.widget-view+json": {
       "model_id": "6f826982ecdf448ebf45630de33fb674",
       "version_major": 2,
       "version_minor": 0
      },
      "text/plain": [
       "interactive(children=(IntSlider(value=5, description='alpha', max=20, min=-2), IntSlider(value=10, description…"
      ]
     },
     "metadata": {},
     "output_type": "display_data"
    }
   ],
   "source": [
    "from demos import polezero_demo1b\n",
    "polezero_demo1b()"
   ]
  },
  {
   "cell_type": "markdown",
   "metadata": {},
   "source": [
    "## First-order lead and lag compensators"
   ]
  },
  {
   "cell_type": "code",
   "execution_count": 3,
   "metadata": {
    "scrolled": false
   },
   "outputs": [
    {
     "data": {
      "application/vnd.jupyter.widget-view+json": {
       "model_id": "0b15892e802342138c94eb49975d9946",
       "version_major": 2,
       "version_minor": 0
      },
      "text/plain": [
       "interactive(children=(IntSlider(value=5, description='alpha', max=20, min=1), FloatSlider(value=0.1, descripti…"
      ]
     },
     "metadata": {},
     "output_type": "display_data"
    }
   ],
   "source": [
    "polezero_ll1_demo1()"
   ]
  },
  {
   "cell_type": "markdown",
   "metadata": {},
   "source": [
    "## Second-order low-pass system\n",
    "\n",
    "The transfer function (with unity DC gain) is\n",
    "$$ H(s) = \\frac{\\omega_0^2}{s^2 + 2 \\zeta \\omega_0 s + \\omega_0^2}.$$\n",
    "\n",
    "When $\\zeta < 1$ (under damped) there are complex conjugate poles at\n",
    "$$s = -\\omega_0 \\zeta \\pm \\mathrm{j} \\omega_0 \\sqrt{1 - \\zeta^2}.$$\n",
    "\n",
    "When $\\zeta = 1$ (critically damped) there are repeated poles at\n",
    "$$s = -\\omega_0, -\\omega_0.$$\n",
    "\n",
    "When $\\zeta > 1$ (over damped) there are two real poles at\n",
    "$$s = -\\omega_0 \\zeta \\pm \\omega_0 \\sqrt{\\zeta^2 - 1}.$$"
   ]
  },
  {
   "cell_type": "code",
   "execution_count": 4,
   "metadata": {
    "scrolled": false
   },
   "outputs": [
    {
     "data": {
      "application/vnd.jupyter.widget-view+json": {
       "model_id": "3c589be50d284a96bbab6c998d670ccb",
       "version_major": 2,
       "version_minor": 0
      },
      "text/plain": [
       "interactive(children=(FloatSlider(value=0.5, description='zeta', max=10.0, min=0.1), IntSlider(value=10, descr…"
      ]
     },
     "metadata": {},
     "output_type": "display_data"
    }
   ],
   "source": [
    "polezero_lp2_demo1()"
   ]
  },
  {
   "cell_type": "markdown",
   "metadata": {},
   "source": [
    "## Second-order band-pass system\n",
    "\n",
    "The transfer function is\n",
    "$$ H(s) = \\frac{2 \\zeta \\omega_0 s}{s^2 + 2 \\zeta \\omega_0 s + \\omega_0^2}.$$\n",
    "\n",
    "This is similar to the transfer function for a low-pass second order system but with a zero at $s=0$.\n",
    "\n",
    "When $\\zeta < 1$ (under damped) there are complex conjugate poles at\n",
    "$$s = -\\omega_0 \\zeta \\pm \\mathrm{j} \\omega_0 \\sqrt{1 - \\zeta^2}.$$\n",
    "\n",
    "When $\\zeta = 1$ (critically damped) there are repeated poles at\n",
    "$$s = -\\omega_0, -\\omega_0.$$\n",
    "\n",
    "When $\\zeta > 1$ (over damped) there are two real poles at\n",
    "$$s = -\\omega_0 \\zeta \\pm \\omega_0 \\sqrt{\\zeta^2 - 1}.$$"
   ]
  },
  {
   "cell_type": "code",
   "execution_count": 5,
   "metadata": {
    "scrolled": false
   },
   "outputs": [
    {
     "data": {
      "application/vnd.jupyter.widget-view+json": {
       "model_id": "8831fd7342424aafbc3eb767bcc111d6",
       "version_major": 2,
       "version_minor": 0
      },
      "text/plain": [
       "interactive(children=(FloatSlider(value=0.5, description='zeta', max=10.0, min=0.1), IntSlider(value=10, descr…"
      ]
     },
     "metadata": {},
     "output_type": "display_data"
    }
   ],
   "source": [
    "polezero_bp2_demo1()"
   ]
  },
  {
   "cell_type": "markdown",
   "metadata": {},
   "source": [
    "## Second order low-pass, high-pass, band-pass, and band-stop systems"
   ]
  },
  {
   "cell_type": "code",
   "execution_count": 6,
   "metadata": {},
   "outputs": [
    {
     "data": {
      "application/vnd.jupyter.widget-view+json": {
       "model_id": "eed3e20ddb834335aa2f2d59285716c9",
       "version_major": 2,
       "version_minor": 0
      },
      "text/plain": [
       "interactive(children=(FloatSlider(value=0.5, description='zeta', max=10.0, min=0.1), IntSlider(value=10, descr…"
      ]
     },
     "metadata": {},
     "output_type": "display_data"
    }
   ],
   "source": [
    "from demos import polezero_gen2_demo1\n",
    "polezero_gen2_demo1()"
   ]
  },
  {
   "cell_type": "markdown",
   "metadata": {},
   "source": [
    "## Second-order low-pass system with two complex conjugate poles\n",
    "\n",
    "The transfer function (with unity DC gain) is\n",
    "$$ H(s) = \\frac{\\alpha_1^2 + \\omega_1^2}{(s + \\alpha_1 - \\mathrm{j} \\omega_1) (s + \\alpha_1 + \\mathrm{j}\\omega_1)}.$$\n",
    "The poles are at\n",
    "$$s = - \\alpha_1 \\pm \\mathrm{j} \\omega_1.$$\n",
    "\n",
    "The undamped natural frequency is\n",
    "$$\\omega_0 = \\sqrt{\\alpha_1^2 + \\omega_1^2},$$\n",
    "and the damping factor is\n",
    "$$\\zeta = \\frac{\\alpha_1}{\\omega_0}.$$\n",
    "\n",
    "The step response is\n",
    "$$g(t) = \\left(1 - \\left(\\frac{\\alpha_{1}}{\\omega_1} \\sin{\\left (\\omega_{1} t \\right )} + \\cos{\\left (\\omega_{1} t \\right )} \\right) e^{- \\alpha_{1} t} \\right) u\\left(t\\right),$$\n",
    "and the impulse response is\n",
    "$$h(t) = \\frac{\\left(\\alpha_{1}^{2} + \\omega_{1}^{2}\\right)}{\\omega_1} \\sin{\\left (\\omega_{1} t \\right )} e^{- \\alpha_{1} t} u\\left(t\\right).$$"
   ]
  },
  {
   "cell_type": "code",
   "execution_count": 7,
   "metadata": {
    "scrolled": false
   },
   "outputs": [
    {
     "data": {
      "application/vnd.jupyter.widget-view+json": {
       "model_id": "472f26a4b0314839a9b512c0a7f0b2b1",
       "version_major": 2,
       "version_minor": 0
      },
      "text/plain": [
       "interactive(children=(IntSlider(value=5, description='alpha1', max=20, min=-2), IntSlider(value=10, descriptio…"
      ]
     },
     "metadata": {},
     "output_type": "display_data"
    }
   ],
   "source": [
    "polezero_demo2()"
   ]
  },
  {
   "cell_type": "markdown",
   "metadata": {},
   "source": [
    "## Second-order band-pass system with two complex conjugate poles and one zero at zero\n",
    "\n",
    "The transfer function is\n",
    "$$ H(s) = \\frac{2 \\alpha_1 s}{(s + \\alpha_1 - \\mathrm{j} \\omega_1) (s + \\alpha_1 + \\mathrm{j}\\omega_1)}.$$\n",
    "The poles are at\n",
    "$$s = - \\alpha_1 \\pm \\mathrm{j} \\omega_1,$$\n",
    "and the zero is at\n",
    "$$s = 0.$$\n",
    "\n",
    "The undamped natural frequency is\n",
    "$$\\omega_0 = \\sqrt{\\alpha_1^2 + \\omega_1^2},$$\n",
    "and the damping factor is\n",
    "$$\\zeta = \\frac{\\alpha_1}{\\omega_0}.$$\n",
    "\n",
    "The step response is\n",
    "$$g(t) = \\frac{2 \\alpha_{1}}{\\omega_1} \\sin{\\left (\\omega_{1} t \\right )} e^{- \\alpha_{1} t} u\\left(t\\right),$$\n",
    "and the impulse response is\n",
    "$$h(t) = - 2 \\frac{\\alpha_{1}}{\\omega_1} \\left(\\alpha_{1} \\sin{\\left (\\omega_{1} t \\right )} -  \\cos{\\left (\\omega_{1} t \\right )}\\right) e^{- \\alpha_{1} t} u\\left(t\\right).$$"
   ]
  },
  {
   "cell_type": "code",
   "execution_count": 8,
   "metadata": {
    "scrolled": false
   },
   "outputs": [
    {
     "data": {
      "application/vnd.jupyter.widget-view+json": {
       "model_id": "0626c2a20e054e439fadad13274466ce",
       "version_major": 2,
       "version_minor": 0
      },
      "text/plain": [
       "interactive(children=(IntSlider(value=5, description='alpha1', max=20, min=-2), IntSlider(value=10, descriptio…"
      ]
     },
     "metadata": {},
     "output_type": "display_data"
    }
   ],
   "source": [
    "polezero_demo2b()"
   ]
  },
  {
   "cell_type": "markdown",
   "metadata": {},
   "source": [
    "## Second-order system with two complex conjugate poles and one zero\n",
    "\n",
    "The transfer function is\n",
    "$$ H(s) = \\frac{(\\alpha_1^2 + \\omega_1^2) (s+\\beta_1)}{\\beta_1 (s + \\alpha_1 - \\mathrm{j} \\omega_1) (s + \\alpha_1 + \\mathrm{j}\\omega_1)}.$$\n",
    "The poles are at\n",
    "$$s = - \\alpha_1 \\pm \\mathrm{j} \\omega_1,$$\n",
    "and the zero is at\n",
    "$$s = -\\beta_1.$$"
   ]
  },
  {
   "cell_type": "code",
   "execution_count": 9,
   "metadata": {
    "scrolled": false
   },
   "outputs": [
    {
     "data": {
      "application/vnd.jupyter.widget-view+json": {
       "model_id": "a1081214dcc94b8dbf0026e5d1202dc1",
       "version_major": 2,
       "version_minor": 0
      },
      "text/plain": [
       "interactive(children=(IntSlider(value=5, description='alpha1', max=20, min=-2), IntSlider(value=10, descriptio…"
      ]
     },
     "metadata": {},
     "output_type": "display_data"
    }
   ],
   "source": [
    "polezero_demo2c()"
   ]
  },
  {
   "cell_type": "markdown",
   "metadata": {},
   "source": [
    "## Third-order low-pass system with one real pole and two complex conjugate poles\n",
    "\n",
    "The transfer function is\n",
    "$$ H(s) = \\frac{\\alpha_2\\left(\\alpha_1^2 + \\omega_1^2\\right)}{(s + \\alpha_1 - \\mathrm{j} \\omega_1) (s + \\alpha_1 + \\mathrm{j}\\omega_1)(s + \\alpha_2)}.$$\n",
    "\n",
    "The poles are at\n",
    "$$s = - \\alpha_1 \\pm \\mathrm{j} \\omega_1, -\\alpha_2.$$\n"
   ]
  },
  {
   "cell_type": "code",
   "execution_count": 10,
   "metadata": {
    "scrolled": false
   },
   "outputs": [
    {
     "data": {
      "application/vnd.jupyter.widget-view+json": {
       "model_id": "266a26d2368844f3b65effceaab61dfd",
       "version_major": 2,
       "version_minor": 0
      },
      "text/plain": [
       "interactive(children=(IntSlider(value=5, description='alpha1', max=20, min=-2), IntSlider(value=10, descriptio…"
      ]
     },
     "metadata": {},
     "output_type": "display_data"
    }
   ],
   "source": [
    "polezero_demo3()"
   ]
  },
  {
   "cell_type": "markdown",
   "metadata": {},
   "source": [
    "## Third-order system with one real pole, two complex conjugate poles, and one zero\n",
    "\n",
    "The transfer function is\n",
    "$$ H(s) = \\frac{\\alpha_2\\left(\\alpha_1^2 + \\omega_1^2\\right)(s + \\beta_1)}{\\beta_1 (s + \\alpha_1 - \\mathrm{j} \\omega_1) (s + \\alpha_1 + \\mathrm{j}\\omega_1)(s + \\alpha_2)}.$$\n",
    "\n",
    "The poles are at\n",
    "$$s = - \\alpha_1 \\pm \\mathrm{j} \\omega_1, -\\alpha_2$$\n",
    "and the zero is at\n",
    "$$s = -\\beta_1.$$"
   ]
  },
  {
   "cell_type": "code",
   "execution_count": 11,
   "metadata": {
    "scrolled": false
   },
   "outputs": [
    {
     "data": {
      "application/vnd.jupyter.widget-view+json": {
       "model_id": "4a59d062470a4a5790d5b9337b9abc6e",
       "version_major": 2,
       "version_minor": 0
      },
      "text/plain": [
       "interactive(children=(IntSlider(value=5, description='alpha1', max=20, min=-2), IntSlider(value=10, descriptio…"
      ]
     },
     "metadata": {},
     "output_type": "display_data"
    }
   ],
   "source": [
    "polezero_demo4()"
   ]
  },
  {
   "cell_type": "code",
   "execution_count": null,
   "metadata": {
    "scrolled": false
   },
   "outputs": [],
   "source": []
  },
  {
   "cell_type": "markdown",
   "metadata": {},
   "source": [
    "## Product of two second-order systems"
   ]
  },
  {
   "cell_type": "code",
   "execution_count": 12,
   "metadata": {
    "scrolled": false
   },
   "outputs": [
    {
     "data": {
      "application/vnd.jupyter.widget-view+json": {
       "model_id": "5369f928eff9497a9316907a5102cee0",
       "version_major": 2,
       "version_minor": 0
      },
      "text/plain": [
       "interactive(children=(FloatSlider(value=0.5, description='zeta1', max=10.0, min=0.1), IntSlider(value=10, desc…"
      ]
     },
     "metadata": {},
     "output_type": "display_data"
    }
   ],
   "source": [
    "from demos import polezero_gen4_demo1\n",
    "polezero_gen4_demo1()"
   ]
  }
 ],
 "metadata": {
  "kernelspec": {
   "display_name": "Python 3",
   "language": "python",
   "name": "python3"
  },
  "language_info": {
   "codemirror_mode": {
    "name": "ipython",
    "version": 3
   },
   "file_extension": ".py",
   "mimetype": "text/x-python",
   "name": "python",
   "nbconvert_exporter": "python",
   "pygments_lexer": "ipython3",
   "version": "3.5.2"
  }
 },
 "nbformat": 4,
 "nbformat_minor": 2
}
