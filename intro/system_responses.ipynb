{
 "cells": [
  {
   "cell_type": "markdown",
   "metadata": {},
   "source": [
    "# System responses"
   ]
  },
  {
   "cell_type": "code",
   "execution_count": 1,
   "metadata": {},
   "outputs": [],
   "source": [
    "%matplotlib inline\n",
    "from demos import polezero_demo1, polezero_ll1_demo1, polezero_demo2, polezero_demo3, polezero_demo4\n",
    "from demos import polezero_lp2_demo1, polezero_bp2_demo1, polezero_demo2b, polezero_demo2c"
   ]
  },
  {
   "cell_type": "markdown",
   "metadata": {},
   "source": [
    "## Low-pass first-order system\n",
    "\n",
    "The transfer function (with unity DC gain) is\n",
    "$$ H(s) = \\frac{\\alpha}{s + \\alpha},$$\n",
    "with a single pole at\n",
    "$$s = -\\alpha.$$\n",
    "\n",
    "The corresponding impulse response is\n",
    "$$ h(t) = \\alpha e^{-\\alpha t} u(t),$$\n",
    "and the step response is\n",
    "$$ g(t) = \\left(1 - e^{-\\alpha t}\\right) u(t).$$"
   ]
  },
  {
   "cell_type": "code",
   "execution_count": 2,
   "metadata": {
    "scrolled": true
   },
   "outputs": [
    {
     "data": {
      "application/vnd.jupyter.widget-view+json": {
       "model_id": "302694ebabc84bba93ef5548fbe19dc0",
       "version_major": 2,
       "version_minor": 0
      },
      "text/plain": [
       "interactive(children=(IntSlider(value=5, description='alpha', max=20, min=-2), Dropdown(description='mode', op…"
      ]
     },
     "metadata": {},
     "output_type": "display_data"
    }
   ],
   "source": [
    "polezero_demo1()"
   ]
  },
  {
   "cell_type": "markdown",
   "metadata": {},
   "source": [
    "## First-order system with one pole and one zero\n",
    "\n",
    "The transfer function (with unity DC gain) is\n",
    "$$ H(s) = \\frac{\\alpha (s + \\beta)}{\\beta(s + \\alpha)},$$\n",
    "with a single pole at\n",
    "$$s = -\\alpha,$$\n",
    "and a single zero at\n",
    "$$s = -\\beta.$$\n",
    "\n",
    "The corresponding step response is\n",
    "$$h(t) = \\left(\\left(\\frac{\\alpha}{\\beta} - 1 \\right)e^{-\\alpha t} + 1\\right) u(t),$$\n",
    "and the impulse response is\n",
    "$$g(t) = \\frac{\\alpha}{\\beta} \\delta\\left(t\\right) + \\alpha\\left(1 - \\frac{\\alpha}{\\beta} \\right) e^{- \\alpha t} u\\left(t\\right).$$"
   ]
  },
  {
   "cell_type": "code",
   "execution_count": 3,
   "metadata": {},
   "outputs": [
    {
     "data": {
      "application/vnd.jupyter.widget-view+json": {
       "model_id": "591dc2e80f11462c949abd73ab683a3c",
       "version_major": 2,
       "version_minor": 0
      },
      "text/plain": [
       "interactive(children=(IntSlider(value=5, description='alpha', max=20, min=-2), IntSlider(value=10, description…"
      ]
     },
     "metadata": {},
     "output_type": "display_data"
    }
   ],
   "source": [
    "polezero_ll1_demo1()"
   ]
  },
  {
   "cell_type": "markdown",
   "metadata": {},
   "source": [
    "## Low-pass second-order system\n",
    "\n",
    "The transfer function (with unity DC gain) is\n",
    "$$ H(s) = \\frac{\\omega_0^2}{s^2 + 2 \\zeta \\omega_0 s + \\omega_0^2}.$$\n",
    "\n",
    "When $\\zeta < 1$ (under damped) there are complex conjugate poles at\n",
    "$$s = -\\omega_0 \\zeta \\pm \\mathrm{j} \\omega_0 \\sqrt{1 - \\zeta^2}.$$\n",
    "\n",
    "When $\\zeta = 1$ (critically damped) there are repeated poles at\n",
    "$$s = -\\omega_0, -\\omega_0.$$\n",
    "\n",
    "When $\\zeta > 1$ (over damped) there are two real poles at\n",
    "$$s = -\\omega_0 \\zeta \\pm \\omega_0 \\sqrt{\\zeta^2 - 1}.$$"
   ]
  },
  {
   "cell_type": "code",
   "execution_count": 4,
   "metadata": {},
   "outputs": [
    {
     "data": {
      "application/vnd.jupyter.widget-view+json": {
       "model_id": "a3b69e0913da4a8d967bd688e5db7ff5",
       "version_major": 2,
       "version_minor": 0
      },
      "text/plain": [
       "interactive(children=(FloatSlider(value=0.5, description='zeta', max=10.0, min=0.1), IntSlider(value=10, descr…"
      ]
     },
     "metadata": {},
     "output_type": "display_data"
    }
   ],
   "source": [
    "polezero_lp2_demo1()"
   ]
  },
  {
   "cell_type": "markdown",
   "metadata": {},
   "source": [
    "## Band-pass second-order system\n",
    "\n",
    "The transfer function is\n",
    "$$ H(s) = \\frac{2 \\zeta \\omega_0 s}{s^2 + 2 \\zeta \\omega_0 s + \\omega_0^2}.$$\n",
    "\n",
    "This is similar to the transfer function for a low-pass second order system but with a zero at $s=0$.\n",
    "\n",
    "When $\\zeta < 1$ (under damped) there are complex conjugate poles at\n",
    "$$s = -\\omega_0 \\zeta \\pm \\mathrm{j} \\omega_0 \\sqrt{1 - \\zeta^2}.$$\n",
    "\n",
    "When $\\zeta = 1$ (critically damped) there are repeated poles at\n",
    "$$s = -\\omega_0, -\\omega_0.$$\n",
    "\n",
    "When $\\zeta > 1$ (over damped) there are two real poles at\n",
    "$$s = -\\omega_0 \\zeta \\pm \\omega_0 \\sqrt{\\zeta^2 - 1}.$$"
   ]
  },
  {
   "cell_type": "code",
   "execution_count": 5,
   "metadata": {},
   "outputs": [
    {
     "data": {
      "application/vnd.jupyter.widget-view+json": {
       "model_id": "d7b536395b854a0e8db70bbfe6567f0c",
       "version_major": 2,
       "version_minor": 0
      },
      "text/plain": [
       "interactive(children=(FloatSlider(value=0.5, description='zeta', max=10.0, min=0.1), IntSlider(value=10, descr…"
      ]
     },
     "metadata": {},
     "output_type": "display_data"
    }
   ],
   "source": [
    "polezero_bp2_demo1()"
   ]
  },
  {
   "cell_type": "markdown",
   "metadata": {},
   "source": [
    "## Low-pass second order system with two complex conjugate poles\n",
    "\n",
    "The transfer function (with unity DC gain) is\n",
    "$$ H(s) = \\frac{\\alpha_1^2 + \\omega_1^2}{(s + \\alpha_1 - \\mathrm{j} \\omega_1) (s + \\alpha_1 + \\mathrm{j}\\omega_1)}.$$\n",
    "The poles are at\n",
    "$$s = - \\alpha_1 \\pm \\mathrm{j} \\omega_1.$$\n",
    "\n",
    "The undamped natural frequency is\n",
    "$$\\omega_0 = \\sqrt{\\alpha_1^2 + \\omega_1^2},$$\n",
    "and the damping factor is\n",
    "$$\\zeta = \\frac{\\alpha_1}{\\omega_0}.$$\n",
    "\n",
    "The step response is\n",
    "$$g(t) = \\left(1 - \\left(\\frac{\\alpha_{1}}{\\omega_1} \\sin{\\left (\\omega_{1} t \\right )} + \\cos{\\left (\\omega_{1} t \\right )} \\right) e^{- \\alpha_{1} t} \\right) u\\left(t\\right),$$\n",
    "and the impulse response is\n",
    "$$h(t) = \\frac{\\left(\\alpha_{1}^{2} + \\omega_{1}^{2}\\right)}{\\omega_1} \\sin{\\left (\\omega_{1} t \\right )} e^{- \\alpha_{1} t} u\\left(t\\right).$$"
   ]
  },
  {
   "cell_type": "code",
   "execution_count": 6,
   "metadata": {},
   "outputs": [
    {
     "data": {
      "application/vnd.jupyter.widget-view+json": {
       "model_id": "a0d33b80c74f4488a4705a64ece37362",
       "version_major": 2,
       "version_minor": 0
      },
      "text/plain": [
       "interactive(children=(IntSlider(value=5, description='alpha1', max=20, min=-2), IntSlider(value=10, descriptio…"
      ]
     },
     "metadata": {},
     "output_type": "display_data"
    }
   ],
   "source": [
    "polezero_demo2()"
   ]
  },
  {
   "cell_type": "markdown",
   "metadata": {},
   "source": [
    "## Band-pass second-order system with two complex conjugate poles and one zero at zero\n",
    "\n",
    "The transfer function is\n",
    "$$ H(s) = \\frac{2 \\alpha_1 s}{(s + \\alpha_1 - \\mathrm{j} \\omega_1) (s + \\alpha_1 + \\mathrm{j}\\omega_1)}.$$\n",
    "The poles are at\n",
    "$$s = - \\alpha_1 \\pm \\mathrm{j} \\omega_1,$$\n",
    "and the zero is at\n",
    "$$s = 0.$$\n",
    "\n",
    "The undamped natural frequency is\n",
    "$$\\omega_0 = \\sqrt{\\alpha_1^2 + \\omega_1^2},$$\n",
    "and the damping factor is\n",
    "$$\\zeta = \\frac{\\alpha_1}{\\omega_0}.$$\n",
    "\n",
    "The step response is\n",
    "$$g(t) = \\frac{2 \\alpha_{1}}{\\omega_1} \\sin{\\left (\\omega_{1} t \\right )} e^{- \\alpha_{1} t} u\\left(t\\right),$$\n",
    "and the impulse response is\n",
    "$$h(t) = - 2 \\frac{\\alpha_{1}}{\\omega_1} \\left(\\alpha_{1} \\sin{\\left (\\omega_{1} t \\right )} -  \\cos{\\left (\\omega_{1} t \\right )}\\right) e^{- \\alpha_{1} t} u\\left(t\\right).$$"
   ]
  },
  {
   "cell_type": "code",
   "execution_count": 7,
   "metadata": {},
   "outputs": [
    {
     "data": {
      "application/vnd.jupyter.widget-view+json": {
       "model_id": "ba1aeee39f6c465d957fe6cfa3a1a325",
       "version_major": 2,
       "version_minor": 0
      },
      "text/plain": [
       "interactive(children=(IntSlider(value=5, description='alpha1', max=20, min=-2), IntSlider(value=10, descriptio…"
      ]
     },
     "metadata": {},
     "output_type": "display_data"
    }
   ],
   "source": [
    "polezero_demo2b()"
   ]
  },
  {
   "cell_type": "markdown",
   "metadata": {},
   "source": [
    "## Second-order system with two complex conjugate poles and one zero\n",
    "\n",
    "The transfer function is\n",
    "$$ H(s) = \\frac{(\\alpha_1^2 + \\omega_1^2) (s+\\beta_1)}{\\beta_1 (s + \\alpha_1 - \\mathrm{j} \\omega_1) (s + \\alpha_1 + \\mathrm{j}\\omega_1)}.$$\n",
    "The poles are at\n",
    "$$s = - \\alpha_1 \\pm \\mathrm{j} \\omega_1,$$\n",
    "and the zero is at\n",
    "$$s = -\\beta_1.$$"
   ]
  },
  {
   "cell_type": "code",
   "execution_count": 8,
   "metadata": {},
   "outputs": [
    {
     "data": {
      "application/vnd.jupyter.widget-view+json": {
       "model_id": "86c8d927d68340df8ae413d1eaf88b0c",
       "version_major": 2,
       "version_minor": 0
      },
      "text/plain": [
       "interactive(children=(IntSlider(value=5, description='alpha1', max=20, min=-2), IntSlider(value=10, descriptio…"
      ]
     },
     "metadata": {},
     "output_type": "display_data"
    }
   ],
   "source": [
    "polezero_demo2c()"
   ]
  },
  {
   "cell_type": "markdown",
   "metadata": {},
   "source": [
    "## Low-pass third-order system with one real pole and two complex conjugate poles\n",
    "\n",
    "The transfer function is\n",
    "$$ H(s) = \\frac{\\alpha_2\\left(\\alpha_1^2 + \\omega_1^2\\right)}{(s + \\alpha_1 - \\mathrm{j} \\omega_1) (s + \\alpha_1 + \\mathrm{j}\\omega_1)(s + \\alpha_2)}.$$\n",
    "\n",
    "The poles are at\n",
    "$$s = - \\alpha_1 \\pm \\mathrm{j} \\omega_1, -\\alpha_2.$$\n"
   ]
  },
  {
   "cell_type": "code",
   "execution_count": 9,
   "metadata": {},
   "outputs": [
    {
     "data": {
      "application/vnd.jupyter.widget-view+json": {
       "model_id": "17a2ea70146447f99b67c051ed899dd0",
       "version_major": 2,
       "version_minor": 0
      },
      "text/plain": [
       "interactive(children=(IntSlider(value=5, description='alpha1', max=20, min=-2), IntSlider(value=10, descriptio…"
      ]
     },
     "metadata": {},
     "output_type": "display_data"
    }
   ],
   "source": [
    "polezero_demo3()"
   ]
  },
  {
   "cell_type": "markdown",
   "metadata": {},
   "source": [
    "## Third-order system with one real pole, two complex conjugate poles, and one zero\n",
    "\n",
    "The transfer function is\n",
    "$$ H(s) = \\frac{\\alpha_2\\left(\\alpha_1^2 + \\omega_1^2\\right)(s + \\beta_1)}{\\beta_1 (s + \\alpha_1 - \\mathrm{j} \\omega_1) (s + \\alpha_1 + \\mathrm{j}\\omega_1)(s + \\alpha_2)}.$$\n",
    "\n",
    "The poles are at\n",
    "$$s = - \\alpha_1 \\pm \\mathrm{j} \\omega_1, -\\alpha_2$$\n",
    "and the zero is at\n",
    "$$s = -\\beta_1.$$"
   ]
  },
  {
   "cell_type": "code",
   "execution_count": null,
   "metadata": {},
   "outputs": [
    {
     "data": {
      "application/vnd.jupyter.widget-view+json": {
       "model_id": "d229bf4556b54737a709a310c9b7ecb3",
       "version_major": 2,
       "version_minor": 0
      },
      "text/plain": [
       "interactive(children=(IntSlider(value=5, description='alpha1', max=20, min=-2), IntSlider(value=10, descriptio…"
      ]
     },
     "metadata": {},
     "output_type": "display_data"
    }
   ],
   "source": [
    "polezero_demo4()"
   ]
  }
 ],
 "metadata": {
  "kernelspec": {
   "display_name": "Python 3",
   "language": "python",
   "name": "python3"
  },
  "language_info": {
   "codemirror_mode": {
    "name": "ipython",
    "version": 3
   },
   "file_extension": ".py",
   "mimetype": "text/x-python",
   "name": "python",
   "nbconvert_exporter": "python",
   "pygments_lexer": "ipython3",
   "version": "3.5.2"
  }
 },
 "nbformat": 4,
 "nbformat_minor": 2
}
