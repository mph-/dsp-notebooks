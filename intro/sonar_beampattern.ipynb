{
 "cells": [
  {
   "cell_type": "markdown",
   "metadata": {},
   "source": [
    "# Sonar beampattern\n",
    "\n",
    "The far-field beampattern is related to the aperture function by a Fourier transform.  For example, if the velocity distribution across the face of a loudspeaker is\n",
    "\n",
    "$$v(x) = v_0 \\mathop{\\mathrm{rect}} \\left(\\frac{x}{D}\\right),$$\n",
    "\n",
    "the far-field angular pressure variation is\n",
    "\n",
    "$$p(\\theta) \\propto V\\left(\\frac{\\sin \\theta}{\\lambda}\\right) = D\\mathop{\\mathrm{sinc}}\\left(D \\frac{\\sin\\theta}{\\lambda}\\right),$$\n",
    "\n",
    "where $V(f_x)$ is the Fourier transform of $v(x)$ and $\\lambda = c / f$ is the wavelength for frequency $f$ and speed of propagation $c$.   The key thing to note is that the angular resolution is proportional to $D / \\lambda$."
   ]
  },
  {
   "cell_type": "code",
   "execution_count": 1,
   "metadata": {
    "scrolled": false
   },
   "outputs": [
    {
     "data": {
      "application/vnd.jupyter.widget-view+json": {
       "model_id": "b3c7776b6a804d9fa7c68dd82d82e309",
       "version_major": 2,
       "version_minor": 0
      },
      "text/plain": [
       "interactive(children=(IntSlider(value=100, description='fkHz', max=200, min=10, step=10), IntSlider(value=50, …"
      ]
     },
     "metadata": {},
     "output_type": "display_data"
    }
   ],
   "source": [
    "%matplotlib inline\n",
    "from demos import beam_pattern_demo1\n",
    "beam_pattern_demo1();"
   ]
  },
  {
   "cell_type": "code",
   "execution_count": 2,
   "metadata": {},
   "outputs": [
    {
     "data": {
      "application/vnd.jupyter.widget-view+json": {
       "model_id": "deb42db035c54193a7e2415cc1b097d2",
       "version_major": 2,
       "version_minor": 0
      },
      "text/plain": [
       "interactive(children=(IntSlider(value=5, description='lambdamm', max=50, min=1), IntSlider(value=50, descripti…"
      ]
     },
     "metadata": {},
     "output_type": "display_data"
    }
   ],
   "source": [
    "from demos import beam_pattern_demo2\n",
    "beam_pattern_demo2();"
   ]
  }
 ],
 "metadata": {
  "kernelspec": {
   "display_name": "Python 3",
   "language": "python",
   "name": "python3"
  },
  "language_info": {
   "codemirror_mode": {
    "name": "ipython",
    "version": 3
   },
   "file_extension": ".py",
   "mimetype": "text/x-python",
   "name": "python",
   "nbconvert_exporter": "python",
   "pygments_lexer": "ipython3",
   "version": "3.7.7"
  }
 },
 "nbformat": 4,
 "nbformat_minor": 2
}
