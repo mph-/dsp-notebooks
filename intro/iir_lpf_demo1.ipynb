{
 "cells": [
  {
   "cell_type": "markdown",
   "metadata": {},
   "source": [
    "# IIR low-pass filter"
   ]
  },
  {
   "cell_type": "markdown",
   "metadata": {},
   "source": [
    "A first-order recursive low-pass filter has a difference equation:\n",
    "\n",
    "$y[n] = \\alpha y[n - 1]  + (1 - \\alpha) x[n]$\n",
    "\n",
    "where $\\alpha$ is a parameter that controls the break frequency.  When $\\alpha = 0$ there is no filtering.  The closer $\\alpha$ gets to 1, the greater the filtering.  This filter is also known as an exponential filter."
   ]
  },
  {
   "cell_type": "code",
   "execution_count": 1,
   "metadata": {},
   "outputs": [
    {
     "data": {
      "application/vnd.jupyter.widget-view+json": {
       "model_id": "051bf672087a480a93b2d2a5a3b4bbee",
       "version_major": 2,
       "version_minor": 0
      },
      "text/plain": [
       "interactive(children=(IntSlider(value=0, description='f', max=10), IntSlider(value=100, description='N', max=1…"
      ]
     },
     "metadata": {},
     "output_type": "display_data"
    }
   ],
   "source": [
    "%matplotlib inline\n",
    "from demos import iir_lpf_demo1\n",
    "iir_lpf_demo1();"
   ]
  },
  {
   "cell_type": "markdown",
   "metadata": {},
   "source": [
    "## Transient response of IIR low-pass filter\n"
   ]
  },
  {
   "cell_type": "code",
   "execution_count": 2,
   "metadata": {},
   "outputs": [
    {
     "data": {
      "application/vnd.jupyter.widget-view+json": {
       "model_id": "0dd73b7111364cfaa03f98a1f9a5e923",
       "version_major": 2,
       "version_minor": 0
      },
      "text/plain": [
       "interactive(children=(FloatSlider(value=0.9, description='alpha', max=0.999, step=0.01), Checkbox(value=True, …"
      ]
     },
     "metadata": {},
     "output_type": "display_data"
    }
   ],
   "source": [
    "from demos import iir_lpf_step_demo1\n",
    "iir_lpf_step_demo1();"
   ]
  },
  {
   "cell_type": "markdown",
   "metadata": {},
   "source": [
    "## IIR filter with toneburst\n",
    "\n",
    "The following demo shows the result of passing a toneburst through a first-order recursive low-pass digital filter.  The sampling frequency is 100 Hz and lollipops are not used for clarity.  Notice the transient response at the start and end of the toneburst.  Also notice the time delay (phase shift).  "
   ]
  },
  {
   "cell_type": "code",
   "execution_count": 3,
   "metadata": {},
   "outputs": [
    {
     "data": {
      "application/vnd.jupyter.widget-view+json": {
       "model_id": "a346a2ea9adf45d5af8e3a551b5f1e66",
       "version_major": 2,
       "version_minor": 0
      },
      "text/plain": [
       "interactive(children=(FloatSlider(value=2.0, description='f0', max=8.0, min=0.5, step=0.25), FloatSlider(value…"
      ]
     },
     "metadata": {},
     "output_type": "display_data"
    }
   ],
   "source": [
    "from demos import iir_lpf_delay_demo1\n",
    "iir_lpf_delay_demo1()"
   ]
  }
 ],
 "metadata": {
  "kernelspec": {
   "display_name": "Python 3",
   "language": "python",
   "name": "python3"
  },
  "language_info": {
   "codemirror_mode": {
    "name": "ipython",
    "version": 3
   },
   "file_extension": ".py",
   "mimetype": "text/x-python",
   "name": "python",
   "nbconvert_exporter": "python",
   "pygments_lexer": "ipython3",
   "version": "3.5.2"
  }
 },
 "nbformat": 4,
 "nbformat_minor": 2
}
