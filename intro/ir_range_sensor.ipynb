{
 "cells": [
  {
   "cell_type": "markdown",
   "metadata": {},
   "source": [
    "# IR triangulating range sensor\n",
    "\n",
    "This demo shows the principle of operation of an IR range sensor which uses the received angle of the reflected light to determine the target range, $r$.  Here $d$ is the separation between the transmit and receive lenses, $f$ is the focal length of the receive lens.  The received light falls on a position sensitive detector (PSD) at a distance $x$ where\n",
    "\n",
    "$$ x = \\frac{d f}{r}.$$"
   ]
  },
  {
   "cell_type": "code",
   "execution_count": 1,
   "metadata": {
    "scrolled": false
   },
   "outputs": [
    {
     "data": {
      "application/vnd.jupyter.widget-view+json": {
       "model_id": "29309fadaff74f19b30533b807e5eb61",
       "version_major": 2,
       "version_minor": 0
      },
      "text/plain": [
       "interactive(children=(IntSlider(value=50, description='r', max=70, min=10, step=5), IntSlider(value=20, descri…"
      ]
     },
     "metadata": {},
     "output_type": "display_data"
    }
   ],
   "source": [
    "%matplotlib inline\n",
    "from demos import ir_range_sensor_demo1\n",
    "ir_range_sensor_demo1();"
   ]
  }
 ],
 "metadata": {
  "kernelspec": {
   "display_name": "Python 3 (ipykernel)",
   "language": "python",
   "name": "python3"
  },
  "language_info": {
   "codemirror_mode": {
    "name": "ipython",
    "version": 3
   },
   "file_extension": ".py",
   "mimetype": "text/x-python",
   "name": "python",
   "nbconvert_exporter": "python",
   "pygments_lexer": "ipython3",
   "version": "3.7.11"
  }
 },
 "nbformat": 4,
 "nbformat_minor": 2
}
