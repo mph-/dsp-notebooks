{
 "cells": [
  {
   "cell_type": "markdown",
   "metadata": {},
   "source": [
    "# Frequency response of moving average low-pass filter"
   ]
  },
  {
   "cell_type": "markdown",
   "metadata": {},
   "source": [
    "A moving average low-pass averaging filter has the form:\n",
    "\n",
    "$$y[n] = \\frac{1}{M} \\sum_{m=0}^{M-1} x[n - m],$$\n",
    "\n",
    "where $M$ is the number of filters that are averaged.  This can be written as a convolution\n",
    "\n",
    "$$y[n] = \\sum_{m=0}^{M-1} h[m] x[n - m],$$\n",
    "\n",
    "where the impulse response is a sequence of $M$ values each of amplitude $1/M$, i.e.,\n",
    "\n",
    "$$h[m] = \\left\\{\\frac{1}{M}, \\frac{1}{M}, \\cdots \\frac{1}{M}\\right\\}.$$\n",
    "\n",
    "The frequency response of the filter can be found from the discrete-time Fourier transform (DTFT),\n",
    "\n",
    "$$H(f) = H\\left(\\exp\\left(\\mathrm{j} 2\\pi f \\Delta t\\right)\\right),$$\n",
    "\n",
    "and $H(z)$ is the z-transform of $h[n]$.\n",
    "\n",
    "The following demo shows $h[n]$ and $H(f)$ as a function of $M$."
   ]
  },
  {
   "cell_type": "code",
   "execution_count": 1,
   "metadata": {},
   "outputs": [
    {
     "data": {
      "application/vnd.jupyter.widget-view+json": {
       "model_id": "84c4b8a0f7c5473481da17d104545cd0",
       "version_major": 2,
       "version_minor": 0
      },
      "text/plain": [
       "interactive(children=(IntSlider(value=10, description='M', min=10), IntSlider(value=100, description='fs', max…"
      ]
     },
     "metadata": {},
     "output_type": "display_data"
    }
   ],
   "source": [
    "%matplotlib inline\n",
    "from demos import ma_lpf_dtft_demo1\n",
    "ma_lpf_dtft_demo1();"
   ]
  }
 ],
 "metadata": {
  "kernelspec": {
   "display_name": "Python 3",
   "language": "python",
   "name": "python3"
  },
  "language_info": {
   "codemirror_mode": {
    "name": "ipython",
    "version": 3
   },
   "file_extension": ".py",
   "mimetype": "text/x-python",
   "name": "python",
   "nbconvert_exporter": "python",
   "pygments_lexer": "ipython3",
   "version": "3.5.2"
  }
 },
 "nbformat": 4,
 "nbformat_minor": 2
}
