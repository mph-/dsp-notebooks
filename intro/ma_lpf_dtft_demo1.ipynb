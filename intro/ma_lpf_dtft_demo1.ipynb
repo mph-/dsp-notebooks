{
 "cells": [
  {
   "cell_type": "markdown",
   "metadata": {},
   "source": [
    "# Frequency response of moving average low-pass filter"
   ]
  },
  {
   "cell_type": "markdown",
   "metadata": {},
   "source": [
    "A moving average low-pass averaging filter has the form:\n",
    "\n",
    "$$y[n] = \\frac{1}{M} \\sum_{m=0}^{M-1} x[n - m],$$\n",
    "\n",
    "where $M$ is the number of averaged samples.  \n",
    "\n",
    "The discrete-time frequency response of the filter can be found from the discrete-time Fourier transform (DTFT).  Since the filter is causal, it be found from the discrete-time transfer function $H(z)$ by substituting $\\exp\\left(\\mathrm{j} 2\\pi f \\Delta t\\right)$ for $z$:\n",
    "\n",
    "$$H_{\\frac{1}{\\Delta t}}(f) = H\\left(\\exp\\left(\\mathrm{j} 2\\pi f \\Delta t\\right)\\right),$$\n",
    "\n",
    "The following demo shows the filter discrete-time frequency response, $H_{\\frac{1}{\\Delta t}}(f)$ as a function of $M$."
   ]
  },
  {
   "cell_type": "code",
   "execution_count": 1,
   "metadata": {},
   "outputs": [
    {
     "data": {
      "application/vnd.jupyter.widget-view+json": {
       "model_id": "75dea5955ffa43dd9113c4de9239948f",
       "version_major": 2,
       "version_minor": 0
      },
      "text/plain": [
       "interactive(children=(IntSlider(value=10, description='M', min=2), IntSlider(value=100, description='fs', max=…"
      ]
     },
     "metadata": {},
     "output_type": "display_data"
    }
   ],
   "source": [
    "%matplotlib inline\n",
    "from demos import ma_lpf_dtft_demo1\n",
    "ma_lpf_dtft_demo1();"
   ]
  }
 ],
 "metadata": {
  "kernelspec": {
   "display_name": "Python 3",
   "language": "python",
   "name": "python3"
  },
  "language_info": {
   "codemirror_mode": {
    "name": "ipython",
    "version": 3
   },
   "file_extension": ".py",
   "mimetype": "text/x-python",
   "name": "python",
   "nbconvert_exporter": "python",
   "pygments_lexer": "ipython3",
   "version": "3.7.3"
  }
 },
 "nbformat": 4,
 "nbformat_minor": 2
}
