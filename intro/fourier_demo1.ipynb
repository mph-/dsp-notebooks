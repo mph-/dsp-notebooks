{
 "cells": [
  {
   "cell_type": "markdown",
   "metadata": {},
   "source": [
    "# Fourier transform"
   ]
  },
  {
   "cell_type": "markdown",
   "metadata": {},
   "source": [
    "The Fourier transform is commonly defined as\n",
    "\n",
    "$$X(f) = \\int_{-\\infty}^{\\infty} x(t) \\exp\\left(-\\mathrm{j}2\\pi f t\\right) \\mathrm{d}t.$$\n",
    "\n",
    "A real signal, $x(t)$, has a spectrum, $X(f)$, with Hermitian symmetry, so $X(-f) = X^{*}(f)$."
   ]
  },
  {
   "cell_type": "markdown",
   "metadata": {},
   "source": [
    "## Linearity theorem\n",
    "\n",
    "The signal, \n",
    "\n",
    "$$z(t) = a x(t) + b y(t)$$\n",
    "\n",
    "has a Fourier transform\n",
    "\n",
    "$$Z(f) = a X(f) + b Y(f).$$\n",
    "\n",
    "In the following demo, $x(t) = \\mathop{\\mathrm{rect}}(t)$, $y(t) = \\mathop{\\mathrm{sinc}}(t)$, $X(f) = \\mathop{\\mathrm{sinc}}(f)$ and $Y(f) = \\mathop{\\mathrm{rect}}(f)$."
   ]
  },
  {
   "cell_type": "code",
   "execution_count": 1,
   "metadata": {},
   "outputs": [
    {
     "data": {
      "application/vnd.jupyter.widget-view+json": {
       "model_id": "3fd6811c6356476d91eec0075479872c",
       "version_major": 2,
       "version_minor": 0
      },
      "text/plain": [
       "interactive(children=(FloatSlider(value=1.0, description='a', max=1.0), FloatSlider(value=0.0, description='b'…"
      ]
     },
     "metadata": {},
     "output_type": "display_data"
    }
   ],
   "source": [
    "%matplotlib inline\n",
    "from demos import fourier_linearity_demo1\n",
    "fourier_linearity_demo1();"
   ]
  },
  {
   "cell_type": "markdown",
   "metadata": {},
   "source": [
    "## Similarity theorem\n",
    "\n",
    "If a function becomes broader in the time domain, then it becomes narrower in the frequency domain and higher.\n",
    "\n",
    "$$x(a t) \\leftrightarrow \\frac{1}{|a|} X\\left(\\frac{f}{a}\\right).$$\n",
    "\n",
    "For example, the Fourier transform of a rect function, $x(t) = \\mathrm{rect}\\left(\\frac{t}{T}\\right)$, is a sinc function, $X(f) = T \\mathrm{sinc}(f T)$, since $a = 1 / T$.  I have assumed $T$ is positive."
   ]
  },
  {
   "cell_type": "code",
   "execution_count": 2,
   "metadata": {
    "scrolled": true
   },
   "outputs": [
    {
     "data": {
      "application/vnd.jupyter.widget-view+json": {
       "model_id": "b1981f8a871d41af839cf3a64038760d",
       "version_major": 2,
       "version_minor": 0
      },
      "text/plain": [
       "interactive(children=(FloatSlider(value=1.0, description='T', max=5.0, min=0.1), Dropdown(description='mode', …"
      ]
     },
     "metadata": {},
     "output_type": "display_data"
    }
   ],
   "source": [
    "from demos import rect_demo1\n",
    "rect_demo1();"
   ]
  },
  {
   "cell_type": "markdown",
   "metadata": {},
   "source": [
    "The Fourier transform of a sinc function, $x(t) = \\mathrm{sinc}\\left(\\frac{t}{T}\\right)$, is a rect function, $X(f) = T \\mathrm{rect}(f T)$."
   ]
  },
  {
   "cell_type": "code",
   "execution_count": 3,
   "metadata": {},
   "outputs": [
    {
     "data": {
      "application/vnd.jupyter.widget-view+json": {
       "model_id": "870b6b015a3342c787579424de26b0ff",
       "version_major": 2,
       "version_minor": 0
      },
      "text/plain": [
       "interactive(children=(FloatSlider(value=1.0, description='T', max=5.0, min=0.1), Dropdown(description='mode', …"
      ]
     },
     "metadata": {},
     "output_type": "display_data"
    }
   ],
   "source": [
    "%matplotlib inline\n",
    "from demos import sinc_demo1\n",
    "sinc_demo1()"
   ]
  },
  {
   "cell_type": "markdown",
   "metadata": {},
   "source": [
    "## Toneburst signal\n",
    "\n",
    "The next demo shows a toneburst signal described by\n",
    "\n",
    "$$x(t) = \\mathrm{rect}\\left(\\frac{t}{T}\\right)\\cos(2\\pi f_0 t + \\phi).$$\n",
    "\n",
    "This has a spectrum\n",
    "\n",
    "$$X(f) = 0.5 T \\mathrm{sinc}((f - f_0) T)\\exp\\left(\\mathrm{j} \\phi\\right) + 0.5 T \\mathrm{sinc}((f + f_0) T)\\exp\\left(-\\mathrm{j} \\phi\\right).$$\n",
    "\n",
    "Note, this has Hermitian symmetry with $X(-f) = X^{*}(f)$.  Also note as $T$ becomes longer, the spectral peaks get higher and narrower.  In the limit when $T=\\infty$, these peaks become Dirac deltas."
   ]
  },
  {
   "cell_type": "code",
   "execution_count": 4,
   "metadata": {},
   "outputs": [
    {
     "data": {
      "application/vnd.jupyter.widget-view+json": {
       "model_id": "592f43c8617249b6aabe7832d644b749",
       "version_major": 2,
       "version_minor": 0
      },
      "text/plain": [
       "interactive(children=(FloatSlider(value=1.0, description='T', max=8.0, min=0.1), IntSlider(value=5, descriptio…"
      ]
     },
     "metadata": {},
     "output_type": "display_data"
    }
   ],
   "source": [
    "from demos import toneburst_fourier_demo1\n",
    "toneburst_fourier_demo1();"
   ]
  },
  {
   "cell_type": "markdown",
   "metadata": {},
   "source": [
    "## The Dirac delta"
   ]
  },
  {
   "cell_type": "markdown",
   "metadata": {},
   "source": [
    "The Fourier transform of a constant does not exist.  Instead it is necessary to consider a function that in the limit approximates a constant.  One such function is\n",
    "\n",
    "$$x(t) = \\lim_{\\alpha\\rightarrow 0} \\exp(-\\alpha |t|).$$\n",
    "\n",
    "This has a Fourier transform\n",
    "\n",
    "$$X(f) = \\lim_{\\alpha\\rightarrow 0}\\frac{2\\alpha}{\\alpha^2 + (2\\pi f)^2}.$$\n",
    "\n",
    "This is one definition of a Dirac delta, $\\delta(t)$.   When $a=0$ it has zero width and infinite height.\n",
    "\n",
    "So although the Fourier transform of a constant does not exist, we pretend it does and denote\n",
    "\n",
    "$$1 \\leftrightarrow \\delta(t).$$\n",
    "\n"
   ]
  },
  {
   "cell_type": "code",
   "execution_count": 5,
   "metadata": {},
   "outputs": [
    {
     "data": {
      "application/vnd.jupyter.widget-view+json": {
       "model_id": "2d0c5f62f1734fd380265cc6ac99dc8f",
       "version_major": 2,
       "version_minor": 0
      },
      "text/plain": [
       "interactive(children=(FloatSlider(value=0.05, description='alpha', max=0.1, min=0.01, step=0.01), Dropdown(des…"
      ]
     },
     "metadata": {},
     "output_type": "display_data"
    }
   ],
   "source": [
    "from demos import dirac_delta_demo1\n",
    "dirac_delta_demo1();"
   ]
  },
  {
   "cell_type": "markdown",
   "metadata": {},
   "source": [
    "## Time-shift theorem\n",
    "\n",
    "Time shifting a signal changes the phase of its spectrum but not the magnitude.  In general,\n",
    "\n",
    "$$x(t - \\tau) \\leftrightarrow X(f) \\exp(-\\mathrm{j}2\\pi f \\tau).$$"
   ]
  },
  {
   "cell_type": "code",
   "execution_count": 6,
   "metadata": {},
   "outputs": [
    {
     "data": {
      "application/vnd.jupyter.widget-view+json": {
       "model_id": "63bdcd382a7b4f179392436559988ab1",
       "version_major": 2,
       "version_minor": 0
      },
      "text/plain": [
       "interactive(children=(FloatSlider(value=0.0, description='delay', max=2.0, min=-2.0), Dropdown(description='mo…"
      ]
     },
     "metadata": {},
     "output_type": "display_data"
    }
   ],
   "source": [
    "from demos import time_shift_demo1\n",
    "time_shift_demo1();"
   ]
  },
  {
   "cell_type": "markdown",
   "metadata": {},
   "source": [
    "## Delayed toneburst signal\n",
    "\n",
    "The next demo shows a delayed toneburst signal (for example, the echo from a sonar) described by\n",
    "\n",
    "$$x(t) = \\mathrm{rect}\\left(\\frac{t - \\tau}{T}\\right)\\cos(2\\pi f_0 (t - \\tau)).$$\n",
    "\n",
    "This has a spectrum\n",
    "\n",
    "$$X(f) = 0.5 T \\left[\\mathrm{sinc}((f - f_0) T) + \\mathrm{sinc}((f + f_0) T)\\right]\\exp\\left(-\\mathrm{j}2\\pi f \\tau\\right).$$"
   ]
  },
  {
   "cell_type": "code",
   "execution_count": 7,
   "metadata": {},
   "outputs": [
    {
     "data": {
      "application/vnd.jupyter.widget-view+json": {
       "model_id": "de27bd4a73d54ab78e77383817a107a5",
       "version_major": 2,
       "version_minor": 0
      },
      "text/plain": [
       "interactive(children=(FloatSlider(value=1.0, description='T', max=8.0, min=0.1), IntSlider(value=5, descriptio…"
      ]
     },
     "metadata": {},
     "output_type": "display_data"
    }
   ],
   "source": [
    "from demos import delayed_toneburst_fourier_demo1\n",
    "delayed_toneburst_fourier_demo1();"
   ]
  }
 ],
 "metadata": {
  "kernelspec": {
   "display_name": "Python 3",
   "language": "python",
   "name": "python3"
  },
  "language_info": {
   "codemirror_mode": {
    "name": "ipython",
    "version": 3
   },
   "file_extension": ".py",
   "mimetype": "text/x-python",
   "name": "python",
   "nbconvert_exporter": "python",
   "pygments_lexer": "ipython3",
   "version": "3.6.9"
  }
 },
 "nbformat": 4,
 "nbformat_minor": 2
}
