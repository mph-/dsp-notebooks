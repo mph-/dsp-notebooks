{
 "cells": [
  {
   "cell_type": "markdown",
   "id": "96384e5c",
   "metadata": {},
   "source": [
    "# Generic first order DT LTI filter\n",
    "\n",
    "This demo uses a filter with a transfer function:\n",
    "\n",
    "$H(z) = \\frac{b_0 + b_1 z^{-1}}{a_0 + a_1 z^{-1}}$\n",
    "\n",
    "This can be factored into ZPK form as:\n",
    "\n",
    "$H(z) = K \\frac{z - z_1}{z - p_1}$\n"
   ]
  },
  {
   "cell_type": "code",
   "execution_count": 1,
   "id": "cea0f561",
   "metadata": {},
   "outputs": [
    {
     "data": {
      "application/vnd.jupyter.widget-view+json": {
       "model_id": "68aee77e71a64d6bb91edf3b9090ef36",
       "version_major": 2,
       "version_minor": 0
      },
      "text/plain": [
       "interactive(children=(FloatSlider(value=1.0, description='a0', max=3.0, min=-1.0), FloatSlider(value=0.0, desc…"
      ]
     },
     "metadata": {},
     "output_type": "display_data"
    }
   ],
   "source": [
    "%matplotlib inline\n",
    "from demos import dt_filter_demo1\n",
    "dt_filter_demo1()"
   ]
  }
 ],
 "metadata": {
  "kernelspec": {
   "display_name": "Python 3 (ipykernel)",
   "language": "python",
   "name": "python3"
  },
  "language_info": {
   "codemirror_mode": {
    "name": "ipython",
    "version": 3
   },
   "file_extension": ".py",
   "mimetype": "text/x-python",
   "name": "python",
   "nbconvert_exporter": "python",
   "pygments_lexer": "ipython3",
   "version": "3.7.11"
  }
 },
 "nbformat": 4,
 "nbformat_minor": 5
}
