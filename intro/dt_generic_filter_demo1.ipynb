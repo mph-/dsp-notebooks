{
 "cells": [
  {
   "cell_type": "markdown",
   "id": "4998f8c9",
   "metadata": {},
   "source": [
    "# Generic first-order DT LTI filter\n",
    "\n",
    "This demo uses a filter with a transfer function:\n",
    "\n",
    "$H(z) = \\frac{b_0 + b_1 z^{-1}}{a_0 + a_1 z^{-1}}$\n",
    "\n",
    "This can be factored into ZPK form as:\n",
    "\n",
    "$H(z) = K \\frac{z - z_1}{z - p_1}$\n"
   ]
  },
  {
   "cell_type": "code",
   "execution_count": 1,
   "id": "34cfeeff",
   "metadata": {},
   "outputs": [
    {
     "data": {
      "application/vnd.jupyter.widget-view+json": {
       "model_id": "17be678c676f4226b0d7f138523458ce",
       "version_major": 2,
       "version_minor": 0
      },
      "text/plain": [
       "interactive(children=(FloatSlider(value=0.0, description='a1', max=1.1, min=-1.1), FloatSlider(value=1.0, desc…"
      ]
     },
     "metadata": {},
     "output_type": "display_data"
    }
   ],
   "source": [
    "%matplotlib inline\n",
    "from demos import dt_filter_demo1\n",
    "dt_filter_demo1()"
   ]
  },
  {
   "cell_type": "markdown",
   "id": "faff6390",
   "metadata": {},
   "source": [
    "# Generic second-order DT LTI filter\n",
    "\n",
    "This demo uses a filter with a transfer function:\n",
    "\n",
    "$H(z) = \\frac{b_0 + b_1 z^{-1} + b_2 z^{-2}}{a_0 + a_1 z^{-1} + a_2 z^{-2}}$\n",
    "\n",
    "This can be factored into ZPK form as:\n",
    "\n",
    "$H(z) = K \\frac{(z - z_1)(z-z_2)}{(z - p_1)(z - p_2)}$\n"
   ]
  },
  {
   "cell_type": "code",
   "execution_count": 2,
   "id": "37563f59",
   "metadata": {},
   "outputs": [
    {
     "data": {
      "application/vnd.jupyter.widget-view+json": {
       "model_id": "bd089524787942ed8ec306e2dd80630a",
       "version_major": 2,
       "version_minor": 0
      },
      "text/plain": [
       "interactive(children=(FloatSlider(value=0.0, description='a1', max=1.1, min=-1.1), FloatSlider(value=0.0, desc…"
      ]
     },
     "metadata": {},
     "output_type": "display_data"
    }
   ],
   "source": [
    "from demos import dt_filter_demo2\n",
    "dt_filter_demo2()"
   ]
  }
 ],
 "metadata": {
  "kernelspec": {
   "display_name": "Python 3 (ipykernel)",
   "language": "python",
   "name": "python3"
  },
  "language_info": {
   "codemirror_mode": {
    "name": "ipython",
    "version": 3
   },
   "file_extension": ".py",
   "mimetype": "text/x-python",
   "name": "python",
   "nbconvert_exporter": "python",
   "pygments_lexer": "ipython3",
   "version": "3.7.11"
  }
 },
 "nbformat": 4,
 "nbformat_minor": 5
}
