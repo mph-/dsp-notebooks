{
 "cells": [
  {
   "cell_type": "markdown",
   "id": "01d25903",
   "metadata": {},
   "source": [
    "# First-order DT LTI filter\n",
    "\n",
    "This demo uses a filter with a transfer function:\n",
    "\n",
    "$H(z) = \\frac{b_0 + b_1 z^{-1}}{a_0 + a_1 z^{-1}}$\n",
    "\n",
    "This can be factored into ZPK form as:\n",
    "\n",
    "$H(z) = K \\frac{z - z_1}{z - p_1}$\n"
   ]
  },
  {
   "cell_type": "code",
   "execution_count": 8,
   "id": "4be3e341",
   "metadata": {},
   "outputs": [
    {
     "data": {
      "application/vnd.jupyter.widget-view+json": {
       "model_id": "c264f4d8a0ba4c269389981baf8f32ce",
       "version_major": 2,
       "version_minor": 0
      },
      "text/plain": [
       "interactive(children=(FloatSlider(value=0.0, description='a1', max=1.1, min=-1.1), FloatSlider(value=1.0, desc…"
      ]
     },
     "metadata": {},
     "output_type": "display_data"
    }
   ],
   "source": [
    "%matplotlib inline\n",
    "from demos import dt_filter_demo1\n",
    "dt_filter_demo1()"
   ]
  },
  {
   "cell_type": "markdown",
   "id": "e3c453a7",
   "metadata": {},
   "source": [
    "# Second-order DT LTI filter\n",
    "\n",
    "This demo uses a filter with a transfer function:\n",
    "\n",
    "$H(z) = \\frac{b_0 + b_1 z^{-1} + b_2 z^{-2}}{a_0 + a_1 z^{-1} + a_2 z^{-2}}$\n",
    "\n",
    "This can be factored into ZPK form as:\n",
    "\n",
    "$H(z) = K \\frac{(z - z_1)(z-z_2)}{(z - p_1)(z - p_2)}$\n"
   ]
  },
  {
   "cell_type": "code",
   "execution_count": null,
   "id": "d4d144aa",
   "metadata": {},
   "outputs": [],
   "source": []
  },
  {
   "cell_type": "code",
   "execution_count": 9,
   "id": "0cb97b68",
   "metadata": {},
   "outputs": [
    {
     "data": {
      "application/vnd.jupyter.widget-view+json": {
       "model_id": "6ecfbde2e3dc4717b8d5e436e3db1275",
       "version_major": 2,
       "version_minor": 0
      },
      "text/plain": [
       "interactive(children=(FloatSlider(value=0.0, description='a1', max=1.1, min=-1.1), FloatSlider(value=0.0, desc…"
      ]
     },
     "metadata": {},
     "output_type": "display_data"
    }
   ],
   "source": [
    "from demos import dt_filter_demo2\n",
    "dt_filter_demo2()"
   ]
  },
  {
   "cell_type": "markdown",
   "id": "bd97250c",
   "metadata": {},
   "source": [
    "# Generic DT LTI filter¶\n",
    "\n",
    "This demo uses a filter with a generic transfer function."
   ]
  },
  {
   "cell_type": "code",
   "execution_count": 10,
   "id": "e65e0868",
   "metadata": {
    "scrolled": false
   },
   "outputs": [
    {
     "data": {
      "application/vnd.jupyter.widget-view+json": {
       "model_id": "bc7c986373d44144b1ceca550deaf1f7",
       "version_major": 2,
       "version_minor": 0
      },
      "text/plain": [
       "interactive(children=(Text(value='1', description='a'), Text(value='0.5, 0.5', description='b'), Dropdown(desc…"
      ]
     },
     "metadata": {},
     "output_type": "display_data"
    },
    {
     "data": {
      "image/png": "[encoded data removed]",
      "text/plain": [
       "<Figure size 864x432 with 2 Axes>"
      ]
     },
     "metadata": {
      "needs_background": "light"
     },
     "output_type": "display_data"
    }
   ],
   "source": [
    "from demos import dt_filter_demo3\n",
    "dt_filter_demo3()"
   ]
  }
 ],
 "metadata": {
  "kernelspec": {
   "display_name": "Python 3 (ipykernel)",
   "language": "python",
   "name": "python3"
  },
  "language_info": {
   "codemirror_mode": {
    "name": "ipython",
    "version": 3
   },
   "file_extension": ".py",
   "mimetype": "text/x-python",
   "name": "python",
   "nbconvert_exporter": "python",
   "pygments_lexer": "ipython3",
   "version": "3.7.11"
  }
 },
 "nbformat": 4,
 "nbformat_minor": 5
}
