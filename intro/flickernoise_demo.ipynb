{
 "cells": [
  {
   "cell_type": "markdown",
   "metadata": {},
   "source": [
    "# Flicker noise"
   ]
  },
  {
   "cell_type": "markdown",
   "metadata": {},
   "source": [
    "Flicker noise also has a Gaussian PDF but it does not have a white spectral density.  The most common type of flicker noise has a power spectral densisty that is proportional to $1/f$.  The corresponding amplitude spectral density thus varies as $f^{0.5}$.  Even though flicker noise is a zero mean Gaussian random process, it produces a wandering baseline since the time values are highly correlated.\n",
    "\n",
    "In this demonstration,\n",
    "$A_{V}(f) = \\alpha \\times 3 \\times 10^{-8} \\times f^{0.5},$\n",
    "B is the bandwidth and N is the number of samples."
   ]
  },
  {
   "cell_type": "code",
   "execution_count": 1,
   "metadata": {
    "scrolled": false
   },
   "outputs": [
    {
     "data": {
      "application/vnd.jupyter.widget-view+json": {
       "model_id": "c5f924a5041947cea4330c72ea64089f",
       "version_major": 2,
       "version_minor": 0
      },
      "text/plain": [
       "interactive(children=(FloatSlider(value=3.0, description='alpha', max=5.0), IntSlider(value=100, description='…"
      ]
     },
     "metadata": {},
     "output_type": "display_data"
    }
   ],
   "source": [
    "%matplotlib inline\n",
    "from demos import flickernoise_demo1\n",
    "flickernoise_demo1();"
   ]
  }
 ],
 "metadata": {
  "kernelspec": {
   "display_name": "Python 3 (ipykernel)",
   "language": "python",
   "name": "python3"
  },
  "language_info": {
   "codemirror_mode": {
    "name": "ipython",
    "version": 3
   },
   "file_extension": ".py",
   "mimetype": "text/x-python",
   "name": "python",
   "nbconvert_exporter": "python",
   "pygments_lexer": "ipython3",
   "version": "3.7.11"
  }
 },
 "nbformat": 4,
 "nbformat_minor": 2
}
