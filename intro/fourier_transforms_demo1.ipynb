{
 "cells": [
  {
   "cell_type": "markdown",
   "metadata": {},
   "source": [
    "# Fourier transforms"
   ]
  },
  {
   "cell_type": "markdown",
   "metadata": {},
   "source": [
    "The Fourier transform is commonly defined as\n",
    "\n",
    "$$X(f) = \\int_{-\\infty}^{\\infty} x(t) \\exp\\left(-\\mathrm{j}2\\pi f t\\right) \\mathrm{d}t.$$\n"
   ]
  },
  {
   "cell_type": "markdown",
   "metadata": {},
   "source": [
    "## Hermitian symmetry"
   ]
  },
  {
   "cell_type": "markdown",
   "metadata": {},
   "source": [
    "A real signal, $x(t)$, has a spectrum, $X(f)$, with Hermitian symmetry, so $X(-f) = X^{*}(f)$.  In the following demo, notice the symmetry of the real component and the anti-symmetry of the imaginary component as the phase is adjusted."
   ]
  },
  {
   "cell_type": "code",
   "execution_count": 1,
   "metadata": {},
   "outputs": [
    {
     "data": {
      "application/vnd.jupyter.widget-view+json": {
       "model_id": "6947b9565ead4bee9442be505391bacf",
       "version_major": 2,
       "version_minor": 0
      },
      "text/plain": [
       "interactive(children=(IntSlider(value=0, description='phase', max=180, min=-180, step=15), Output()), _dom_cla…"
      ]
     },
     "metadata": {},
     "output_type": "display_data"
    }
   ],
   "source": [
    "from demos import fourier_hermitian_symmetry_demo1\n",
    "fourier_hermitian_symmetry_demo1();"
   ]
  },
  {
   "cell_type": "markdown",
   "metadata": {},
   "source": [
    "## The Dirac delta"
   ]
  },
  {
   "cell_type": "markdown",
   "metadata": {},
   "source": [
    "The Fourier transform of a constant does not exist.  Instead it is necessary to consider a function that in the limit approximates a constant.  One such function is\n",
    "\n",
    "$$x(t) = \\lim_{\\alpha\\rightarrow 0} \\exp(-\\alpha |t|).$$\n",
    "\n",
    "This has a Fourier transform\n",
    "\n",
    "$$X(f) = \\lim_{\\alpha\\rightarrow 0}\\frac{2\\alpha}{\\alpha^2 + (2\\pi f)^2}.$$\n",
    "\n",
    "This is one definition of a Dirac delta, $\\delta(t)$.   When $a=0$ it has zero width and infinite height.\n",
    "\n",
    "So although the Fourier transform of a constant does not exist, we pretend it does and denote\n",
    "\n",
    "$$1 \\leftrightarrow \\delta(t).$$\n",
    "\n"
   ]
  },
  {
   "cell_type": "code",
   "execution_count": 2,
   "metadata": {},
   "outputs": [
    {
     "data": {
      "application/vnd.jupyter.widget-view+json": {
       "model_id": "e6072a77178348579c5ca2ccc226d56b",
       "version_major": 2,
       "version_minor": 0
      },
      "text/plain": [
       "interactive(children=(FloatSlider(value=0.05, description='alpha', max=0.1, min=0.01, step=0.01), Dropdown(des…"
      ]
     },
     "metadata": {},
     "output_type": "display_data"
    }
   ],
   "source": [
    "from demos import dirac_delta_demo1\n",
    "dirac_delta_demo1();"
   ]
  },
  {
   "cell_type": "markdown",
   "metadata": {},
   "source": [
    "## Toneburst signal\n",
    "\n",
    "The next demo shows a toneburst signal described by\n",
    "\n",
    "$$x(t) = \\mathrm{rect}\\left(\\frac{t}{T}\\right)\\cos(2\\pi f_0 t + \\phi).$$\n",
    "\n",
    "This has a spectrum\n",
    "\n",
    "$$X(f) = 0.5 T \\mathrm{sinc}((f - f_0) T)\\exp\\left(\\mathrm{j} \\phi\\right) + 0.5 T \\mathrm{sinc}((f + f_0) T)\\exp\\left(-\\mathrm{j} \\phi\\right).$$\n",
    "\n",
    "Note, this has Hermitian symmetry with $X(-f) = X^{*}(f)$.  Also note as $T$ becomes longer, the spectral peaks get higher and narrower.  In the limit when $T=\\infty$, these peaks become Dirac deltas."
   ]
  },
  {
   "cell_type": "code",
   "execution_count": 3,
   "metadata": {},
   "outputs": [
    {
     "data": {
      "application/vnd.jupyter.widget-view+json": {
       "model_id": "d509d954dad04e2a955dcbee08ac02a8",
       "version_major": 2,
       "version_minor": 0
      },
      "text/plain": [
       "interactive(children=(FloatSlider(value=1.0, description='T', max=8.0, min=0.1), IntSlider(value=5, descriptio…"
      ]
     },
     "metadata": {},
     "output_type": "display_data"
    }
   ],
   "source": [
    "from demos import toneburst_fourier_demo1\n",
    "toneburst_fourier_demo1();"
   ]
  }
 ],
 "metadata": {
  "kernelspec": {
   "display_name": "Python 3",
   "language": "python",
   "name": "python3"
  },
  "language_info": {
   "codemirror_mode": {
    "name": "ipython",
    "version": 3
   },
   "file_extension": ".py",
   "mimetype": "text/x-python",
   "name": "python",
   "nbconvert_exporter": "python",
   "pygments_lexer": "ipython3",
   "version": "3.7.7"
  }
 },
 "nbformat": 4,
 "nbformat_minor": 2
}
