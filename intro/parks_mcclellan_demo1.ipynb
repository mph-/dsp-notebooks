{
 "cells": [
  {
   "cell_type": "markdown",
   "id": "6421042d",
   "metadata": {},
   "source": [
    "# Parks McClellan algorithm\n",
    "\n",
    "The Parks McClellan algorithm produces optimal and efficient FIR filters.  There is a tradeoff between the ripple in the pass and stop-bands and the width of the transition region.  The higher the filter order, the lower the ripple.  However, there is greater delay."
   ]
  },
  {
   "cell_type": "code",
   "execution_count": 1,
   "id": "0005fe6e",
   "metadata": {},
   "outputs": [
    {
     "data": {
      "application/vnd.jupyter.widget-view+json": {
       "model_id": "6d7d01ef64c0462a8697f49c3709a6a0",
       "version_major": 2,
       "version_minor": 0
      },
      "text/plain": [
       "interactive(children=(IntSlider(value=20, description='order', min=5, step=5), IntSlider(value=100, descriptio…"
      ]
     },
     "metadata": {},
     "output_type": "display_data"
    }
   ],
   "source": [
    "%matplotlib inline\n",
    "from demos import remez_demo1\n",
    "remez_demo1()"
   ]
  }
 ],
 "metadata": {
  "kernelspec": {
   "display_name": "Python 3 (ipykernel)",
   "language": "python",
   "name": "python3"
  },
  "language_info": {
   "codemirror_mode": {
    "name": "ipython",
    "version": 3
   },
   "file_extension": ".py",
   "mimetype": "text/x-python",
   "name": "python",
   "nbconvert_exporter": "python",
   "pygments_lexer": "ipython3",
   "version": "3.7.11"
  }
 },
 "nbformat": 4,
 "nbformat_minor": 5
}
