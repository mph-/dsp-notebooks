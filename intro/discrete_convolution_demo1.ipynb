{
 "cells": [
  {
   "cell_type": "markdown",
   "metadata": {},
   "source": [
    "# Discrete-time convolution demo"
   ]
  },
  {
   "cell_type": "markdown",
   "metadata": {},
   "source": [
    "Discrete convolution has a difference equation:\n",
    "\n",
    "$y[n] = \\sum_{m=0}^{M-1} h[m] x[n - m]$,\n",
    "\n",
    "where $h[m]$ is the impulse response.\n",
    "\n",
    "If $x$ has an extent $N_x$ and $h$ has an extent $N_h$, the extent of $y$ is $N_y = N_x + N_h - 1$."
   ]
  },
  {
   "cell_type": "code",
   "execution_count": 1,
   "metadata": {
    "scrolled": false
   },
   "outputs": [
    {
     "data": {
      "application/vnd.jupyter.widget-view+json": {
       "model_id": "30138b3425544762b9f15d91aeab54a1",
       "version_major": 2,
       "version_minor": 0
      },
      "text/plain": [
       "interactive(children=(Text(value='{_1, 2, 3}', description='x'), Text(value='{_0.5, 0.5}', description='h'), I…"
      ]
     },
     "metadata": {},
     "output_type": "display_data"
    }
   ],
   "source": [
    "%matplotlib inline\n",
    "from demos import dt_convolution_demo1\n",
    "dt_convolution_demo1();"
   ]
  }
 ],
 "metadata": {
  "kernelspec": {
   "display_name": "Python 3",
   "language": "python",
   "name": "python3"
  },
  "language_info": {
   "codemirror_mode": {
    "name": "ipython",
    "version": 3
   },
   "file_extension": ".py",
   "mimetype": "text/x-python",
   "name": "python",
   "nbconvert_exporter": "python",
   "pygments_lexer": "ipython3",
   "version": "3.7.7"
  }
 },
 "nbformat": 4,
 "nbformat_minor": 2
}
