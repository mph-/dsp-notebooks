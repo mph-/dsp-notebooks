{
 "cells": [
  {
   "cell_type": "markdown",
   "metadata": {},
   "source": [
    "# System responses"
   ]
  },
  {
   "cell_type": "code",
   "execution_count": null,
   "metadata": {},
   "outputs": [],
   "source": [
    "%matplotlib inline\n",
    "from demos import polezero_demo1, polezero_demo2, polezero_demo3, polezero_demo4"
   ]
  },
  {
   "cell_type": "markdown",
   "metadata": {},
   "source": [
    "## First order system\n",
    "\n",
    "The transfer function (with unity DC gain) is\n",
    "$$ H(s) = \\frac{\\alpha}{s + \\alpha},$$\n",
    "with a single pole at\n",
    "$$s = -\\alpha.$$\n",
    "\n",
    "The corresponding impulse response is\n",
    "$$ h(t) = \\alpha e^{-\\alpha t} u(t),$$\n",
    "and the step response is\n",
    "$$ g(t) = \\left(1 - e^{-\\alpha t}\\right) u(t).$$\n"
   ]
  },
  {
   "cell_type": "code",
   "execution_count": 5,
   "metadata": {
    "scrolled": true
   },
   "outputs": [
    {
     "data": {
      "application/vnd.jupyter.widget-view+json": {
       "model_id": "189f75749d204dba92e29a6f5a20789b",
       "version_major": 2,
       "version_minor": 0
      },
      "text/plain": [
       "interactive(children=(IntSlider(value=5, description='alpha', max=20, min=-2), Dropdown(description='mode', op…"
      ]
     },
     "metadata": {},
     "output_type": "display_data"
    }
   ],
   "source": [
    "polezero_demo1()\n"
   ]
  },
  {
   "cell_type": "markdown",
   "metadata": {},
   "source": [
    "## Second order system with two complex conjugate poles\n",
    "\n",
    "$$ H(s) = \\frac{\\alpha_1^2 + \\omega_1^2}{(s + \\alpha_1 - \\mathrm{j} \\omega_1) (s + \\alpha_1 + \\mathrm{j}\\omega_1)}.$$\n",
    "The poles are at\n",
    "$$s = - \\alpha_1 \\pm \\mathrm{j} \\omega_1.$$\n"
   ]
  },
  {
   "cell_type": "code",
   "execution_count": 6,
   "metadata": {},
   "outputs": [
    {
     "data": {
      "application/vnd.jupyter.widget-view+json": {
       "model_id": "fea1ef93355d488b823b24cc2ea5d20b",
       "version_major": 2,
       "version_minor": 0
      },
      "text/plain": [
       "interactive(children=(IntSlider(value=5, description='alpha1', max=20, min=-2), IntSlider(value=10, descriptio…"
      ]
     },
     "metadata": {},
     "output_type": "display_data"
    }
   ],
   "source": [
    "polezero_demo2()"
   ]
  },
  {
   "cell_type": "markdown",
   "metadata": {},
   "source": [
    "## Third order system with one real pole and two complex conjugate poles\n",
    "\n",
    "$$ H(s) = \\frac{\\alpha_2\\left(\\alpha_1^2 + \\omega_1^2\\right)}{(s + \\alpha_1 - \\mathrm{j} \\omega_1) (s + \\alpha_1 + \\mathrm{j}\\omega_1)(s + \\alpha_2)}.$$\n",
    "\n",
    "The poles are at\n",
    "$$s = - \\alpha_1 \\pm \\mathrm{j} \\omega_1, -\\alpha_2.$$\n"
   ]
  },
  {
   "cell_type": "code",
   "execution_count": 7,
   "metadata": {},
   "outputs": [
    {
     "data": {
      "application/vnd.jupyter.widget-view+json": {
       "model_id": "4c135387d1354be09a5427210b1cef20",
       "version_major": 2,
       "version_minor": 0
      },
      "text/plain": [
       "interactive(children=(IntSlider(value=5, description='alpha1', max=20, min=-2), IntSlider(value=10, descriptio…"
      ]
     },
     "metadata": {},
     "output_type": "display_data"
    }
   ],
   "source": [
    "polezero_demo3()"
   ]
  },
  {
   "cell_type": "markdown",
   "metadata": {},
   "source": [
    "## Third order system with one zero, one real pole, and two complex conjugate poles\n",
    "\n",
    "$$ H(s) = \\frac{\\alpha_2\\left(\\alpha_1^2 + \\omega_1^2\\right)(s + \\beta_1)}{\\beta_1 (s + \\alpha_1 - \\mathrm{j} \\omega_1) (s + \\alpha_1 + \\mathrm{j}\\omega_1)(s + \\alpha_2)}.$$\n",
    "\n",
    "The poles are at\n",
    "$$s = - \\alpha_1 \\pm \\mathrm{j} \\omega_1, -\\alpha_2$$\n",
    "and the zero is at\n",
    "$$s = -\\beta_1.$$"
   ]
  },
  {
   "cell_type": "code",
   "execution_count": 8,
   "metadata": {},
   "outputs": [
    {
     "data": {
      "application/vnd.jupyter.widget-view+json": {
       "model_id": "99b228d066c14354b638fcd3b9fe3df7",
       "version_major": 2,
       "version_minor": 0
      },
      "text/plain": [
       "interactive(children=(IntSlider(value=5, description='alpha1', max=20, min=-2), IntSlider(value=10, descriptio…"
      ]
     },
     "metadata": {},
     "output_type": "display_data"
    }
   ],
   "source": [
    "polezero_demo4()"
   ]
  }
 ],
 "metadata": {
  "kernelspec": {
   "display_name": "Python 3",
   "language": "python",
   "name": "python3"
  },
  "language_info": {
   "codemirror_mode": {
    "name": "ipython",
    "version": 3
   },
   "file_extension": ".py",
   "mimetype": "text/x-python",
   "name": "python",
   "nbconvert_exporter": "python",
   "pygments_lexer": "ipython3",
   "version": "3.5.2"
  }
 },
 "nbformat": 4,
 "nbformat_minor": 2
}
