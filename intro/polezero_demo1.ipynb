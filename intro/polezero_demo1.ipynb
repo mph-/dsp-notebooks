{
 "cells": [
  {
   "cell_type": "markdown",
   "metadata": {},
   "source": [
    "# First order system\n",
    "\n",
    "The transfer function is\n",
    "$$ H(s) = \\frac{\\alpha_1}{s + \\alpha_1},$$\n",
    "with a single pole at\n",
    "$$s = -\\alpha_1.$$\n",
    "\n",
    "The corresponding impulse response is\n",
    "$$ h(t) = -\\alpha_1 e^{-\\alpha_1 t} u(t),$$\n",
    "and the step response is\n",
    "$$ g(t) = \\left(1 - e^{-\\alpha_1 t}\\right) u(t).$$\n"
   ]
  },
  {
   "cell_type": "code",
   "execution_count": 1,
   "metadata": {
    "scrolled": true
   },
   "outputs": [
    {
     "data": {
      "application/vnd.jupyter.widget-view+json": {
       "model_id": "06014537e7e64ff9a21bc43912c19bde",
       "version_major": 2,
       "version_minor": 0
      },
      "text/plain": [
       "interactive(children=(IntSlider(value=5, description='alpha1', max=20, min=-2), Checkbox(value=True, descripti…"
      ]
     },
     "metadata": {},
     "output_type": "display_data"
    }
   ],
   "source": [
    "%matplotlib inline\n",
    "from demos import polezero_demo1\n",
    "polezero_demo1()\n"
   ]
  },
  {
   "cell_type": "markdown",
   "metadata": {},
   "source": [
    "# Second order system with two complex conjugate poles\n",
    "\n",
    "$$ H(s) = \\frac{\\alpha_1^2 + \\omega_1^2}{(s + \\alpha_1 - \\mathrm{j} \\omega_1) (s + \\alpha_1 + \\mathrm{j}\\omega_1)}.$$\n",
    "The poles are at\n",
    "$$s = - \\alpha_1 \\pm \\mathrm{j} \\omega_1.$$\n"
   ]
  },
  {
   "cell_type": "code",
   "execution_count": 2,
   "metadata": {},
   "outputs": [
    {
     "data": {
      "application/vnd.jupyter.widget-view+json": {
       "model_id": "7bb3da5dba384436878c79c441bbbd66",
       "version_major": 2,
       "version_minor": 0
      },
      "text/plain": [
       "interactive(children=(IntSlider(value=5, description='alpha1', max=20, min=-2), IntSlider(value=10, descriptio…"
      ]
     },
     "metadata": {},
     "output_type": "display_data"
    }
   ],
   "source": [
    "%matplotlib inline\n",
    "from demos import polezero_demo2\n",
    "polezero_demo2()"
   ]
  },
  {
   "cell_type": "markdown",
   "metadata": {},
   "source": [
    "# Third order system with one real pole and two complex conjugate poles\n",
    "\n",
    "$$ H(s) = \\frac{\\alpha_2\\left(\\alpha_1^2 + \\omega_1^2\\right)}{(s + \\alpha_1 - \\mathrm{j} \\omega_1) (s + \\alpha_1 + \\mathrm{j}\\omega_1)(s + \\alpha_2)}.$$\n",
    "\n"
   ]
  },
  {
   "cell_type": "code",
   "execution_count": 3,
   "metadata": {},
   "outputs": [
    {
     "data": {
      "application/vnd.jupyter.widget-view+json": {
       "model_id": "629e1e57dd3c46afbc31055d43f98c42",
       "version_major": 2,
       "version_minor": 0
      },
      "text/plain": [
       "interactive(children=(IntSlider(value=5, description='alpha1', max=20, min=-2), IntSlider(value=10, descriptio…"
      ]
     },
     "metadata": {},
     "output_type": "display_data"
    }
   ],
   "source": [
    "%matplotlib inline\n",
    "from demos import polezero_demo3\n",
    "polezero_demo3()"
   ]
  }
 ],
 "metadata": {
  "kernelspec": {
   "display_name": "Python 3",
   "language": "python",
   "name": "python3"
  },
  "language_info": {
   "codemirror_mode": {
    "name": "ipython",
    "version": 3
   },
   "file_extension": ".py",
   "mimetype": "text/x-python",
   "name": "python",
   "nbconvert_exporter": "python",
   "pygments_lexer": "ipython3",
   "version": "3.5.2"
  }
 },
 "nbformat": 4,
 "nbformat_minor": 2
}
