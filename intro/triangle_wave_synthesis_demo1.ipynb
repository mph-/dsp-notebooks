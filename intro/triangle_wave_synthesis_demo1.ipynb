{
 "cells": [
  {
   "cell_type": "markdown",
   "metadata": {},
   "source": [
    "# Triangle wave synthesis"
   ]
  },
  {
   "cell_type": "markdown",
   "metadata": {},
   "source": [
    "Any discrete-time triangle wave signal can be synthesised using a number of sinewaves using a Fourier series.\n",
    "\n",
    "$$x(t) =  \\sum_{k=0}^{K} A_k \\sin(2\\pi k f_0 t),$$\n",
    "\n",
    "where $f_0$ is the fundamental frequency and\n",
    "\n",
    "$$A_k = \\left\\{ \\begin{array}{lll} 0 & k & \\mbox{even} \\\\ \\frac{8 (-1)^{k // 2}}{\\pi^2 k^2} & k & \\mbox{odd} \\end{array}\\right.$$\n",
    "\n",
    "Here, $k // 2$ denotes integer division by 2. The signal has a period $T = 1 / f_0$.  The larger the value of $M$ the closer the approximation to a triangle wave.\n",
    "\n",
    "In the simulation $t = n\\Delta t$, where $\\Delta t = 1 / f_s$ is the sampling period, and $f_s$ is the sampling frequency."
   ]
  },
  {
   "cell_type": "code",
   "execution_count": 1,
   "metadata": {},
   "outputs": [
    {
     "data": {
      "application/vnd.jupyter.widget-view+json": {
       "model_id": "8f9ac5c9f0964a41a0d3537958219c84",
       "version_major": 2,
       "version_minor": 0
      },
      "text/plain": [
       "interactive(children=(IntSlider(value=10, description='K', min=1), IntSlider(value=2, description='f0', max=10…"
      ]
     },
     "metadata": {},
     "output_type": "display_data"
    }
   ],
   "source": [
    "%matplotlib inline\n",
    "from demos import triangle_wave_synthesis_demo1\n",
    "triangle_wave_synthesis_demo1();"
   ]
  },
  {
   "cell_type": "markdown",
   "metadata": {},
   "source": [
    "The triangle wave requires fewer harmonics than a [square wave](square_wave_synthesis_demo1.ipynb) for the same accuracy.  This is because the amplitude of the harmonics decrease more rapidly for a triangle wave compared to a square wave.  With a triangle wave they decrease with the square of the harmonic number; with a square wave they decrease with the harmonic number."
   ]
  }
 ],
 "metadata": {
  "kernelspec": {
   "display_name": "Python 3",
   "language": "python",
   "name": "python3"
  },
  "language_info": {
   "codemirror_mode": {
    "name": "ipython",
    "version": 3
   },
   "file_extension": ".py",
   "mimetype": "text/x-python",
   "name": "python",
   "nbconvert_exporter": "python",
   "pygments_lexer": "ipython3",
   "version": "3.7.3"
  }
 },
 "nbformat": 4,
 "nbformat_minor": 2
}
