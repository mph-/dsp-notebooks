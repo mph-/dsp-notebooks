{
 "cells": [
  {
   "cell_type": "markdown",
   "metadata": {},
   "source": [
    "# Signal triangle wave synthesis demo 1"
   ]
  },
  {
   "cell_type": "markdown",
   "metadata": {},
   "source": [
    "Any discrete-time triangle wave signal can be synthesised using a number of sinewaves using a Fourier series.\n",
    "\n",
    "$$x[n] =  \\sum_{m=0}^{M} A_n \\sin(2\\pi (2 m + 1) f_0 n \\Delta t),$$\n",
    "\n",
    "where $f_0$ is the fundamental frequency, $\\Delta t = 1 / f_s$, and\n",
    "\n",
    "$$A_n = \\frac{8 (-1)^m }{\\pi^2 (2 m + 1)^2}.$$\n",
    "\n",
    "The signal has a period $T = 1 / f_0$.  The larger the value of $M$ the closer the approximation to a triangle wave."
   ]
  },
  {
   "cell_type": "code",
   "execution_count": 2,
   "metadata": {},
   "outputs": [
    {
     "data": {
      "application/vnd.jupyter.widget-view+json": {
       "model_id": "00a4fa26744d4f32956d6614c8fc1c3e",
       "version_major": 2,
       "version_minor": 0
      },
      "text/plain": [
       "interactive(children=(IntSlider(value=10, description='M', min=1), IntSlider(value=2, description='f0', max=10…"
      ]
     },
     "metadata": {},
     "output_type": "display_data"
    }
   ],
   "source": [
    "from demos import triangle_wave_synthesis_demo1\n",
    "triangle_wave_synthesis_demo1();"
   ]
  },
  {
   "cell_type": "markdown",
   "metadata": {},
   "source": [
    "The triangle wave requires fewer harmonics than a [square wave](square_wave_synthesis_demo1.ipynb) for the same accuracy.  This is because the amplitude of the harmonics descrease with the square of the harmonic number."
   ]
  }
 ],
 "metadata": {
  "kernelspec": {
   "display_name": "Python 3",
   "language": "python",
   "name": "python3"
  },
  "language_info": {
   "codemirror_mode": {
    "name": "ipython",
    "version": 3
   },
   "file_extension": ".py",
   "mimetype": "text/x-python",
   "name": "python",
   "nbconvert_exporter": "python",
   "pygments_lexer": "ipython3",
   "version": "3.5.2"
  }
 },
 "nbformat": 4,
 "nbformat_minor": 2
}
