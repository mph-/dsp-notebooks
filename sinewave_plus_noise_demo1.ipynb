{
 "cells": [
  {
   "cell_type": "markdown",
   "metadata": {},
   "source": [
    "# Sinewave plus noise demo 1"
   ]
  },
  {
   "cell_type": "markdown",
   "metadata": {},
   "source": [
    "$x[n] = s[n] + w[n]$,\n",
    "\n",
    "where the sinewave signal is\n",
    "\n",
    "$s[n] = A \\sin(2\\pi f n \\Delta t)$\n",
    "\n",
    "and the noise signal is\n",
    "\n",
    "$w[n] \\sim \\mathcal{N}(0, \\sigma)$.\n"
   ]
  },
  {
   "cell_type": "code",
   "execution_count": 3,
   "metadata": {},
   "outputs": [
    {
     "data": {
      "application/vnd.jupyter.widget-view+json": {
       "model_id": "77c7e4ed762341cc997228c99056360e",
       "version_major": 2,
       "version_minor": 0
      },
      "text/plain": [
       "interactive(children=(FloatSlider(value=1.0, description='A', max=10.0, min=1.0), FloatSlider(value=0.2, descr…"
      ]
     },
     "metadata": {},
     "output_type": "display_data"
    }
   ],
   "source": [
    "from lib import sinewave_plus_noise_demo1\n",
    "sinewave_plus_noise_demo1();"
   ]
  },
  {
   "cell_type": "markdown",
   "metadata": {},
   "source": [
    "## Signal to noise ratio"
   ]
  },
  {
   "cell_type": "markdown",
   "metadata": {},
   "source": [
    "The signal to noise ratio (SNR) is defined as the average signal power divided by the average noise power.  The average signal power is the square of the signal rms value so a sinwave of amplitude $A$ has an average signal power of $A^2 / 2$.   The average power of a noise signal is the same as its variance, $\\sigma^2$.   Thus the SNR for a sinusoid with additive noise is\n",
    "\n",
    "$\\mathrm{SNR} = \\frac{A^2}{2\\sigma^2}$.\n",
    "\n",
    "This is usually expressed in decibels (dB) using,\n",
    "\n",
    "$\\mathrm{SNR\\ dB} = 10 \\log_{10} \\frac{A^2}{2\\sigma^2}$.\n"
   ]
  },
  {
   "cell_type": "code",
   "execution_count": null,
   "metadata": {},
   "outputs": [],
   "source": []
  }
 ],
 "metadata": {
  "kernelspec": {
   "display_name": "Python 3",
   "language": "python",
   "name": "python3"
  },
  "language_info": {
   "codemirror_mode": {
    "name": "ipython",
    "version": 3
   },
   "file_extension": ".py",
   "mimetype": "text/x-python",
   "name": "python",
   "nbconvert_exporter": "python",
   "pygments_lexer": "ipython3",
   "version": "3.5.2"
  }
 },
 "nbformat": 4,
 "nbformat_minor": 2
}
